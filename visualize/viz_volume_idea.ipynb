{
 "cells": [
  {
   "cell_type": "code",
   "execution_count": 1,
   "metadata": {},
   "outputs": [],
   "source": [
    "import pyvista as pv\n",
    "import nibabel as nib\n",
    "import scipy"
   ]
  },
  {
   "cell_type": "code",
   "execution_count": 2,
   "metadata": {},
   "outputs": [],
   "source": [
    "# https://coolors.co/b8336a-726da8-7d8cc4-a0d2db-c490d1\n",
    "\n",
    "palette = [\n",
    "    '#B8336A',\n",
    "    '#726DA8',\n",
    "    '#7D8CC4',\n",
    "    '#A0D2DB',\n",
    "    '#C490D1',\n",
    "]\n",
    "dark_palette = [\n",
    "    '#4F172E',\n",
    "    '#424064',\n",
    "    '#485070',\n",
    "    '#547378',\n",
    "    '#73507C',\n",
    "]"
   ]
  },
  {
   "cell_type": "code",
   "execution_count": 5,
   "metadata": {},
   "outputs": [
    {
     "name": "stdout",
     "output_type": "stream",
     "text": [
      "(27, 27, 27)\n"
     ]
    },
    {
     "data": {
      "application/vnd.jupyter.widget-view+json": {
       "model_id": "132af765f4564541be94a500112e0fa6",
       "version_major": 2,
       "version_minor": 0
      },
      "text/plain": [
       "Widget(value='<iframe src=\"http://localhost:54855/index.html?ui=P_0x1757795e0_0&reconnect=auto\" class=\"pyvista…"
      ]
     },
     "metadata": {},
     "output_type": "display_data"
    }
   ],
   "source": [
    "data = nib.Nifti1Image.from_filename('mr_train_1015_label.nii.gz').get_fdata()\n",
    "mar = 10\n",
    "data = data[mar:-mar,mar:-mar,mar:-mar]\n",
    "plotter = pv.Plotter(\n",
    "    lighting='three lights',\n",
    "    window_size=(800, 800),\n",
    ")\n",
    "data[data>0] += 3.\n",
    "PLANE_SIZE = 25\n",
    "data = scipy.ndimage.zoom(data, .25, order=0)\n",
    "print(data.shape)\n",
    "plotter.background_color = \"white\"\n",
    "vol = pv.ImageData(dimensions=data.shape)\n",
    "vol['scalars'] = data.flatten()\n",
    "actor = plotter.add_volume(vol, cmap='magma', shade=True, opacity='sigmoid', show_scalar_bar=False)\n",
    "actor.prop.interpolation_type = 'nearest'\n",
    "\n",
    "\n",
    "centers = [\n",
    "    [17,17,17],\n",
    "    [17,17,17],\n",
    "    [17,17,12],\n",
    "    [17,17,8],\n",
    "\n",
    "]\n",
    "normals = [\n",
    "    [0,1,0],\n",
    "    [0,0,1],\n",
    "    [0,0,1],\n",
    "    [0,0,1],\n",
    "]\n",
    "sa_plane = pv.Plane(center=[17,17,17], direction=[0,0,1],\n",
    "    i_size=PLANE_SIZE, j_size=PLANE_SIZE, i_resolution=1, j_resolution=1)\n",
    "\n",
    "for ce, no in zip(centers, normals):\n",
    "    plane = pv.Plane(center=ce, direction=no,\n",
    "        i_size=PLANE_SIZE, j_size=PLANE_SIZE, i_resolution=1, j_resolution=1)\n",
    "    plotter.add_mesh(plane, color=palette[0],  opacity=0.3, show_edges=False, line_width=2)\n",
    "\n",
    "plotter.show(\n",
    "    jupyter_backend='trame',\n",
    ")\n"
   ]
  },
  {
   "cell_type": "code",
   "execution_count": 4,
   "metadata": {},
   "outputs": [
    {
     "ename": "FileNotFoundError",
     "evalue": "[Errno 2] No such file or directory: 'mr_train_1001_label.nii.gz'",
     "output_type": "error",
     "traceback": [
      "\u001b[0;31m---------------------------------------------------------------------------\u001b[0m",
      "\u001b[0;31mFileNotFoundError\u001b[0m                         Traceback (most recent call last)",
      "Cell \u001b[0;32mIn[4], line 1\u001b[0m\n\u001b[0;32m----> 1\u001b[0m data \u001b[38;5;241m=\u001b[39m \u001b[43mnib\u001b[49m\u001b[38;5;241;43m.\u001b[39;49m\u001b[43mNifti1Image\u001b[49m\u001b[38;5;241;43m.\u001b[39;49m\u001b[43mfrom_filename\u001b[49m\u001b[43m(\u001b[49m\u001b[38;5;124;43m'\u001b[39;49m\u001b[38;5;124;43mmr_train_1001_label.nii.gz\u001b[39;49m\u001b[38;5;124;43m'\u001b[39;49m\u001b[43m)\u001b[49m\u001b[38;5;241m.\u001b[39mget_fdata()\n\u001b[1;32m      2\u001b[0m mar \u001b[38;5;241m=\u001b[39m \u001b[38;5;241m10\u001b[39m\n\u001b[1;32m      3\u001b[0m data \u001b[38;5;241m=\u001b[39m data[mar:\u001b[38;5;241m-\u001b[39mmar,mar:\u001b[38;5;241m-\u001b[39mmar,mar:\u001b[38;5;241m-\u001b[39mmar]\n",
      "File \u001b[0;32m~/code/visualize/.venv/lib/python3.12/site-packages/nibabel/dataobj_images.py:503\u001b[0m, in \u001b[0;36mDataobjImage.from_filename\u001b[0;34m(klass, filename, mmap, keep_file_open)\u001b[0m\n\u001b[1;32m    501\u001b[0m     \u001b[38;5;28;01mraise\u001b[39;00m \u001b[38;5;167;01mValueError\u001b[39;00m(\u001b[38;5;124m\"\u001b[39m\u001b[38;5;124mmmap should be one of \u001b[39m\u001b[38;5;124m{\u001b[39m\u001b[38;5;124mTrue, False, \u001b[39m\u001b[38;5;124m'\u001b[39m\u001b[38;5;124mc\u001b[39m\u001b[38;5;124m'\u001b[39m\u001b[38;5;124m, \u001b[39m\u001b[38;5;124m'\u001b[39m\u001b[38;5;124mr\u001b[39m\u001b[38;5;124m'\u001b[39m\u001b[38;5;124m}\u001b[39m\u001b[38;5;124m\"\u001b[39m)\n\u001b[1;32m    502\u001b[0m file_map \u001b[38;5;241m=\u001b[39m klass\u001b[38;5;241m.\u001b[39mfilespec_to_file_map(filename)\n\u001b[0;32m--> 503\u001b[0m \u001b[38;5;28;01mreturn\u001b[39;00m \u001b[43mklass\u001b[49m\u001b[38;5;241;43m.\u001b[39;49m\u001b[43mfrom_file_map\u001b[49m\u001b[43m(\u001b[49m\u001b[43mfile_map\u001b[49m\u001b[43m,\u001b[49m\u001b[43m \u001b[49m\u001b[43mmmap\u001b[49m\u001b[38;5;241;43m=\u001b[39;49m\u001b[43mmmap\u001b[49m\u001b[43m,\u001b[49m\u001b[43m \u001b[49m\u001b[43mkeep_file_open\u001b[49m\u001b[38;5;241;43m=\u001b[39;49m\u001b[43mkeep_file_open\u001b[49m\u001b[43m)\u001b[49m\n",
      "File \u001b[0;32m~/code/visualize/.venv/lib/python3.12/site-packages/nibabel/analyze.py:959\u001b[0m, in \u001b[0;36mAnalyzeImage.from_file_map\u001b[0;34m(klass, file_map, mmap, keep_file_open)\u001b[0m\n\u001b[1;32m    957\u001b[0m     \u001b[38;5;28;01mraise\u001b[39;00m \u001b[38;5;167;01mValueError\u001b[39;00m(\u001b[38;5;124m\"\u001b[39m\u001b[38;5;124mmmap should be one of \u001b[39m\u001b[38;5;124m{\u001b[39m\u001b[38;5;124mTrue, False, \u001b[39m\u001b[38;5;124m'\u001b[39m\u001b[38;5;124mc\u001b[39m\u001b[38;5;124m'\u001b[39m\u001b[38;5;124m, \u001b[39m\u001b[38;5;124m'\u001b[39m\u001b[38;5;124mr\u001b[39m\u001b[38;5;124m'\u001b[39m\u001b[38;5;124m}\u001b[39m\u001b[38;5;124m\"\u001b[39m)\n\u001b[1;32m    958\u001b[0m hdr_fh, img_fh \u001b[38;5;241m=\u001b[39m klass\u001b[38;5;241m.\u001b[39m_get_fileholders(file_map)\n\u001b[0;32m--> 959\u001b[0m \u001b[38;5;28;01mwith\u001b[39;00m \u001b[43mhdr_fh\u001b[49m\u001b[38;5;241;43m.\u001b[39;49m\u001b[43mget_prepare_fileobj\u001b[49m\u001b[43m(\u001b[49m\u001b[43mmode\u001b[49m\u001b[38;5;241;43m=\u001b[39;49m\u001b[38;5;124;43m'\u001b[39;49m\u001b[38;5;124;43mrb\u001b[39;49m\u001b[38;5;124;43m'\u001b[39;49m\u001b[43m)\u001b[49m \u001b[38;5;28;01mas\u001b[39;00m hdrf:\n\u001b[1;32m    960\u001b[0m     header \u001b[38;5;241m=\u001b[39m klass\u001b[38;5;241m.\u001b[39mheader_class\u001b[38;5;241m.\u001b[39mfrom_fileobj(hdrf)\n\u001b[1;32m    961\u001b[0m hdr_copy \u001b[38;5;241m=\u001b[39m header\u001b[38;5;241m.\u001b[39mcopy()\n",
      "File \u001b[0;32m~/code/visualize/.venv/lib/python3.12/site-packages/nibabel/fileholders.py:74\u001b[0m, in \u001b[0;36mFileHolder.get_prepare_fileobj\u001b[0;34m(self, *args, **kwargs)\u001b[0m\n\u001b[1;32m     72\u001b[0m     obj\u001b[38;5;241m.\u001b[39mseek(\u001b[38;5;28mself\u001b[39m\u001b[38;5;241m.\u001b[39mpos)\n\u001b[1;32m     73\u001b[0m \u001b[38;5;28;01melif\u001b[39;00m \u001b[38;5;28mself\u001b[39m\u001b[38;5;241m.\u001b[39mfilename \u001b[38;5;129;01mis\u001b[39;00m \u001b[38;5;129;01mnot\u001b[39;00m \u001b[38;5;28;01mNone\u001b[39;00m:\n\u001b[0;32m---> 74\u001b[0m     obj \u001b[38;5;241m=\u001b[39m \u001b[43mImageOpener\u001b[49m\u001b[43m(\u001b[49m\u001b[38;5;28;43mself\u001b[39;49m\u001b[38;5;241;43m.\u001b[39;49m\u001b[43mfilename\u001b[49m\u001b[43m,\u001b[49m\u001b[43m \u001b[49m\u001b[38;5;241;43m*\u001b[39;49m\u001b[43margs\u001b[49m\u001b[43m,\u001b[49m\u001b[43m \u001b[49m\u001b[38;5;241;43m*\u001b[39;49m\u001b[38;5;241;43m*\u001b[39;49m\u001b[43mkwargs\u001b[49m\u001b[43m)\u001b[49m\n\u001b[1;32m     75\u001b[0m     \u001b[38;5;28;01mif\u001b[39;00m \u001b[38;5;28mself\u001b[39m\u001b[38;5;241m.\u001b[39mpos \u001b[38;5;241m!=\u001b[39m \u001b[38;5;241m0\u001b[39m:\n\u001b[1;32m     76\u001b[0m         obj\u001b[38;5;241m.\u001b[39mseek(\u001b[38;5;28mself\u001b[39m\u001b[38;5;241m.\u001b[39mpos)\n",
      "File \u001b[0;32m~/code/visualize/.venv/lib/python3.12/site-packages/nibabel/openers.py:182\u001b[0m, in \u001b[0;36mOpener.__init__\u001b[0;34m(self, fileish, *args, **kwargs)\u001b[0m\n\u001b[1;32m    179\u001b[0m \u001b[38;5;66;03m# Clear keep_open hint if it is not relevant for the file type\u001b[39;00m\n\u001b[1;32m    180\u001b[0m \u001b[38;5;28;01melse\u001b[39;00m:\n\u001b[1;32m    181\u001b[0m     kwargs\u001b[38;5;241m.\u001b[39mpop(\u001b[38;5;124m'\u001b[39m\u001b[38;5;124mkeep_open\u001b[39m\u001b[38;5;124m'\u001b[39m, \u001b[38;5;28;01mNone\u001b[39;00m)\n\u001b[0;32m--> 182\u001b[0m \u001b[38;5;28mself\u001b[39m\u001b[38;5;241m.\u001b[39mfobj \u001b[38;5;241m=\u001b[39m \u001b[43mopener\u001b[49m\u001b[43m(\u001b[49m\u001b[43mfileish\u001b[49m\u001b[43m,\u001b[49m\u001b[43m \u001b[49m\u001b[38;5;241;43m*\u001b[39;49m\u001b[43margs\u001b[49m\u001b[43m,\u001b[49m\u001b[43m \u001b[49m\u001b[38;5;241;43m*\u001b[39;49m\u001b[38;5;241;43m*\u001b[39;49m\u001b[43mkwargs\u001b[49m\u001b[43m)\u001b[49m\n\u001b[1;32m    183\u001b[0m \u001b[38;5;28mself\u001b[39m\u001b[38;5;241m.\u001b[39m_name \u001b[38;5;241m=\u001b[39m fileish\n\u001b[1;32m    184\u001b[0m \u001b[38;5;28mself\u001b[39m\u001b[38;5;241m.\u001b[39mme_opened \u001b[38;5;241m=\u001b[39m \u001b[38;5;28;01mTrue\u001b[39;00m\n",
      "File \u001b[0;32m~/code/visualize/.venv/lib/python3.12/site-packages/nibabel/openers.py:91\u001b[0m, in \u001b[0;36m_gzip_open\u001b[0;34m(filename, mode, compresslevel, mtime, keep_open)\u001b[0m\n\u001b[1;32m     82\u001b[0m \u001b[38;5;28;01mdef\u001b[39;00m \u001b[38;5;21m_gzip_open\u001b[39m(\n\u001b[1;32m     83\u001b[0m     filename: \u001b[38;5;28mstr\u001b[39m,\n\u001b[1;32m     84\u001b[0m     mode: Mode \u001b[38;5;241m=\u001b[39m \u001b[38;5;124m'\u001b[39m\u001b[38;5;124mrb\u001b[39m\u001b[38;5;124m'\u001b[39m,\n\u001b[0;32m   (...)\u001b[0m\n\u001b[1;32m     87\u001b[0m     keep_open: \u001b[38;5;28mbool\u001b[39m \u001b[38;5;241m=\u001b[39m \u001b[38;5;28;01mFalse\u001b[39;00m,\n\u001b[1;32m     88\u001b[0m ) \u001b[38;5;241m-\u001b[39m\u001b[38;5;241m>\u001b[39m gzip\u001b[38;5;241m.\u001b[39mGzipFile:\n\u001b[1;32m     90\u001b[0m     \u001b[38;5;28;01mif\u001b[39;00m \u001b[38;5;129;01mnot\u001b[39;00m HAVE_INDEXED_GZIP \u001b[38;5;129;01mor\u001b[39;00m mode \u001b[38;5;241m!=\u001b[39m \u001b[38;5;124m'\u001b[39m\u001b[38;5;124mrb\u001b[39m\u001b[38;5;124m'\u001b[39m:\n\u001b[0;32m---> 91\u001b[0m         gzip_file \u001b[38;5;241m=\u001b[39m \u001b[43mDeterministicGzipFile\u001b[49m\u001b[43m(\u001b[49m\u001b[43mfilename\u001b[49m\u001b[43m,\u001b[49m\u001b[43m \u001b[49m\u001b[43mmode\u001b[49m\u001b[43m,\u001b[49m\u001b[43m \u001b[49m\u001b[43mcompresslevel\u001b[49m\u001b[43m,\u001b[49m\u001b[43m \u001b[49m\u001b[43mmtime\u001b[49m\u001b[38;5;241;43m=\u001b[39;49m\u001b[43mmtime\u001b[49m\u001b[43m)\u001b[49m\n\u001b[1;32m     93\u001b[0m     \u001b[38;5;66;03m# use indexed_gzip if possible for faster read access.  If keep_open ==\u001b[39;00m\n\u001b[1;32m     94\u001b[0m     \u001b[38;5;66;03m# True, we tell IndexedGzipFile to keep the file handle open. Otherwise\u001b[39;00m\n\u001b[1;32m     95\u001b[0m     \u001b[38;5;66;03m# the IndexedGzipFile will close/open the file on each read.\u001b[39;00m\n\u001b[1;32m     96\u001b[0m     \u001b[38;5;28;01melse\u001b[39;00m:\n\u001b[1;32m     97\u001b[0m         gzip_file \u001b[38;5;241m=\u001b[39m IndexedGzipFile(filename, drop_handles\u001b[38;5;241m=\u001b[39m\u001b[38;5;129;01mnot\u001b[39;00m keep_open)\n",
      "File \u001b[0;32m~/code/visualize/.venv/lib/python3.12/site-packages/nibabel/openers.py:72\u001b[0m, in \u001b[0;36mDeterministicGzipFile.__init__\u001b[0;34m(self, filename, mode, compresslevel, fileobj, mtime)\u001b[0m\n\u001b[1;32m     70\u001b[0m         \u001b[38;5;28;01mraise\u001b[39;00m \u001b[38;5;167;01mTypeError\u001b[39;00m(\u001b[38;5;124m'\u001b[39m\u001b[38;5;124mMust define either fileobj or filename\u001b[39m\u001b[38;5;124m'\u001b[39m)\n\u001b[1;32m     71\u001b[0m     \u001b[38;5;66;03m# Cast because GzipFile.myfileobj has type io.FileIO while open returns ty.IO\u001b[39;00m\n\u001b[0;32m---> 72\u001b[0m     fileobj \u001b[38;5;241m=\u001b[39m \u001b[38;5;28mself\u001b[39m\u001b[38;5;241m.\u001b[39mmyfileobj \u001b[38;5;241m=\u001b[39m ty\u001b[38;5;241m.\u001b[39mcast(io\u001b[38;5;241m.\u001b[39mFileIO, \u001b[38;5;28;43mopen\u001b[39;49m\u001b[43m(\u001b[49m\u001b[43mfilename\u001b[49m\u001b[43m,\u001b[49m\u001b[43m \u001b[49m\u001b[43mmodestr\u001b[49m\u001b[43m)\u001b[49m)\n\u001b[1;32m     73\u001b[0m \u001b[38;5;28;01mreturn\u001b[39;00m \u001b[38;5;28msuper\u001b[39m()\u001b[38;5;241m.\u001b[39m\u001b[38;5;21m__init__\u001b[39m(\n\u001b[1;32m     74\u001b[0m     filename\u001b[38;5;241m=\u001b[39m\u001b[38;5;124m'\u001b[39m\u001b[38;5;124m'\u001b[39m,\n\u001b[1;32m     75\u001b[0m     mode\u001b[38;5;241m=\u001b[39mmodestr,\n\u001b[0;32m   (...)\u001b[0m\n\u001b[1;32m     78\u001b[0m     mtime\u001b[38;5;241m=\u001b[39mmtime,\n\u001b[1;32m     79\u001b[0m )\n",
      "\u001b[0;31mFileNotFoundError\u001b[0m: [Errno 2] No such file or directory: 'mr_train_1001_label.nii.gz'"
     ]
    }
   ],
   "source": [
    "data = nib.Nifti1Image.from_filename('mr_train_1015_label.nii.gz').get_fdata()\n",
    "mar = 10\n",
    "data = data[mar:-mar,mar:-mar,mar:-mar]\n",
    "plotter = pv.Plotter(\n",
    "    lighting='three lights',\n",
    "    window_size=(800, 800),\n",
    ")\n",
    "data[data>0] += 3.\n",
    "PLANE_SIZE = 80\n",
    "# data = scipy.ndimage.zoom(data, .25, order=0)\n",
    "print(data.shape)\n",
    "plotter.background_color = \"white\"\n",
    "vol = pv.ImageData(dimensions=data.shape)\n",
    "vol['scalars'] = data.flatten()\n",
    "actor = plotter.add_volume(vol, cmap='magma', shade=True, opacity='sigmoid', show_scalar_bar=False)\n",
    "actor.prop.interpolation_type = 'nearest'\n",
    "\n",
    "\n",
    "centers = [\n",
    "    [70,70,70],\n",
    "    [70,70,70],\n",
    "\n",
    "]\n",
    "normals = [\n",
    "    [1,1,0],\n",
    "    [0,1,1],\n",
    "]\n",
    "\n",
    "for ce, no in zip(centers, normals):\n",
    "    plane = pv.Plane(center=ce, direction=no,\n",
    "        i_size=PLANE_SIZE, j_size=PLANE_SIZE, i_resolution=1, j_resolution=1)\n",
    "    plotter.add_mesh(plane, color=palette[0],  opacity=0.3, show_edges=False, line_width=2)\n",
    "\n",
    "plotter.show(\n",
    "    jupyter_backend='trame',\n",
    ")\n"
   ]
  },
  {
   "cell_type": "code",
   "execution_count": 7,
   "metadata": {},
   "outputs": [
    {
     "name": "stdout",
     "output_type": "stream",
     "text": [
      "(140, 140, 140)\n"
     ]
    },
    {
     "data": {
      "application/vnd.jupyter.widget-view+json": {
       "model_id": "997872fd60d14b9e928a617af927f9a4",
       "version_major": 2,
       "version_minor": 0
      },
      "text/plain": [
       "Widget(value='<iframe src=\"http://localhost:53428/index.html?ui=P_0x29cc23620_4&reconnect=auto\" class=\"pyvista…"
      ]
     },
     "metadata": {},
     "output_type": "display_data"
    }
   ],
   "source": [
    "data = nib.Nifti1Image.from_filename('mr_train_1015_label.nii.gz').get_fdata()\n",
    "mar = 10\n",
    "data = data[mar:-mar,mar:-mar,mar:-mar]\n",
    "plotter = pv.Plotter(\n",
    "    lighting='three lights',\n",
    "    window_size=(800, 800),\n",
    ")\n",
    "data[data>0] += 3.\n",
    "PLANE_SIZE = 80\n",
    "# data = scipy.ndimage.zoom(data, .25, order=0)\n",
    "print(data.shape)\n",
    "plotter.background_color = \"white\"\n",
    "vol = pv.ImageData(dimensions=data.shape)\n",
    "vol['scalars'] = data.flatten()\n",
    "actor = plotter.add_volume(vol, cmap='magma', shade=True, opacity='sigmoid', show_scalar_bar=False)\n",
    "actor.prop.interpolation_type = 'nearest'\n",
    "\n",
    "\n",
    "centers = [\n",
    "    [70,70,70],\n",
    "\n",
    "]\n",
    "normals = [\n",
    "    [1,1,1],\n",
    "]\n",
    "\n",
    "for ce, no in zip(centers, normals):\n",
    "    plane = pv.Plane(center=ce, direction=no,\n",
    "        i_size=PLANE_SIZE, j_size=PLANE_SIZE, i_resolution=1, j_resolution=1)\n",
    "    plotter.add_mesh(plane, color=palette[0],  opacity=0.3, show_edges=False, line_width=2)\n",
    "\n",
    "plotter.show(\n",
    "    jupyter_backend='trame',\n",
    ")\n"
   ]
  },
  {
   "cell_type": "code",
   "execution_count": null,
   "metadata": {},
   "outputs": [],
   "source": []
  }
 ],
 "metadata": {
  "kernelspec": {
   "display_name": ".venv",
   "language": "python",
   "name": "python3"
  },
  "language_info": {
   "codemirror_mode": {
    "name": "ipython",
    "version": 3
   },
   "file_extension": ".py",
   "mimetype": "text/x-python",
   "name": "python",
   "nbconvert_exporter": "python",
   "pygments_lexer": "ipython3",
   "version": "3.12.0"
  }
 },
 "nbformat": 4,
 "nbformat_minor": 2
}
