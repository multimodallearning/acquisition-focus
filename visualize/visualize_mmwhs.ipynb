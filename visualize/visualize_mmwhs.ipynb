{
 "cells": [
  {
   "cell_type": "code",
   "execution_count": 1,
   "metadata": {},
   "outputs": [
    {
     "name": "stderr",
     "output_type": "stream",
     "text": [
      "/var/folders/d1/jgnvf7q17hdbbt4mqz9gljph0000gn/T/ipykernel_51346/3869993245.py:9: DeprecationWarning: \n",
      "Pyarrow will become a required dependency of pandas in the next major release of pandas (pandas 3.0),\n",
      "(to allow more performant data types, such as the Arrow string type, and better interoperability with other libraries)\n",
      "but was not found to be installed on your system.\n",
      "If this would cause problems for you,\n",
      "please provide us feedback at https://github.com/pandas-dev/pandas/issues/54466\n",
      "        \n",
      "  import pandas as pd\n"
     ]
    },
    {
     "ename": "AssertionError",
     "evalue": "Caution: pyvista plots require a machine with attached physical display or a display emulation (Xvfb package) - otherwise the kernel may die when generating renderings.",
     "output_type": "error",
     "traceback": [
      "\u001b[0;31m---------------------------------------------------------------------------\u001b[0m",
      "\u001b[0;31mAssertionError\u001b[0m                            Traceback (most recent call last)",
      "Cell \u001b[0;32mIn[1], line 13\u001b[0m\n\u001b[1;32m     10\u001b[0m \u001b[38;5;28;01mfrom\u001b[39;00m \u001b[38;5;21;01mtqdm\u001b[39;00m \u001b[38;5;28;01mimport\u001b[39;00m tqdm\n\u001b[1;32m     11\u001b[0m \u001b[38;5;28;01mfrom\u001b[39;00m \u001b[38;5;21;01mnifti_utils\u001b[39;00m \u001b[38;5;28;01mimport\u001b[39;00m get_zooms, rescale_rot_components_with_diag\n\u001b[0;32m---> 13\u001b[0m \u001b[38;5;28;01massert\u001b[39;00m \u001b[38;5;28;01mFalse\u001b[39;00m, \u001b[38;5;124m\"\u001b[39m\u001b[38;5;124mCaution: pyvista plots require a machine with attached physical display or a display emulation (Xvfb package) - otherwise the kernel may die when generating renderings.\u001b[39m\u001b[38;5;124m\"\u001b[39m\n",
      "\u001b[0;31mAssertionError\u001b[0m: Caution: pyvista plots require a machine with attached physical display or a display emulation (Xvfb package) - otherwise the kernel may die when generating renderings."
     ]
    }
   ],
   "source": [
    "from pathlib import Path\n",
    "import numpy as np\n",
    "import torch\n",
    "import nibabel as nib\n",
    "import re\n",
    "import pyvista as pv\n",
    "import nibabel as nib\n",
    "import dill\n",
    "import pandas as pd\n",
    "from tqdm import tqdm\n",
    "from nifti_utils import get_zooms, rescale_rot_components_with_diag\n",
    "\n",
    "assert False, \"Caution: pyvista plots require a machine with attached physical display or a display emulation (Xvfb package) - otherwise the kernel may die when generating renderings.\""
   ]
  },
  {
   "attachments": {},
   "cell_type": "markdown",
   "metadata": {},
   "source": [
    "# Read params from files"
   ]
  },
  {
   "cell_type": "code",
   "execution_count": 11,
   "metadata": {},
   "outputs": [],
   "source": [
    "def get_params(params_dir, view):\n",
    "    df = None\n",
    "    params_files = sorted(list(params_dir.glob(f'{view}_params*.pt*')))\n",
    "    for fl in params_files:\n",
    "\n",
    "        mt = re.match(r\".*(train|val|test).*?([0-9]{1,5})\\.pt\", str(fl))\n",
    "        phase, epoch = mt[1], int(mt[2])\n",
    "        param_dict = torch.load(fl)\n",
    "        affine_dict = param_dict[f'epx_{view}_theta_grid_affines']\n",
    "        ids = list(zip(*sorted(affine_dict.items())))[0]\n",
    "        affines = list(zip(*sorted(affine_dict.items())))[1]\n",
    "\n",
    "        data = dict(\n",
    "            view=view,\n",
    "            sample=ids,\n",
    "            epoch=epoch,\n",
    "            grid_affine=[a.detach() for a in affine_dict.values()],\n",
    "            phase=phase,\n",
    "        )\n",
    "\n",
    "        if df is None:\n",
    "            df = pd.DataFrame(data)\n",
    "        else:\n",
    "            df = pd.concat([df, pd.DataFrame(data)], ignore_index=True)\n",
    "\n",
    "    return df"
   ]
  },
  {
   "cell_type": "code",
   "execution_count": 12,
   "metadata": {},
   "outputs": [],
   "source": [
    "params_dir = Path(\"/Users/christianweihsbach/code/visualize/20240201__16_29_09_sleek-design_fold-1_stage-opt_first/val\")\n",
    "sa_df = get_params(params_dir, 'sa')\n",
    "\n",
    "params_dir = Path(\"/Users/christianweihsbach/code/visualize/20240201__16_29_09_sleek-design_fold-1_stage-opt_second/val\")\n",
    "hla_df = get_params(params_dir, 'hla')\n",
    "\n",
    "df = pd.concat([sa_df, hla_df], ignore_index=True)"
   ]
  },
  {
   "attachments": {},
   "cell_type": "markdown",
   "metadata": {},
   "source": [
    "# Create mesh from shape voxels"
   ]
  },
  {
   "cell_type": "code",
   "execution_count": 13,
   "metadata": {},
   "outputs": [],
   "source": [
    "import numpy as np\n",
    "import torch\n",
    "import h5py\n",
    "# import pymeshfix as mf\n",
    "import nibabel as nib\n",
    "import pyvista as pv\n",
    "from pathlib import Path\n",
    "from skimage import measure\n",
    "from matplotlib import pyplot as plt"
   ]
  },
  {
   "cell_type": "code",
   "execution_count": 14,
   "metadata": {},
   "outputs": [],
   "source": [
    "nii_shape = nib.load(\"mr_train_1015_label.nii.gz\")\n",
    "shape_data = torch.as_tensor(nii_shape.get_fdata()).long()"
   ]
  },
  {
   "cell_type": "code",
   "execution_count": 15,
   "metadata": {},
   "outputs": [],
   "source": [
    "shape_affine = torch.as_tensor(nii_shape.affine)\n",
    "image_sample = nib.load(\"mr_train_1015_image.nii.gz\").get_fdata()\n",
    "SPACING = (1.,1.,1.)\n",
    "STEP_SIZE = 2\n",
    "CLASSES = ['background', 'MYO', 'LV', 'RV', 'LA', 'RA']\n",
    "\n",
    "heart_data = {}\n",
    "for class_idx, tag in enumerate(CLASSES):\n",
    "    if class_idx == 0: continue\n",
    "\n",
    "    sub_label = torch.nn.functional.one_hot(shape_data.long(), len(CLASSES))[:,:,:, class_idx]\n",
    "    verts, faces, normals, values = measure.marching_cubes(sub_label.cpu().numpy(), spacing=SPACING, step_size=STEP_SIZE)\n",
    "    mm_verts = torch.cat([torch.tensor(verts.copy()), torch.ones(len(verts),1)], dim=1)\n",
    "    mm_verts = (shape_affine @ mm_verts.T.double()).T[:,:3]\n",
    "\n",
    "    data = dict(\n",
    "        verts=torch.as_tensor(mm_verts.numpy().copy()),\n",
    "        faces=torch.as_tensor(faces.copy()),\n",
    "        normals=torch.as_tensor(normals.copy()),\n",
    "        values=torch.as_tensor(values.copy())\n",
    "    )\n",
    "    heart_data[tag] = data"
   ]
  },
  {
   "cell_type": "code",
   "execution_count": 16,
   "metadata": {},
   "outputs": [],
   "source": [
    "sa_grid_affine = df.query('sample == \"mr_1015\" & view == \"sa\" & epoch == 79')['grid_affine'].values[0][None]\n",
    "hla_grid_affine = df.query('sample == \"mr_1015\" & view == \"hla\" & epoch == 79')['grid_affine'].values[0][None]\n",
    "\n",
    "sa_grid_affine = rescale_rot_components_with_diag(sa_grid_affine, 1/get_zooms(sa_grid_affine))\n",
    "hla_grid_affine = rescale_rot_components_with_diag(hla_grid_affine, 1/get_zooms(hla_grid_affine))"
   ]
  },
  {
   "cell_type": "code",
   "execution_count": 17,
   "metadata": {},
   "outputs": [],
   "source": [
    "from nifti_utils import nifti_grid_sample\n",
    "FOV_MM = torch.tensor([192.,192.,192])\n",
    "FOV_VOX = torch.tensor([128,128,128])\n",
    "\n",
    "with torch.no_grad():\n",
    "    sa_label, _, sa_affine = nifti_grid_sample(shape_data[None,None], shape_affine[None], None,\n",
    "        fov_mm=FOV_MM, fov_vox=FOV_VOX, is_label=True,\n",
    "        pre_grid_sample_affine=sa_grid_affine,\n",
    "    )\n",
    "\n",
    "    hla_label, _, hla_affine = nifti_grid_sample(shape_data[None,None], shape_affine[None], None,\n",
    "        fov_mm=FOV_MM, fov_vox=FOV_VOX, is_label=True,\n",
    "        pre_grid_sample_affine=hla_grid_affine,\n",
    "    )"
   ]
  },
  {
   "cell_type": "code",
   "execution_count": 18,
   "metadata": {},
   "outputs": [
    {
     "data": {
      "text/plain": [
       "<matplotlib.image.AxesImage at 0x14365c5f0>"
      ]
     },
     "execution_count": 18,
     "metadata": {},
     "output_type": "execute_result"
    },
    {
     "data": {
      "image/png": "[encoded data removed]",
      "text/plain": [
       "<Figure size 640x480 with 1 Axes>"
      ]
     },
     "metadata": {},
     "output_type": "display_data"
    }
   ],
   "source": [
    "plt.imshow(sa_label.squeeze()[...,64].T)"
   ]
  },
  {
   "cell_type": "code",
   "execution_count": 19,
   "metadata": {},
   "outputs": [
    {
     "data": {
      "text/plain": [
       "<matplotlib.image.AxesImage at 0x1435b8b60>"
      ]
     },
     "execution_count": 19,
     "metadata": {},
     "output_type": "execute_result"
    },
    {
     "data": {
      "image/png": "[encoded data removed]",
      "text/plain": [
       "<Figure size 640x480 with 1 Axes>"
      ]
     },
     "metadata": {},
     "output_type": "display_data"
    }
   ],
   "source": [
    "plt.imshow(hla_label[...,64].squeeze().T)"
   ]
  },
  {
   "cell_type": "code",
   "execution_count": 20,
   "metadata": {},
   "outputs": [
    {
     "name": "stdout",
     "output_type": "stream",
     "text": [
      "Transformed SA tensor([-0.3122,  0.5539,  1.3586], dtype=torch.float64) tensor([-49.4600,  34.4056, -43.0727], dtype=torch.float64)\n",
      "Transformed HLA tensor([-0.1595, -1.4251,  0.4401], dtype=torch.float64) tensor([-66.7411,  43.7925, -32.9002], dtype=torch.float64)\n"
     ]
    }
   ],
   "source": [
    "sa_normal = (sa_affine @ torch.tensor([0.,0.,1.,0.]).double())[0,:3]\n",
    "sa_support = (sa_affine @ torch.tensor([64.,64.,64.,1.]).double())[0,:3]\n",
    "print(\"Transformed SA\", sa_normal, sa_support)\n",
    "\n",
    "hla_normal = (hla_affine @ torch.tensor([0.,0.,1.,0.]).double())[0,:3]\n",
    "hla_support =(hla_affine @ torch.tensor([64.,64.,64.,1.]).double())[0,:3]\n",
    "print(\"Transformed HLA\", hla_normal, hla_support)"
   ]
  },
  {
   "cell_type": "code",
   "execution_count": 21,
   "metadata": {},
   "outputs": [],
   "source": [
    "h_vertices = heart_data['MYO']['verts']\n",
    "h_faces = heart_data['MYO']['faces']\n",
    "\n",
    "for tag, data in heart_data.items():\n",
    "    faces = data['faces']\n",
    "    num_faces = faces.shape[0]\n",
    "    num_points = torch.tensor([3]*num_faces).view(num_faces,1)\n",
    "    data['pyvista_faces'] = torch.cat([num_points, faces], dim=1)"
   ]
  },
  {
   "cell_type": "code",
   "execution_count": 22,
   "metadata": {},
   "outputs": [
    {
     "name": "stdout",
     "output_type": "stream",
     "text": [
      "[[0.550287 0.161158 0.505719 0.8     ]\n",
      " [0.792427 0.244242 0.447543 1.      ]\n",
      " [0.967671 0.439703 0.35981  1.      ]\n",
      " [0.997351 0.719089 0.493755 1.      ]\n",
      " [0.987053 0.991438 0.749504 1.      ]]\n"
     ]
    },
    {
     "data": {
      "image/png": "[encoded data removed]",
      "text/html": [
       "<div style=\"vertical-align: middle;\"><strong>magma_cut</strong> </div><div class=\"cmap\"><img alt=\"magma_cut colormap\" title=\"magma_cut\" style=\"border: 1px solid #555;\" src=\"data:image/png;base64,iVBORw0KGgoAAAANSUhEUgAAAgAAAABACAYAAABsv8+/AAAAGHRFWHRUaXRsZQBtYWdtYV9jdXQgY29sb3JtYXBRXFNqAAAAHnRFWHREZXNjcmlwdGlvbgBtYWdtYV9jdXQgY29sb3JtYXATx7XhAAAAMHRFWHRBdXRob3IATWF0cGxvdGxpYiB2My44LjIsIGh0dHBzOi8vbWF0cGxvdGxpYi5vcmcPFd4SAAAAMnRFWHRTb2Z0d2FyZQBNYXRwbG90bGliIHYzLjguMiwgaHR0cHM6Ly9tYXRwbG90bGliLm9yZyGzQTUAAAHlSURBVHic7dbNddpAGEDRGbpJly4gpaUnZWEERjIGxWaR8+7dwOjn06DD4s3fv97+jDHGHO/m+euc5891PZb1+O11l+uXm/XqOmeZd+aPr+Z8uH48mLM+Z3x+fDf/R3/vZd5cv/5fv3fMy5yxmXu58Tzv43J/fHv9Zs71/O2c3fHt9bs5zz3v6L7vP+/evpfNvGPPO7rvb7+n3b6vf/D35fnLaXx6/tF6bs+f7l3/5Jxv7+OH5hy+f94sX7eP5+Y83se/fS679/zs/adjz3t67sH9v2juq/a7nbt7/wff6/o3AABCBAAABAkAAAgSAAAQJAAAIEgAAECQAACAIAEAAEECAACCBAAABAkAAAgSAAAQJAAAIEgAAECQAACAIAEAAEECAACCBAAABAkAAAgSAAAQJAAAIEgAAECQAACAIAEAAEECAACCBAAABAkAAAgSAAAQJAAAIEgAAECQAACAIAEAAEECAACCBAAABAkAAAgSAAAQJAAAIEgAAECQAACAIAEAAEECAACCBAAABAkAAAgSAAAQJAAAIEgAAECQAACAIAEAAEECAACCBAAABAkAAAgSAAAQJAAAIEgAAECQAACAIAEAAEECAACCBAAABAkAAAgSAAAQJAAAIEgAAECQAACAoL9TmCw18nTc5AAAAABJRU5ErkJggg==\"></div><div style=\"vertical-align: middle; max-width: 514px; display: flex; justify-content: space-between;\"><div style=\"float: left;\"><div title=\"#8c2981cc\" style=\"display: inline-block; width: 1em; height: 1em; margin: 0; vertical-align: middle; border: 1px solid #555; background-color: #8c2981cc;\"></div> under</div><div style=\"margin: 0 auto; display: inline-block;\">bad <div title=\"#00000000\" style=\"display: inline-block; width: 1em; height: 1em; margin: 0; vertical-align: middle; border: 1px solid #555; background-color: #00000000;\"></div></div><div style=\"float: right;\">over <div title=\"#fcfdbfff\" style=\"display: inline-block; width: 1em; height: 1em; margin: 0; vertical-align: middle; border: 1px solid #555; background-color: #fcfdbfff;\"></div></div>"
      ],
      "text/plain": [
       "<matplotlib.colors.LinearSegmentedColormap at 0x14351dd30>"
      ]
     },
     "execution_count": 22,
     "metadata": {},
     "output_type": "execute_result"
    }
   ],
   "source": [
    "import matplotlib as mpl\n",
    "from matplotlib.colors import LinearSegmentedColormap\n",
    "# https://coolors.co/b8336a-726da8-7d8cc4-a0d2db-c490d1\n",
    "\n",
    "palette = [\n",
    "    '#B8336A',\n",
    "    '#726DA8',\n",
    "    '#7D8CC4',\n",
    "    '#A0D2DB',\n",
    "    '#C490D1',\n",
    "]\n",
    "dark_palette = [\n",
    "    '#4F172E',\n",
    "    '#424064',\n",
    "    '#485070',\n",
    "    '#547378',\n",
    "    '#73507C',\n",
    "]\n",
    "\n",
    "import matplotlib as mpl\n",
    "magma_cut = mpl.colormaps['magma'](np.linspace(.4,1.,5))\n",
    "magma_cut[0,-1] = .8\n",
    "print(magma_cut)\n",
    "cmap = LinearSegmentedColormap.from_list('magma_cut', magma_cut)\n",
    "cmap"
   ]
  },
  {
   "cell_type": "code",
   "execution_count": 23,
   "metadata": {},
   "outputs": [
    {
     "data": {
      "application/vnd.jupyter.widget-view+json": {
       "model_id": "470d1e32a22f492986cf79a2daf797e5",
       "version_major": 2,
       "version_minor": 0
      },
      "text/plain": [
       "Widget(value='<iframe src=\"http://localhost:57925/index.html?ui=P_0x143656c00_0&reconnect=auto\" class=\"pyvista…"
      ]
     },
     "metadata": {},
     "output_type": "display_data"
    },
    {
     "name": "stdout",
     "output_type": "stream",
     "text": [
      " JS Error => error: Uncaught TypeError: Cannot mix BigInt and other types, use explicit conversions\n"
     ]
    }
   ],
   "source": [
    "SHOW_FULL_MESH = True\n",
    "\n",
    "SHOW_SA_PLANE = True\n",
    "SHOW_SA_SLICE = True\n",
    "\n",
    "SHOW_HLA_PLANE = True\n",
    "SHOW_HLA_SLICE = True\n",
    "\n",
    "ORIENTATION = 'custom'\n",
    "\n",
    "assert ORIENTATION in ['custom', 'HLA', 'SA']\n",
    "\n",
    "plotter = pv.Plotter(\n",
    "    lighting='three lights'\n",
    ")\n",
    "plotter.background_color = \"white\"\n",
    "\n",
    "cpos = 'iso'\n",
    "sa_plane = pv.Plane(center=sa_support.tolist(), direction=sa_normal.tolist(), i_size=240, j_size=240, i_resolution=1, j_resolution=1)\n",
    "sa_plane.point_data.clear()\n",
    "sa_edges = sa_plane.extract_feature_edges(boundary_edges=True, feature_edges=False, manifold_edges=False)\n",
    "\n",
    "hla_plane = pv.Plane(center=hla_support.tolist(), direction=hla_normal.tolist(), i_size=240, j_size=240, i_resolution=1, j_resolution=1)\n",
    "hla_plane.point_data.clear()\n",
    "hla_edges = hla_plane.extract_feature_edges(boundary_edges=True, feature_edges=False, manifold_edges=False)\n",
    "\n",
    "full_mesh = []\n",
    "\n",
    "# Prepare meshes\n",
    "for idx, (tag, data) in enumerate(heart_data.items()):\n",
    "    surf = pv.PolyData(data['verts'].numpy(), data['pyvista_faces'].view(-1).numpy())\n",
    "    scalars=np.array([idx]*data['verts'].shape[0])\n",
    "    surf.point_data.set_scalars(scalars, 'scalars')\n",
    "    # full_mesh.append(surf)\n",
    "    smooth = surf.smooth_taubin(n_iter=100, pass_band=0.3)\n",
    "    full_mesh.append(smooth)\n",
    "\n",
    "block = pv.MultiBlock(full_mesh)\n",
    "full_mesh = block.combine(merge_points=False)\n",
    "\n",
    "sa_slice = full_mesh.slice(normal=sa_normal.tolist(), origin=sa_support.tolist())\n",
    "hla_slice = full_mesh.slice(normal=hla_normal.tolist(), origin=hla_support.tolist())\n",
    "\n",
    "if SHOW_FULL_MESH:\n",
    "    plotter.add_mesh(full_mesh, name='all', cmap=cmap, line_width=2, show_scalar_bar=False, smooth_shading=True)\n",
    "\n",
    "if SHOW_SA_SLICE:\n",
    "    plotter.add_mesh(sa_slice, name='sa_slice', cmap=cmap, line_width=2, show_scalar_bar=False)\n",
    "\n",
    "if SHOW_SA_PLANE:\n",
    "    plotter.add_mesh(sa_plane, color=palette[idx],  opacity=0.3, show_edges=False, line_width=2)\n",
    "    plotter.add_mesh(sa_edges, color=dark_palette[idx], line_width=1)\n",
    "\n",
    "if SHOW_HLA_SLICE:\n",
    "    plotter.add_mesh(hla_slice, name='hla_slice', cmap=cmap, line_width=2, show_scalar_bar=False)\n",
    "\n",
    "if SHOW_HLA_PLANE:\n",
    "    plotter.add_mesh(hla_plane, color=palette[idx],  opacity=0.3, show_edges=False, line_width=2)\n",
    "    plotter.add_mesh(hla_edges, color=dark_palette[idx], line_width=1)\n",
    "\n",
    "plotter.view_isometric()\n",
    "plotter.enable_parallel_projection()\n",
    "\n",
    "\n",
    "if ORIENTATION == 'HLA':\n",
    "    plotter.camera.position = (hla_support+hla_normal).tolist()\n",
    "    plotter.camera.focal_point = hla_support.tolist()\n",
    "    plotter.camera.up = (0.0, 1.0, 0.0)\n",
    "    CPOS = None\n",
    "    plotter.camera.zoom(1.0)\n",
    "\n",
    "\n",
    "elif ORIENTATION == 'SA':\n",
    "    plotter.camera.position = (sa_support+sa_normal).tolist()\n",
    "    plotter.camera.focal_point = sa_support.tolist()\n",
    "    plotter.camera.up = (0.0, 1.0, 0.0)\n",
    "    CPOS = None\n",
    "    plotter.camera.zoom(1.0)\n",
    "else:\n",
    "    CPOS = [(-197.83877598229623, 115.84841835647464, 308.3400332147713),\n",
    " (-60.352217898947785, -8.401068746929688, -10.565500454759558),\n",
    " (0.8644550419037054, -0.21263129938713254, 0.45552761831551225)]\n",
    "    plotter.camera.zoom(.8)\n",
    "\n",
    "\n",
    "plotter.show(\n",
    "    window_size=[1200,1200],\n",
    "    # jupyter_backend='static',\n",
    "    cpos=CPOS,\n",
    "    screenshot='optimized.png'\n",
    ")"
   ]
  },
  {
   "cell_type": "code",
   "execution_count": 28,
   "metadata": {},
   "outputs": [
    {
     "data": {
      "text/plain": [
       "[(-67.9261474609375, -585.4993896484375, -289.9613952636719),\n",
       " (-74.73036193847656, 5.15444803237915, 9.02255916595459),\n",
       " (0.7768819506757739, -0.27721852687290943, 0.5653355844740523)]"
      ]
     },
     "execution_count": 28,
     "metadata": {},
     "output_type": "execute_result"
    }
   ],
   "source": [
    "plotter.camera_position"
   ]
  },
  {
   "cell_type": "code",
   "execution_count": 29,
   "metadata": {},
   "outputs": [],
   "source": [
    "import numpy as np\n",
    "import math\n",
    "\n",
    "def rotation_matrix(axis, theta):\n",
    "    \"\"\"\n",
    "    Return the rotation matrix associated with counterclockwise rotation about\n",
    "    the given axis by theta radians.\n",
    "    \"\"\"\n",
    "    axis = axis / axis.dot(axis).sqrt()\n",
    "    a = (theta / 2.0).cos()\n",
    "    b, c, d = -axis * (theta / 2.0).sin()\n",
    "    aa, bb, cc, dd = a * a, b * b, c * c, d * d\n",
    "    bc, ad, ac, ab, bd, cd = b * c, a * d, a * c, a * b, b * d, c * d\n",
    "    return np.array([[aa + bb - cc - dd, 2 * (bc + ad), 2 * (bd - ac)],\n",
    "                     [2 * (bc - ad), aa + cc - bb - dd, 2 * (cd + ab)],\n",
    "                     [2 * (bd + ac), 2 * (cd - ab), aa + dd - bb - cc]])"
   ]
  },
  {
   "cell_type": "code",
   "execution_count": 30,
   "metadata": {},
   "outputs": [
    {
     "name": "stderr",
     "output_type": "stream",
     "text": [
      "100%|██████████| 160/160 [00:13<00:00, 11.71it/s]\n"
     ]
    }
   ],
   "source": [
    "SHOW_FULL_MESH = True\n",
    "\n",
    "PLANE_SIZE_MM = 224\n",
    "\n",
    "SHOW_SA_PLANE = True\n",
    "SHOW_SA_SLICE = True\n",
    "\n",
    "SHOW_HLA_PLANE = True\n",
    "SHOW_HLA_SLICE = True\n",
    "\n",
    "ORIENTATION = 'custom'\n",
    "assert ORIENTATION in ['custom', 'HLA', 'SA']\n",
    "\n",
    "GIF_NAME = 'anim.gif'\n",
    "\n",
    "plotter = pv.Plotter(\n",
    "    lighting='three lights'\n",
    ")\n",
    "plotter.window_size=[1200,1200]\n",
    "plotter.background_color = \"white\"\n",
    "plotter.view_isometric()\n",
    "plotter.enable_parallel_projection()\n",
    "\n",
    "if ORIENTATION == 'HLA':\n",
    "    plotter.camera.position = (hla_support+hla_normal).tolist()\n",
    "    plotter.camera.focal_point = hla_support.tolist()\n",
    "    plotter.camera.up = (0.0, 1.0, 0.0)\n",
    "    CPOS = None\n",
    "    plotter.camera.zoom(1.0)\n",
    "elif ORIENTATION == 'SA':\n",
    "    plotter.camera.position = (sa_support+sa_normal).tolist()\n",
    "    plotter.camera.focal_point = sa_support.tolist()\n",
    "    plotter.camera.up = (0.0, 1.0, 0.0)\n",
    "    CPOS = None\n",
    "    plotter.camera.zoom(.8)\n",
    "else:\n",
    "    CPOS = torch.tensor([\n",
    "        (209.2207705021671, -275.7904587797502, -518.9463886550571),\n",
    "        (-74.73036258375254, 5.154448101887414, 9.022559632140428),\n",
    "        (0.7768819378130275, -0.2772185334716578, 0.565335598914219)]\n",
    "    )\n",
    "    # plotter.camera_position = CPOS\n",
    "    plotter.camera.position = CPOS[0].numpy()\n",
    "    plotter.camera.focal_point = CPOS[1].numpy()\n",
    "    plotter.camera.up = CPOS[2].numpy()\n",
    "    plotter.camera.zoom(.003)\n",
    "\n",
    "def get_rotated_cpos_closure(camera):\n",
    "    up = torch.as_tensor(camera.up)\n",
    "    focal_point = torch.as_tensor(camera.focal_point)\n",
    "    position = torch.as_tensor(camera.position)\n",
    "\n",
    "    def set_rotated_cpos(deg_angle):\n",
    "        diff = position - focal_point\n",
    "        rot_mat = torch.as_tensor(rotation_matrix(up, deg_angle/180*np.pi))\n",
    "\n",
    "        new_diff = rot_mat @ diff\n",
    "        new_position = new_diff + focal_point\n",
    "        camera.position = new_position.numpy()\n",
    "\n",
    "    return set_rotated_cpos\n",
    "\n",
    "\n",
    "set_rotated_cpos = get_rotated_cpos_closure(plotter.camera)\n",
    "\n",
    "plotter.open_gif(GIF_NAME)\n",
    "\n",
    "full_mesh = []\n",
    "\n",
    "# Prepare meshes\n",
    "for idx, (tag, data) in enumerate(heart_data.items()):\n",
    "    surf = pv.PolyData(data['verts'].numpy(), data['pyvista_faces'].view(-1).numpy())\n",
    "    scalars=np.array([idx]*data['verts'].shape[0])\n",
    "    surf.point_data.set_scalars(scalars, 'scalars')\n",
    "    # full_mesh.append(surf)\n",
    "    smooth = surf.smooth_taubin(n_iter=100, pass_band=0.3)\n",
    "    full_mesh.append(smooth)\n",
    "\n",
    "block = pv.MultiBlock(full_mesh)\n",
    "full_mesh = block.combine(merge_points=False)\n",
    "\n",
    "if SHOW_FULL_MESH:\n",
    "    plotter.add_mesh(full_mesh, name='all', cmap=cmap, line_width=2, show_scalar_bar=False, smooth_shading=True)\n",
    "\n",
    "smps = df.query('sample == \"mr_1015\"')#.sort_values('epoch', ascending=True)\n",
    "\n",
    "sa_slice_actors = []\n",
    "hla_slice_actors = []\n",
    "\n",
    "for frame_idx, sample_idx in enumerate(tqdm(smps.index)):\n",
    "    set_rotated_cpos(torch.tensor(frame_idx*2.))\n",
    "\n",
    "    smp = smps.loc[sample_idx]\n",
    "\n",
    "    optimized_mat = smp['grid_affine'][None]\n",
    "    optimized_mat = rescale_rot_components_with_diag(optimized_mat, 1/get_zooms(optimized_mat))\n",
    "\n",
    "    with torch.no_grad():\n",
    "        _, _, optimized_nii_affine = nifti_grid_sample(\n",
    "            shape_data.unsqueeze(0).unsqueeze(0), shape_affine.unsqueeze(0), None,\n",
    "            fov_mm=FOV_MM, fov_vox=FOV_VOX, is_label=True,\n",
    "            pre_grid_sample_affine=optimized_mat,\n",
    "        )\n",
    "\n",
    "    if smp['view'] == 'sa':\n",
    "        while len(sa_slice_actors):\n",
    "            actor = sa_slice_actors.pop()\n",
    "            plotter.remove_actor(actor)\n",
    "\n",
    "        # SA slicing\n",
    "        sa_normal = (optimized_nii_affine @ torch.tensor([0.,0.,1.,0.]).double())[0,:3]\n",
    "        sa_support = (optimized_nii_affine @ torch.tensor([64.,64.,64.,1.]).double())[0,:3]\n",
    "\n",
    "        sa_plane = pv.Plane(center=sa_support.tolist(), direction=sa_normal.tolist(), i_size=200, j_size=200, i_resolution=1, j_resolution=1)\n",
    "        sa_plane.point_data.clear()\n",
    "        sa_edges = sa_plane.extract_feature_edges(boundary_edges=True, feature_edges=False, manifold_edges=False)\n",
    "        sa_slice = full_mesh.slice(normal=sa_normal.tolist(), origin=sa_support.tolist())\n",
    "\n",
    "        if SHOW_SA_SLICE:\n",
    "            slc_actor = plotter.add_mesh(sa_slice, name='sa_slice', cmap=cmap, line_width=2, show_scalar_bar=False)\n",
    "            sa_slice_actors.append(slc_actor)\n",
    "\n",
    "        if SHOW_SA_PLANE:\n",
    "            slc_actor = plotter.add_mesh(sa_plane, color=cmap(.2),  opacity=0.3, show_edges=False, line_width=2)\n",
    "            sa_slice_actors.append(slc_actor)\n",
    "            slc_actor = plotter.add_mesh(sa_edges, color=cmap(0.), line_width=1)\n",
    "            sa_slice_actors.append(slc_actor)\n",
    "\n",
    "    if smp['view'] == 'hla':\n",
    "        while len(hla_slice_actors):\n",
    "            actor = hla_slice_actors.pop()\n",
    "            plotter.remove_actor(actor)\n",
    "\n",
    "        # HLA slicing\n",
    "        hla_normal = (optimized_nii_affine @ torch.tensor([0.,0.,1.,0.]).double())[0,:3]\n",
    "        hla_support = (optimized_nii_affine @ torch.tensor([64.,64.,64.,1.]).double())[0,:3]\n",
    "        hla_plane = pv.Plane(center=hla_support.tolist(), direction=hla_normal.tolist(), i_size=200, j_size=200, i_resolution=1, j_resolution=1)\n",
    "        hla_plane.point_data.clear()\n",
    "        hla_edges = hla_plane.extract_feature_edges(boundary_edges=True, feature_edges=False, manifold_edges=False)\n",
    "        hla_slice = full_mesh.slice(normal=hla_normal.tolist(), origin=hla_support.tolist())\n",
    "\n",
    "        if SHOW_HLA_SLICE:\n",
    "            slc_actor = plotter.add_mesh(hla_slice, name='hla_slice', cmap=cmap, line_width=2, show_scalar_bar=False)\n",
    "            hla_slice_actors.append(slc_actor)\n",
    "\n",
    "        if SHOW_HLA_PLANE:\n",
    "            slc_actor = plotter.add_mesh(hla_plane, color=cmap(.2),  opacity=0.3, show_edges=False, line_width=2)\n",
    "            hla_slice_actors.append(slc_actor)\n",
    "            slc_actor = plotter.add_mesh(hla_edges, color=cmap(.0), line_width=1)\n",
    "            hla_slice_actors.append(slc_actor)\n",
    "\n",
    "    # plotter.show()\n",
    "    # break\n",
    "    plotter.write_frame()\n",
    "\n",
    "\n",
    "# Closes and finalizes movie\n",
    "plotter.close()"
   ]
  },
  {
   "cell_type": "code",
   "execution_count": null,
   "metadata": {},
   "outputs": [],
   "source": []
  },
  {
   "cell_type": "code",
   "execution_count": null,
   "metadata": {},
   "outputs": [],
   "source": []
  }
 ],
 "metadata": {
  "kernelspec": {
   "display_name": ".venv",
   "language": "python",
   "name": "python3"
  },
  "language_info": {
   "codemirror_mode": {
    "name": "ipython",
    "version": 3
   },
   "file_extension": ".py",
   "mimetype": "text/x-python",
   "name": "python",
   "nbconvert_exporter": "python",
   "pygments_lexer": "ipython3",
   "version": "3.12.0"
  },
  "orig_nbformat": 4,
  "vscode": {
   "interpreter": {
    "hash": "56a79d7869c25b13099d152cff1cf89590f05ef08fa886b34f910fa465e81fa1"
   }
  }
 },
 "nbformat": 4,
 "nbformat_minor": 2
}
