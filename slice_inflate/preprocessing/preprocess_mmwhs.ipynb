{
 "cells": [
  {
   "cell_type": "code",
   "execution_count": 1,
   "metadata": {},
   "outputs": [],
   "source": [
    "import shutil\n",
    "from pathlib import Path\n",
    "import json\n",
    "from tqdm import tqdm\n",
    "\n",
    "import torch\n",
    "import nibabel as nib\n",
    "\n",
    "from slice_inflate.datasets.clinical_cardiac_views import get_sub_sp_tensor, display_clinical_views, get_clinical_cardiac_view_affines\n",
    "from slice_inflate.utils.nifti_utils import crop_around_label_center\n"
   ]
  },
  {
   "cell_type": "code",
   "execution_count": 2,
   "metadata": {},
   "outputs": [],
   "source": [
    "C3D = \"/home/weihsbach/storage/staff/christianweihsbach/c3d/c3d-1.4.0-Linux-gcc64/bin/c3d\"\n",
    "MMWHS_BASE_PATH = \"../../data/datasets/MMWHS\"\n",
    "\n",
    "\n",
    "test_cases = [1007,1008] # These look very strange. better to exclude them -> perform 3-fold cross-validation\n",
    "train_cases = set(range(1001,1021)) - set(test_cases)\n",
    "train_cases = list(train_cases)\n",
    "NUM_FOLDS = 3\n",
    "\n",
    "assert Path(MMWHS_BASE_PATH).is_dir()\n",
    "\n",
    "split_file_path = Path(MMWHS_BASE_PATH, 'prepared_files/metadata/data_split.json')\n",
    "split_file_path.parent.mkdir(exist_ok=True, parents=True)\n",
    "metadata_file_path = Path(MMWHS_BASE_PATH, 'prepared_files/metadata/metadata.json')"
   ]
  },
  {
   "attachments": {},
   "cell_type": "markdown",
   "metadata": {},
   "source": [
    "# Split dataset"
   ]
  },
  {
   "cell_type": "code",
   "execution_count": 3,
   "metadata": {},
   "outputs": [
    {
     "name": "stderr",
     "output_type": "stream",
     "text": [
      "  0%|          | 0/80 [00:00<?, ?it/s]"
     ]
    },
    {
     "name": "stdout",
     "output_type": "stream",
     "text": [
      "../../data/datasets/MMWHS/base_files/ct_train/ct_train_1013_image.nii.gz -> ../../data/datasets/MMWHS/prepared_files/ct_train_1013_image.nii.gz\n"
     ]
    },
    {
     "name": "stderr",
     "output_type": "stream",
     "text": [
      "  1%|▏         | 1/80 [00:00<00:16,  4.65it/s]"
     ]
    },
    {
     "name": "stdout",
     "output_type": "stream",
     "text": [
      "../../data/datasets/MMWHS/base_files/ct_train/ct_train_1004_image.nii.gz -> ../../data/datasets/MMWHS/prepared_files/ct_train_1004_image.nii.gz\n"
     ]
    },
    {
     "name": "stderr",
     "output_type": "stream",
     "text": [
      "  2%|▎         | 2/80 [00:00<00:16,  4.66it/s]"
     ]
    },
    {
     "name": "stdout",
     "output_type": "stream",
     "text": [
      "../../data/datasets/MMWHS/base_files/ct_train/ct_train_1004_label.nii.gz -> ../../data/datasets/MMWHS/prepared_files/ct_train_1004_label.nii.gz\n",
      "../../data/datasets/MMWHS/base_files/ct_train/ct_train_1007_image.nii.gz -> ../../data/datasets/MMWHS/prepared_files/ct_train_1007_image.nii.gz\n"
     ]
    },
    {
     "name": "stderr",
     "output_type": "stream",
     "text": [
      "  5%|▌         | 4/80 [00:00<00:12,  6.27it/s]"
     ]
    },
    {
     "name": "stdout",
     "output_type": "stream",
     "text": [
      "../../data/datasets/MMWHS/base_files/ct_train/ct_train_1007_label.nii.gz -> ../../data/datasets/MMWHS/prepared_files/ct_train_1007_label.nii.gz\n",
      "../../data/datasets/MMWHS/base_files/ct_train/ct_train_1008_image.nii.gz -> ../../data/datasets/MMWHS/prepared_files/ct_train_1008_image.nii.gz\n"
     ]
    },
    {
     "name": "stderr",
     "output_type": "stream",
     "text": [
      "  8%|▊         | 6/80 [00:01<00:13,  5.41it/s]"
     ]
    },
    {
     "name": "stdout",
     "output_type": "stream",
     "text": [
      "../../data/datasets/MMWHS/base_files/ct_train/ct_train_1008_label.nii.gz -> ../../data/datasets/MMWHS/prepared_files/ct_train_1008_label.nii.gz\n",
      "../../data/datasets/MMWHS/base_files/ct_train/ct_train_1009_image.nii.gz -> ../../data/datasets/MMWHS/prepared_files/ct_train_1009_image.nii.gz\n"
     ]
    },
    {
     "name": "stderr",
     "output_type": "stream",
     "text": [
      " 10%|█         | 8/80 [00:01<00:15,  4.70it/s]"
     ]
    },
    {
     "name": "stdout",
     "output_type": "stream",
     "text": [
      "../../data/datasets/MMWHS/base_files/ct_train/ct_train_1009_label.nii.gz -> ../../data/datasets/MMWHS/prepared_files/ct_train_1009_label.nii.gz\n",
      "../../data/datasets/MMWHS/base_files/ct_train/ct_train_1010_image.nii.gz -> ../../data/datasets/MMWHS/prepared_files/ct_train_1010_image.nii.gz\n"
     ]
    },
    {
     "name": "stderr",
     "output_type": "stream",
     "text": [
      " 12%|█▎        | 10/80 [00:02<00:14,  4.67it/s]"
     ]
    },
    {
     "name": "stdout",
     "output_type": "stream",
     "text": [
      "../../data/datasets/MMWHS/base_files/ct_train/ct_train_1010_label.nii.gz -> ../../data/datasets/MMWHS/prepared_files/ct_train_1010_label.nii.gz\n",
      "../../data/datasets/MMWHS/base_files/ct_train/ct_train_1011_image.nii.gz -> ../../data/datasets/MMWHS/prepared_files/ct_train_1011_image.nii.gz\n"
     ]
    },
    {
     "name": "stderr",
     "output_type": "stream",
     "text": [
      " 15%|█▌        | 12/80 [00:02<00:12,  5.64it/s]"
     ]
    },
    {
     "name": "stdout",
     "output_type": "stream",
     "text": [
      "../../data/datasets/MMWHS/base_files/ct_train/ct_train_1011_label.nii.gz -> ../../data/datasets/MMWHS/prepared_files/ct_train_1011_label.nii.gz\n",
      "../../data/datasets/MMWHS/base_files/ct_train/ct_train_1012_image.nii.gz -> ../../data/datasets/MMWHS/prepared_files/ct_train_1012_image.nii.gz\n"
     ]
    },
    {
     "name": "stderr",
     "output_type": "stream",
     "text": [
      " 18%|█▊        | 14/80 [00:02<00:12,  5.40it/s]"
     ]
    },
    {
     "name": "stdout",
     "output_type": "stream",
     "text": [
      "../../data/datasets/MMWHS/base_files/ct_train/ct_train_1012_label.nii.gz -> ../../data/datasets/MMWHS/prepared_files/ct_train_1012_label.nii.gz\n",
      "../../data/datasets/MMWHS/base_files/ct_train/ct_train_1013_label.nii.gz -> ../../data/datasets/MMWHS/prepared_files/ct_train_1013_label.nii.gz\n",
      "../../data/datasets/MMWHS/base_files/ct_train/ct_train_1014_image.nii.gz -> ../../data/datasets/MMWHS/prepared_files/ct_train_1014_image.nii.gz\n"
     ]
    },
    {
     "name": "stderr",
     "output_type": "stream",
     "text": [
      " 21%|██▏       | 17/80 [00:03<00:11,  5.38it/s]"
     ]
    },
    {
     "name": "stdout",
     "output_type": "stream",
     "text": [
      "../../data/datasets/MMWHS/base_files/ct_train/ct_train_1014_label.nii.gz -> ../../data/datasets/MMWHS/prepared_files/ct_train_1014_label.nii.gz\n",
      "../../data/datasets/MMWHS/base_files/ct_train/ct_train_1015_image.nii.gz -> ../../data/datasets/MMWHS/prepared_files/ct_train_1015_image.nii.gz\n"
     ]
    },
    {
     "name": "stderr",
     "output_type": "stream",
     "text": [
      " 24%|██▍       | 19/80 [00:03<00:11,  5.16it/s]"
     ]
    },
    {
     "name": "stdout",
     "output_type": "stream",
     "text": [
      "../../data/datasets/MMWHS/base_files/ct_train/ct_train_1015_label.nii.gz -> ../../data/datasets/MMWHS/prepared_files/ct_train_1015_label.nii.gz\n",
      "../../data/datasets/MMWHS/base_files/ct_train/ct_train_1016_image.nii.gz -> ../../data/datasets/MMWHS/prepared_files/ct_train_1016_image.nii.gz\n"
     ]
    },
    {
     "name": "stderr",
     "output_type": "stream",
     "text": [
      " 26%|██▋       | 21/80 [00:04<00:11,  5.10it/s]"
     ]
    },
    {
     "name": "stdout",
     "output_type": "stream",
     "text": [
      "../../data/datasets/MMWHS/base_files/ct_train/ct_train_1016_label.nii.gz -> ../../data/datasets/MMWHS/prepared_files/ct_train_1016_label.nii.gz\n",
      "../../data/datasets/MMWHS/base_files/ct_train/ct_train_1017_image.nii.gz -> ../../data/datasets/MMWHS/prepared_files/ct_train_1017_image.nii.gz\n"
     ]
    },
    {
     "name": "stderr",
     "output_type": "stream",
     "text": [
      " 29%|██▉       | 23/80 [00:04<00:10,  5.24it/s]"
     ]
    },
    {
     "name": "stdout",
     "output_type": "stream",
     "text": [
      "../../data/datasets/MMWHS/base_files/ct_train/ct_train_1017_label.nii.gz -> ../../data/datasets/MMWHS/prepared_files/ct_train_1017_label.nii.gz\n",
      "../../data/datasets/MMWHS/base_files/ct_train/ct_train_1018_image.nii.gz -> ../../data/datasets/MMWHS/prepared_files/ct_train_1018_image.nii.gz\n"
     ]
    },
    {
     "name": "stderr",
     "output_type": "stream",
     "text": [
      " 31%|███▏      | 25/80 [00:04<00:09,  5.64it/s]"
     ]
    },
    {
     "name": "stdout",
     "output_type": "stream",
     "text": [
      "../../data/datasets/MMWHS/base_files/ct_train/ct_train_1018_label.nii.gz -> ../../data/datasets/MMWHS/prepared_files/ct_train_1018_label.nii.gz\n",
      "../../data/datasets/MMWHS/base_files/ct_train/ct_train_1019_image.nii.gz -> ../../data/datasets/MMWHS/prepared_files/ct_train_1019_image.nii.gz\n"
     ]
    },
    {
     "name": "stderr",
     "output_type": "stream",
     "text": [
      " 34%|███▍      | 27/80 [00:05<00:09,  5.71it/s]"
     ]
    },
    {
     "name": "stdout",
     "output_type": "stream",
     "text": [
      "../../data/datasets/MMWHS/base_files/ct_train/ct_train_1019_label.nii.gz -> ../../data/datasets/MMWHS/prepared_files/ct_train_1019_label.nii.gz\n",
      "../../data/datasets/MMWHS/base_files/ct_train/ct_train_1020_image.nii.gz -> ../../data/datasets/MMWHS/prepared_files/ct_train_1020_image.nii.gz\n"
     ]
    },
    {
     "name": "stderr",
     "output_type": "stream",
     "text": [
      " 36%|███▋      | 29/80 [00:05<00:09,  5.42it/s]"
     ]
    },
    {
     "name": "stdout",
     "output_type": "stream",
     "text": [
      "../../data/datasets/MMWHS/base_files/ct_train/ct_train_1020_label.nii.gz -> ../../data/datasets/MMWHS/prepared_files/ct_train_1020_label.nii.gz\n",
      "../../data/datasets/MMWHS/base_files/ct_train/ct_train_1001_image.nii.gz -> ../../data/datasets/MMWHS/prepared_files/ct_train_1001_image.nii.gz\n"
     ]
    },
    {
     "name": "stderr",
     "output_type": "stream",
     "text": [
      " 39%|███▉      | 31/80 [00:05<00:08,  5.46it/s]"
     ]
    },
    {
     "name": "stdout",
     "output_type": "stream",
     "text": [
      "../../data/datasets/MMWHS/base_files/ct_train/ct_train_1001_label.nii.gz -> ../../data/datasets/MMWHS/prepared_files/ct_train_1001_label.nii.gz\n",
      "../../data/datasets/MMWHS/base_files/ct_train/ct_train_1002_image.nii.gz -> ../../data/datasets/MMWHS/prepared_files/ct_train_1002_image.nii.gz\n"
     ]
    },
    {
     "name": "stderr",
     "output_type": "stream",
     "text": [
      " 41%|████▏     | 33/80 [00:06<00:07,  6.07it/s]"
     ]
    },
    {
     "name": "stdout",
     "output_type": "stream",
     "text": [
      "../../data/datasets/MMWHS/base_files/ct_train/ct_train_1002_label.nii.gz -> ../../data/datasets/MMWHS/prepared_files/ct_train_1002_label.nii.gz\n",
      "../../data/datasets/MMWHS/base_files/ct_train/ct_train_1003_image.nii.gz -> ../../data/datasets/MMWHS/prepared_files/ct_train_1003_image.nii.gz\n"
     ]
    },
    {
     "name": "stderr",
     "output_type": "stream",
     "text": [
      " 46%|████▋     | 37/80 [00:06<00:05,  7.21it/s]"
     ]
    },
    {
     "name": "stdout",
     "output_type": "stream",
     "text": [
      "../../data/datasets/MMWHS/base_files/ct_train/ct_train_1003_label.nii.gz -> ../../data/datasets/MMWHS/prepared_files/ct_train_1003_label.nii.gz\n",
      "../../data/datasets/MMWHS/base_files/ct_train/ct_train_1005_image.nii.gz -> ../../data/datasets/MMWHS/prepared_files/ct_train_1005_image.nii.gz\n",
      "../../data/datasets/MMWHS/base_files/ct_train/ct_train_1005_label.nii.gz -> ../../data/datasets/MMWHS/prepared_files/ct_train_1005_label.nii.gz\n"
     ]
    },
    {
     "name": "stderr",
     "output_type": "stream",
     "text": [
      " 46%|████▋     | 37/80 [00:06<00:05,  7.21it/s]"
     ]
    },
    {
     "name": "stdout",
     "output_type": "stream",
     "text": [
      "../../data/datasets/MMWHS/base_files/ct_train/ct_train_1006_image.nii.gz -> ../../data/datasets/MMWHS/prepared_files/ct_train_1006_image.nii.gz\n"
     ]
    },
    {
     "name": "stderr",
     "output_type": "stream",
     "text": [
      "                                               \r"
     ]
    },
    {
     "name": "stdout",
     "output_type": "stream",
     "text": [
      "../../data/datasets/MMWHS/base_files/ct_train/ct_train_1006_label.nii.gz -> ../../data/datasets/MMWHS/prepared_files/ct_train_1006_label.nii.gz\n",
      "../../data/datasets/MMWHS/base_files/mr_train/mr_train_1004_image.nii.gz -> ../../data/datasets/MMWHS/prepared_files/mr_train_1004_image.nii.gz\n",
      "../../data/datasets/MMWHS/base_files/mr_train/mr_train_1004_label.nii.gz -> ../../data/datasets/MMWHS/prepared_files/mr_train_1004_label.nii.gz\n",
      "../../data/datasets/MMWHS/base_files/mr_train/mr_train_1007_image.nii.gz -> ../../data/datasets/MMWHS/prepared_files/mr_train_1007_image.nii.gz\n",
      "../../data/datasets/MMWHS/base_files/mr_train/mr_train_1007_label.nii.gz -> ../../data/datasets/MMWHS/prepared_files/mr_train_1007_label.nii.gz\n",
      "../../data/datasets/MMWHS/base_files/mr_train/mr_train_1008_image.nii.gz -> ../../data/datasets/MMWHS/prepared_files/mr_train_1008_image.nii.gz\n",
      "../../data/datasets/MMWHS/base_files/mr_train/mr_train_1008_label.nii.gz -> ../../data/datasets/MMWHS/prepared_files/mr_train_1008_label.nii.gz\n"
     ]
    },
    {
     "name": "stderr",
     "output_type": "stream",
     "text": [
      " 59%|█████▉    | 47/80 [00:07<00:02, 13.74it/s]"
     ]
    },
    {
     "name": "stdout",
     "output_type": "stream",
     "text": [
      "../../data/datasets/MMWHS/base_files/mr_train/mr_train_1009_image.nii.gz -> ../../data/datasets/MMWHS/prepared_files/mr_train_1009_image.nii.gz\n",
      "../../data/datasets/MMWHS/base_files/mr_train/mr_train_1009_label.nii.gz -> ../../data/datasets/MMWHS/prepared_files/mr_train_1009_label.nii.gz\n",
      "../../data/datasets/MMWHS/base_files/mr_train/mr_train_1010_image.nii.gz -> ../../data/datasets/MMWHS/prepared_files/mr_train_1010_image.nii.gz\n"
     ]
    },
    {
     "name": "stderr",
     "output_type": "stream",
     "text": [
      " 64%|██████▍   | 51/80 [00:07<00:01, 17.24it/s]"
     ]
    },
    {
     "name": "stdout",
     "output_type": "stream",
     "text": [
      "../../data/datasets/MMWHS/base_files/mr_train/mr_train_1010_label.nii.gz -> ../../data/datasets/MMWHS/prepared_files/mr_train_1010_label.nii.gz\n",
      "../../data/datasets/MMWHS/base_files/mr_train/mr_train_1011_image.nii.gz -> ../../data/datasets/MMWHS/prepared_files/mr_train_1011_image.nii.gz\n",
      "../../data/datasets/MMWHS/base_files/mr_train/mr_train_1011_label.nii.gz -> ../../data/datasets/MMWHS/prepared_files/mr_train_1011_label.nii.gz\n",
      "../../data/datasets/MMWHS/base_files/mr_train/mr_train_1012_image.nii.gz -> ../../data/datasets/MMWHS/prepared_files/mr_train_1012_image.nii.gz\n"
     ]
    },
    {
     "name": "stderr",
     "output_type": "stream",
     "text": [
      " 68%|██████▊   | 54/80 [00:07<00:01, 17.63it/s]"
     ]
    },
    {
     "name": "stdout",
     "output_type": "stream",
     "text": [
      "../../data/datasets/MMWHS/base_files/mr_train/mr_train_1012_label.nii.gz -> ../../data/datasets/MMWHS/prepared_files/mr_train_1012_label.nii.gz\n",
      "../../data/datasets/MMWHS/base_files/mr_train/mr_train_1013_image.nii.gz -> ../../data/datasets/MMWHS/prepared_files/mr_train_1013_image.nii.gz\n",
      "../../data/datasets/MMWHS/base_files/mr_train/mr_train_1013_label.nii.gz -> ../../data/datasets/MMWHS/prepared_files/mr_train_1013_label.nii.gz\n",
      "../../data/datasets/MMWHS/base_files/mr_train/mr_train_1014_image.nii.gz -> ../../data/datasets/MMWHS/prepared_files/mr_train_1014_image.nii.gz\n"
     ]
    },
    {
     "name": "stderr",
     "output_type": "stream",
     "text": [
      "                                               \r"
     ]
    },
    {
     "name": "stdout",
     "output_type": "stream",
     "text": [
      "../../data/datasets/MMWHS/base_files/mr_train/mr_train_1014_label.nii.gz -> ../../data/datasets/MMWHS/prepared_files/mr_train_1014_label.nii.gz\n",
      "../../data/datasets/MMWHS/base_files/mr_train/mr_train_1015_image.nii.gz -> ../../data/datasets/MMWHS/prepared_files/mr_train_1015_image.nii.gz\n",
      "../../data/datasets/MMWHS/base_files/mr_train/mr_train_1015_label.nii.gz -> ../../data/datasets/MMWHS/prepared_files/mr_train_1015_label.nii.gz\n",
      "../../data/datasets/MMWHS/base_files/mr_train/mr_train_1016_image.nii.gz -> ../../data/datasets/MMWHS/prepared_files/mr_train_1016_image.nii.gz\n",
      "../../data/datasets/MMWHS/base_files/mr_train/mr_train_1016_label.nii.gz -> ../../data/datasets/MMWHS/prepared_files/mr_train_1016_label.nii.gz\n",
      "../../data/datasets/MMWHS/base_files/mr_train/mr_train_1017_image.nii.gz -> ../../data/datasets/MMWHS/prepared_files/mr_train_1017_image.nii.gz\n",
      "../../data/datasets/MMWHS/base_files/mr_train/mr_train_1017_label.nii.gz -> ../../data/datasets/MMWHS/prepared_files/mr_train_1017_label.nii.gz\n",
      "../../data/datasets/MMWHS/base_files/mr_train/mr_train_1018_image.nii.gz -> ../../data/datasets/MMWHS/prepared_files/mr_train_1018_image.nii.gz\n"
     ]
    },
    {
     "name": "stderr",
     "output_type": "stream",
     "text": [
      " 86%|████████▋ | 69/80 [00:08<00:00, 23.25it/s]"
     ]
    },
    {
     "name": "stdout",
     "output_type": "stream",
     "text": [
      "../../data/datasets/MMWHS/base_files/mr_train/mr_train_1018_label.nii.gz -> ../../data/datasets/MMWHS/prepared_files/mr_train_1018_label.nii.gz\n",
      "../../data/datasets/MMWHS/base_files/mr_train/mr_train_1019_image.nii.gz -> ../../data/datasets/MMWHS/prepared_files/mr_train_1019_image.nii.gz\n",
      "../../data/datasets/MMWHS/base_files/mr_train/mr_train_1019_label.nii.gz -> ../../data/datasets/MMWHS/prepared_files/mr_train_1019_label.nii.gz\n",
      "../../data/datasets/MMWHS/base_files/mr_train/mr_train_1020_image.nii.gz -> ../../data/datasets/MMWHS/prepared_files/mr_train_1020_image.nii.gz\n",
      "../../data/datasets/MMWHS/base_files/mr_train/mr_train_1020_label.nii.gz -> ../../data/datasets/MMWHS/prepared_files/mr_train_1020_label.nii.gz\n",
      "../../data/datasets/MMWHS/base_files/mr_train/mr_train_1001_image.nii.gz -> ../../data/datasets/MMWHS/prepared_files/mr_train_1001_image.nii.gz\n"
     ]
    },
    {
     "name": "stderr",
     "output_type": "stream",
     "text": [
      " 90%|█████████ | 72/80 [00:08<00:00, 20.88it/s]"
     ]
    },
    {
     "name": "stdout",
     "output_type": "stream",
     "text": [
      "../../data/datasets/MMWHS/base_files/mr_train/mr_train_1001_label.nii.gz -> ../../data/datasets/MMWHS/prepared_files/mr_train_1001_label.nii.gz\n",
      "../../data/datasets/MMWHS/base_files/mr_train/mr_train_1002_image.nii.gz -> ../../data/datasets/MMWHS/prepared_files/mr_train_1002_image.nii.gz\n",
      "../../data/datasets/MMWHS/base_files/mr_train/mr_train_1002_label.nii.gz -> ../../data/datasets/MMWHS/prepared_files/mr_train_1002_label.nii.gz\n",
      "../../data/datasets/MMWHS/base_files/mr_train/mr_train_1003_image.nii.gz -> ../../data/datasets/MMWHS/prepared_files/mr_train_1003_image.nii.gz\n"
     ]
    },
    {
     "name": "stderr",
     "output_type": "stream",
     "text": [
      "100%|██████████| 80/80 [00:08<00:00,  9.30it/s]\n"
     ]
    },
    {
     "name": "stdout",
     "output_type": "stream",
     "text": [
      "../../data/datasets/MMWHS/base_files/mr_train/mr_train_1003_label.nii.gz -> ../../data/datasets/MMWHS/prepared_files/mr_train_1003_label.nii.gz\n",
      "../../data/datasets/MMWHS/base_files/mr_train/mr_train_1005_image.nii.gz -> ../../data/datasets/MMWHS/prepared_files/mr_train_1005_image.nii.gz\n",
      "../../data/datasets/MMWHS/base_files/mr_train/mr_train_1005_label.nii.gz -> ../../data/datasets/MMWHS/prepared_files/mr_train_1005_label.nii.gz\n",
      "../../data/datasets/MMWHS/base_files/mr_train/mr_train_1006_image.nii.gz -> ../../data/datasets/MMWHS/prepared_files/mr_train_1006_image.nii.gz\n",
      "../../data/datasets/MMWHS/base_files/mr_train/mr_train_1006_label.nii.gz -> ../../data/datasets/MMWHS/prepared_files/mr_train_1006_label.nii.gz\n"
     ]
    }
   ],
   "source": [
    "if False:\n",
    "    # Copy the files\n",
    "    base_ct_paths = list(Path(MMWHS_BASE_PATH, 'base_files/ct_train').glob('*.nii.gz'))\n",
    "    base_mr_paths = list(Path(MMWHS_BASE_PATH, 'base_files/mr_train').glob('*.nii.gz'))\n",
    "\n",
    "    base_paths = base_ct_paths + base_mr_paths\n",
    "\n",
    "    for p in tqdm(base_paths):\n",
    "        dest_path = Path(MMWHS_BASE_PATH, 'prepared_files', p.name)\n",
    "        dest_path.parent.mkdir(exist_ok=True)\n",
    "        tqdm.write(f\"{p} -> {dest_path}\")\n",
    "        shutil.copy(p, dest_path)\n",
    "\n",
    "if False:\n",
    "    # Split the copied files\n",
    "    def get_fold_idxs_dict(paths):\n",
    "        paths = sorted(paths)\n",
    "        img_idxs = torch.arange(len(paths))[::2] # Every second path is an image\n",
    "\n",
    "        cnks = torch.stack(torch.chunk(img_idxs, NUM_FOLDS))\n",
    "        folds = []\n",
    "        for f_idx in range(NUM_FOLDS):\n",
    "            val_idxs = cnks.roll(f_idx, dims=0)[0]\n",
    "            train_idxs = cnks.roll(f_idx, dims=0)[1:].flatten()\n",
    "            folds.append((train_idxs, val_idxs))\n",
    "\n",
    "        fold_dct = dict()\n",
    "        for idx,f in enumerate(folds):\n",
    "            train_idxs = sorted(f[0].tolist() + (f[0]+1).tolist())\n",
    "            val_idxs = sorted(f[1].tolist() + (f[1]+1).tolist())\n",
    "            fold_dct[f\"fold_{idx}\"] = dict(train_idxs=train_idxs, val_idxs=val_idxs)\n",
    "        return fold_dct\n",
    "\n",
    "    prepared_paths = list(Path(MMWHS_BASE_PATH, 'prepared_files').resolve().glob('*.nii.gz'))\n",
    "    train_paths = sorted(filter(lambda _path: any([str(c) in str(_path) for c in train_cases]), prepared_paths))\n",
    "    test_paths = sorted(filter(lambda _path: any([str(c) in str(_path) for c in test_cases]), prepared_paths))\n",
    "\n",
    "    split_dict = dict(\n",
    "        train_files=[str(p) for p in train_paths],\n",
    "        train_folds=get_fold_idxs_dict(train_paths),\n",
    "        test_files=[str(p) for p in test_paths]\n",
    "    )\n",
    "\n",
    "    with open(split_file_path, 'w') as f:\n",
    "        json.dump(split_dict, f, indent=4)"
   ]
  },
  {
   "cell_type": "markdown",
   "metadata": {},
   "source": [
    "# Reorient MMWHS files to LPI"
   ]
  },
  {
   "cell_type": "code",
   "execution_count": 4,
   "metadata": {},
   "outputs": [
    {
     "name": "stdout",
     "output_type": "stream",
     "text": [
      "Convert3D Version 1.4.0\n",
      "  Release date:      May 19, 2022\n",
      "  Compile date:      Jan 13, 2023\n",
      "  GIT branch:        master\n",
      "  GIT commit:        feab59822240a870db021530cdb2b35dd582c871\n",
      "  GIT commit date:   2022-12-20 17:21:09 -0500\n",
      "\n"
     ]
    }
   ],
   "source": [
    "!{C3D} -version # We need at least v1.4.0"
   ]
  },
  {
   "cell_type": "code",
   "execution_count": 5,
   "metadata": {},
   "outputs": [
    {
     "name": "stderr",
     "output_type": "stream",
     "text": [
      "  0%|          | 0/80 [00:00<?, ?it/s]"
     ]
    },
    {
     "name": "stdout",
     "output_type": "stream",
     "text": [
      "Processing ct_train_1001_image.nii.gz\n"
     ]
    },
    {
     "name": "stderr",
     "output_type": "stream",
     "text": [
      "  1%|▏         | 1/80 [00:11<15:02, 11.42s/it]"
     ]
    },
    {
     "name": "stdout",
     "output_type": "stream",
     "text": [
      "Processing ct_train_1001_label.nii.gz\n"
     ]
    },
    {
     "name": "stderr",
     "output_type": "stream",
     "text": [
      "  2%|▎         | 2/80 [00:17<10:48,  8.31s/it]"
     ]
    },
    {
     "name": "stdout",
     "output_type": "stream",
     "text": [
      "Processing ct_train_1002_image.nii.gz\n"
     ]
    },
    {
     "name": "stderr",
     "output_type": "stream",
     "text": [
      "  4%|▍         | 3/80 [00:31<14:07, 11.01s/it]"
     ]
    },
    {
     "name": "stdout",
     "output_type": "stream",
     "text": [
      "Processing ct_train_1002_label.nii.gz\n"
     ]
    },
    {
     "name": "stderr",
     "output_type": "stream",
     "text": [
      "  5%|▌         | 4/80 [00:39<12:22,  9.77s/it]"
     ]
    },
    {
     "name": "stdout",
     "output_type": "stream",
     "text": [
      "Processing ct_train_1003_image.nii.gz\n"
     ]
    },
    {
     "name": "stderr",
     "output_type": "stream",
     "text": [
      "  6%|▋         | 5/80 [00:47<11:34,  9.26s/it]"
     ]
    },
    {
     "name": "stdout",
     "output_type": "stream",
     "text": [
      "Processing ct_train_1003_label.nii.gz\n"
     ]
    },
    {
     "name": "stderr",
     "output_type": "stream",
     "text": [
      "  8%|▊         | 6/80 [00:52<09:28,  7.69s/it]"
     ]
    },
    {
     "name": "stdout",
     "output_type": "stream",
     "text": [
      "Processing ct_train_1004_image.nii.gz\n"
     ]
    },
    {
     "name": "stderr",
     "output_type": "stream",
     "text": [
      "  9%|▉         | 7/80 [00:59<09:06,  7.49s/it]"
     ]
    },
    {
     "name": "stdout",
     "output_type": "stream",
     "text": [
      "Processing ct_train_1004_label.nii.gz\n"
     ]
    },
    {
     "name": "stderr",
     "output_type": "stream",
     "text": [
      " 10%|█         | 8/80 [01:03<07:41,  6.41s/it]"
     ]
    },
    {
     "name": "stdout",
     "output_type": "stream",
     "text": [
      "Processing ct_train_1005_image.nii.gz\n"
     ]
    },
    {
     "name": "stderr",
     "output_type": "stream",
     "text": [
      " 11%|█▏        | 9/80 [01:14<09:05,  7.69s/it]"
     ]
    },
    {
     "name": "stdout",
     "output_type": "stream",
     "text": [
      "Processing ct_train_1005_label.nii.gz\n"
     ]
    },
    {
     "name": "stderr",
     "output_type": "stream",
     "text": [
      " 12%|█▎        | 10/80 [01:20<08:25,  7.22s/it]"
     ]
    },
    {
     "name": "stdout",
     "output_type": "stream",
     "text": [
      "Processing ct_train_1006_image.nii.gz\n"
     ]
    },
    {
     "name": "stderr",
     "output_type": "stream",
     "text": [
      " 14%|█▍        | 11/80 [01:35<10:56,  9.52s/it]"
     ]
    },
    {
     "name": "stdout",
     "output_type": "stream",
     "text": [
      "Processing ct_train_1006_label.nii.gz\n"
     ]
    },
    {
     "name": "stderr",
     "output_type": "stream",
     "text": [
      " 15%|█▌        | 12/80 [01:43<10:27,  9.23s/it]"
     ]
    },
    {
     "name": "stdout",
     "output_type": "stream",
     "text": [
      "Processing ct_train_1009_image.nii.gz\n"
     ]
    },
    {
     "name": "stderr",
     "output_type": "stream",
     "text": [
      " 16%|█▋        | 13/80 [02:00<13:00, 11.65s/it]"
     ]
    },
    {
     "name": "stdout",
     "output_type": "stream",
     "text": [
      "Processing ct_train_1009_label.nii.gz\n"
     ]
    },
    {
     "name": "stderr",
     "output_type": "stream",
     "text": [
      " 18%|█▊        | 14/80 [02:10<12:09, 11.05s/it]"
     ]
    },
    {
     "name": "stdout",
     "output_type": "stream",
     "text": [
      "Processing ct_train_1010_image.nii.gz\n"
     ]
    },
    {
     "name": "stderr",
     "output_type": "stream",
     "text": [
      " 19%|█▉        | 15/80 [02:27<13:46, 12.71s/it]"
     ]
    },
    {
     "name": "stdout",
     "output_type": "stream",
     "text": [
      "Processing ct_train_1010_label.nii.gz\n"
     ]
    },
    {
     "name": "stderr",
     "output_type": "stream",
     "text": [
      " 20%|██        | 16/80 [02:36<12:32, 11.75s/it]"
     ]
    },
    {
     "name": "stdout",
     "output_type": "stream",
     "text": [
      "Processing ct_train_1011_image.nii.gz\n"
     ]
    },
    {
     "name": "stderr",
     "output_type": "stream",
     "text": [
      " 21%|██▏       | 17/80 [02:47<11:58, 11.41s/it]"
     ]
    },
    {
     "name": "stdout",
     "output_type": "stream",
     "text": [
      "Processing ct_train_1011_label.nii.gz\n"
     ]
    },
    {
     "name": "stderr",
     "output_type": "stream",
     "text": [
      " 22%|██▎       | 18/80 [02:53<10:08,  9.81s/it]"
     ]
    },
    {
     "name": "stdout",
     "output_type": "stream",
     "text": [
      "Processing ct_train_1012_image.nii.gz\n"
     ]
    },
    {
     "name": "stderr",
     "output_type": "stream",
     "text": [
      " 24%|██▍       | 19/80 [03:04<10:12, 10.03s/it]"
     ]
    },
    {
     "name": "stdout",
     "output_type": "stream",
     "text": [
      "Processing ct_train_1012_label.nii.gz\n"
     ]
    },
    {
     "name": "stderr",
     "output_type": "stream",
     "text": [
      " 25%|██▌       | 20/80 [03:10<08:55,  8.92s/it]"
     ]
    },
    {
     "name": "stdout",
     "output_type": "stream",
     "text": [
      "Processing ct_train_1013_image.nii.gz\n"
     ]
    },
    {
     "name": "stderr",
     "output_type": "stream",
     "text": [
      " 26%|██▋       | 21/80 [03:21<09:22,  9.53s/it]"
     ]
    },
    {
     "name": "stdout",
     "output_type": "stream",
     "text": [
      "Processing ct_train_1013_label.nii.gz\n"
     ]
    },
    {
     "name": "stderr",
     "output_type": "stream",
     "text": [
      " 28%|██▊       | 22/80 [03:27<08:19,  8.62s/it]"
     ]
    },
    {
     "name": "stdout",
     "output_type": "stream",
     "text": [
      "Processing ct_train_1014_image.nii.gz\n"
     ]
    },
    {
     "name": "stderr",
     "output_type": "stream",
     "text": [
      " 29%|██▉       | 23/80 [03:37<08:23,  8.82s/it]"
     ]
    },
    {
     "name": "stdout",
     "output_type": "stream",
     "text": [
      "Processing ct_train_1014_label.nii.gz\n"
     ]
    },
    {
     "name": "stderr",
     "output_type": "stream",
     "text": [
      " 30%|███       | 24/80 [03:42<07:10,  7.69s/it]"
     ]
    },
    {
     "name": "stdout",
     "output_type": "stream",
     "text": [
      "Processing ct_train_1015_image.nii.gz\n"
     ]
    },
    {
     "name": "stderr",
     "output_type": "stream",
     "text": [
      " 31%|███▏      | 25/80 [04:03<10:44, 11.71s/it]"
     ]
    },
    {
     "name": "stdout",
     "output_type": "stream",
     "text": [
      "Processing ct_train_1015_label.nii.gz\n"
     ]
    },
    {
     "name": "stderr",
     "output_type": "stream",
     "text": [
      " 32%|███▎      | 26/80 [04:15<10:38, 11.83s/it]"
     ]
    },
    {
     "name": "stdout",
     "output_type": "stream",
     "text": [
      "Processing ct_train_1016_image.nii.gz\n"
     ]
    },
    {
     "name": "stderr",
     "output_type": "stream",
     "text": [
      " 34%|███▍      | 27/80 [04:24<09:45, 11.04s/it]"
     ]
    },
    {
     "name": "stdout",
     "output_type": "stream",
     "text": [
      "Processing ct_train_1016_label.nii.gz\n"
     ]
    },
    {
     "name": "stderr",
     "output_type": "stream",
     "text": [
      " 35%|███▌      | 28/80 [04:29<08:02,  9.29s/it]"
     ]
    },
    {
     "name": "stdout",
     "output_type": "stream",
     "text": [
      "Processing ct_train_1017_image.nii.gz\n"
     ]
    },
    {
     "name": "stderr",
     "output_type": "stream",
     "text": [
      " 36%|███▋      | 29/80 [04:50<10:54, 12.84s/it]"
     ]
    },
    {
     "name": "stdout",
     "output_type": "stream",
     "text": [
      "Processing ct_train_1017_label.nii.gz\n"
     ]
    },
    {
     "name": "stderr",
     "output_type": "stream",
     "text": [
      " 38%|███▊      | 30/80 [05:03<10:41, 12.82s/it]"
     ]
    },
    {
     "name": "stdout",
     "output_type": "stream",
     "text": [
      "Processing ct_train_1018_image.nii.gz\n"
     ]
    },
    {
     "name": "stderr",
     "output_type": "stream",
     "text": [
      " 39%|███▉      | 31/80 [05:11<09:19, 11.42s/it]"
     ]
    },
    {
     "name": "stdout",
     "output_type": "stream",
     "text": [
      "Processing ct_train_1018_label.nii.gz\n"
     ]
    },
    {
     "name": "stderr",
     "output_type": "stream",
     "text": [
      " 40%|████      | 32/80 [05:16<07:28,  9.34s/it]"
     ]
    },
    {
     "name": "stdout",
     "output_type": "stream",
     "text": [
      "Processing ct_train_1019_image.nii.gz\n"
     ]
    },
    {
     "name": "stderr",
     "output_type": "stream",
     "text": [
      " 41%|████▏     | 33/80 [05:33<09:07, 11.66s/it]"
     ]
    },
    {
     "name": "stdout",
     "output_type": "stream",
     "text": [
      "Processing ct_train_1019_label.nii.gz\n"
     ]
    },
    {
     "name": "stderr",
     "output_type": "stream",
     "text": [
      " 42%|████▎     | 34/80 [05:43<08:37, 11.25s/it]"
     ]
    },
    {
     "name": "stdout",
     "output_type": "stream",
     "text": [
      "Processing ct_train_1020_image.nii.gz\n"
     ]
    },
    {
     "name": "stderr",
     "output_type": "stream",
     "text": [
      " 44%|████▍     | 35/80 [05:55<08:33, 11.40s/it]"
     ]
    },
    {
     "name": "stdout",
     "output_type": "stream",
     "text": [
      "Processing ct_train_1020_label.nii.gz\n"
     ]
    },
    {
     "name": "stderr",
     "output_type": "stream",
     "text": [
      " 45%|████▌     | 36/80 [06:01<07:13,  9.86s/it]"
     ]
    },
    {
     "name": "stdout",
     "output_type": "stream",
     "text": [
      "Processing mr_train_1001_image.nii.gz\n"
     ]
    },
    {
     "name": "stderr",
     "output_type": "stream",
     "text": [
      " 46%|████▋     | 37/80 [06:55<16:36, 23.18s/it]"
     ]
    },
    {
     "name": "stdout",
     "output_type": "stream",
     "text": [
      "Processing mr_train_1001_label.nii.gz\n"
     ]
    },
    {
     "name": "stderr",
     "output_type": "stream",
     "text": [
      " 48%|████▊     | 38/80 [07:27<18:01, 25.76s/it]"
     ]
    },
    {
     "name": "stdout",
     "output_type": "stream",
     "text": [
      "Processing mr_train_1002_image.nii.gz\n"
     ]
    },
    {
     "name": "stderr",
     "output_type": "stream",
     "text": [
      " 49%|████▉     | 39/80 [08:10<21:09, 30.96s/it]"
     ]
    },
    {
     "name": "stdout",
     "output_type": "stream",
     "text": [
      "Processing mr_train_1002_label.nii.gz\n"
     ]
    },
    {
     "name": "stderr",
     "output_type": "stream",
     "text": [
      " 50%|█████     | 40/80 [08:35<19:27, 29.18s/it]"
     ]
    },
    {
     "name": "stdout",
     "output_type": "stream",
     "text": [
      "Processing mr_train_1003_image.nii.gz\n"
     ]
    },
    {
     "name": "stderr",
     "output_type": "stream",
     "text": [
      " 51%|█████▏    | 41/80 [08:50<16:12, 24.94s/it]"
     ]
    },
    {
     "name": "stdout",
     "output_type": "stream",
     "text": [
      "Processing mr_train_1003_label.nii.gz\n"
     ]
    },
    {
     "name": "stderr",
     "output_type": "stream",
     "text": [
      " 52%|█████▎    | 42/80 [09:02<13:11, 20.83s/it]"
     ]
    },
    {
     "name": "stdout",
     "output_type": "stream",
     "text": [
      "Processing mr_train_1004_image.nii.gz\n"
     ]
    },
    {
     "name": "stderr",
     "output_type": "stream",
     "text": [
      " 54%|█████▍    | 43/80 [09:14<11:19, 18.38s/it]"
     ]
    },
    {
     "name": "stdout",
     "output_type": "stream",
     "text": [
      "Processing mr_train_1004_label.nii.gz\n"
     ]
    },
    {
     "name": "stderr",
     "output_type": "stream",
     "text": [
      " 55%|█████▌    | 44/80 [09:23<09:12, 15.36s/it]"
     ]
    },
    {
     "name": "stdout",
     "output_type": "stream",
     "text": [
      "Processing mr_train_1005_image.nii.gz\n"
     ]
    },
    {
     "name": "stderr",
     "output_type": "stream",
     "text": [
      " 56%|█████▋    | 45/80 [09:35<08:21, 14.34s/it]"
     ]
    },
    {
     "name": "stdout",
     "output_type": "stream",
     "text": [
      "Processing mr_train_1005_label.nii.gz\n"
     ]
    },
    {
     "name": "stderr",
     "output_type": "stream",
     "text": [
      " 57%|█████▊    | 46/80 [09:44<07:17, 12.86s/it]"
     ]
    },
    {
     "name": "stdout",
     "output_type": "stream",
     "text": [
      "Processing mr_train_1006_image.nii.gz\n"
     ]
    },
    {
     "name": "stderr",
     "output_type": "stream",
     "text": [
      " 59%|█████▉    | 47/80 [10:01<07:46, 14.15s/it]"
     ]
    },
    {
     "name": "stdout",
     "output_type": "stream",
     "text": [
      "Processing mr_train_1006_label.nii.gz\n"
     ]
    },
    {
     "name": "stderr",
     "output_type": "stream",
     "text": [
      " 60%|██████    | 48/80 [10:12<07:03, 13.25s/it]"
     ]
    },
    {
     "name": "stdout",
     "output_type": "stream",
     "text": [
      "Processing mr_train_1009_image.nii.gz\n",
      "^C\n"
     ]
    },
    {
     "name": "stderr",
     "output_type": "stream",
     "text": [
      " 61%|██████▏   | 49/80 [10:32<07:49, 15.14s/it]"
     ]
    },
    {
     "name": "stdout",
     "output_type": "stream",
     "text": [
      "Processing mr_train_1009_label.nii.gz\n"
     ]
    },
    {
     "name": "stderr",
     "output_type": "stream",
     "text": [
      " 62%|██████▎   | 50/80 [10:56<08:51, 17.72s/it]"
     ]
    },
    {
     "name": "stdout",
     "output_type": "stream",
     "text": [
      "Processing mr_train_1010_image.nii.gz\n"
     ]
    },
    {
     "name": "stderr",
     "output_type": "stream",
     "text": [
      " 64%|██████▍   | 51/80 [11:12<08:26, 17.48s/it]"
     ]
    },
    {
     "name": "stdout",
     "output_type": "stream",
     "text": [
      "Processing mr_train_1010_label.nii.gz\n"
     ]
    },
    {
     "name": "stderr",
     "output_type": "stream",
     "text": [
      " 65%|██████▌   | 52/80 [11:23<07:13, 15.48s/it]"
     ]
    },
    {
     "name": "stdout",
     "output_type": "stream",
     "text": [
      "Processing mr_train_1011_image.nii.gz\n"
     ]
    },
    {
     "name": "stderr",
     "output_type": "stream",
     "text": [
      " 66%|██████▋   | 53/80 [11:42<07:24, 16.48s/it]"
     ]
    },
    {
     "name": "stdout",
     "output_type": "stream",
     "text": [
      "Processing mr_train_1011_label.nii.gz\n"
     ]
    },
    {
     "name": "stderr",
     "output_type": "stream",
     "text": [
      " 68%|██████▊   | 54/80 [11:54<06:34, 15.18s/it]"
     ]
    },
    {
     "name": "stdout",
     "output_type": "stream",
     "text": [
      "Processing mr_train_1012_image.nii.gz\n"
     ]
    },
    {
     "name": "stderr",
     "output_type": "stream",
     "text": [
      " 69%|██████▉   | 55/80 [12:37<09:43, 23.36s/it]"
     ]
    },
    {
     "name": "stdout",
     "output_type": "stream",
     "text": [
      "Processing mr_train_1012_label.nii.gz\n"
     ]
    },
    {
     "name": "stderr",
     "output_type": "stream",
     "text": [
      " 70%|███████   | 56/80 [13:02<09:35, 23.99s/it]"
     ]
    },
    {
     "name": "stdout",
     "output_type": "stream",
     "text": [
      "Processing mr_train_1013_image.nii.gz\n"
     ]
    },
    {
     "name": "stderr",
     "output_type": "stream",
     "text": [
      " 71%|███████▏  | 57/80 [13:39<10:42, 27.92s/it]"
     ]
    },
    {
     "name": "stdout",
     "output_type": "stream",
     "text": [
      "Processing mr_train_1013_label.nii.gz\n"
     ]
    },
    {
     "name": "stderr",
     "output_type": "stream",
     "text": [
      " 72%|███████▎  | 58/80 [14:02<09:38, 26.29s/it]"
     ]
    },
    {
     "name": "stdout",
     "output_type": "stream",
     "text": [
      "Processing mr_train_1014_image.nii.gz\n"
     ]
    },
    {
     "name": "stderr",
     "output_type": "stream",
     "text": [
      " 74%|███████▍  | 59/80 [14:55<12:01, 34.35s/it]"
     ]
    },
    {
     "name": "stdout",
     "output_type": "stream",
     "text": [
      "Processing mr_train_1014_label.nii.gz\n"
     ]
    },
    {
     "name": "stderr",
     "output_type": "stream",
     "text": [
      " 75%|███████▌  | 60/80 [15:26<11:10, 33.53s/it]"
     ]
    },
    {
     "name": "stdout",
     "output_type": "stream",
     "text": [
      "Processing mr_train_1015_image.nii.gz\n"
     ]
    },
    {
     "name": "stderr",
     "output_type": "stream",
     "text": [
      " 76%|███████▋  | 61/80 [15:56<10:12, 32.24s/it]"
     ]
    },
    {
     "name": "stdout",
     "output_type": "stream",
     "text": [
      "Processing mr_train_1015_label.nii.gz\n"
     ]
    },
    {
     "name": "stderr",
     "output_type": "stream",
     "text": [
      " 78%|███████▊  | 62/80 [16:14<08:25, 28.09s/it]"
     ]
    },
    {
     "name": "stdout",
     "output_type": "stream",
     "text": [
      "Processing mr_train_1016_image.nii.gz\n"
     ]
    },
    {
     "name": "stderr",
     "output_type": "stream",
     "text": [
      " 79%|███████▉  | 63/80 [16:27<06:42, 23.65s/it]"
     ]
    },
    {
     "name": "stdout",
     "output_type": "stream",
     "text": [
      "Processing mr_train_1016_label.nii.gz\n"
     ]
    },
    {
     "name": "stderr",
     "output_type": "stream",
     "text": [
      " 80%|████████  | 64/80 [16:36<05:07, 19.25s/it]"
     ]
    },
    {
     "name": "stdout",
     "output_type": "stream",
     "text": [
      "Processing mr_train_1017_image.nii.gz\n"
     ]
    },
    {
     "name": "stderr",
     "output_type": "stream",
     "text": [
      " 81%|████████▏ | 65/80 [16:51<04:28, 17.88s/it]"
     ]
    },
    {
     "name": "stdout",
     "output_type": "stream",
     "text": [
      "Processing mr_train_1017_label.nii.gz\n"
     ]
    },
    {
     "name": "stderr",
     "output_type": "stream",
     "text": [
      " 82%|████████▎ | 66/80 [17:01<03:37, 15.50s/it]"
     ]
    },
    {
     "name": "stdout",
     "output_type": "stream",
     "text": [
      "Processing mr_train_1018_image.nii.gz\n"
     ]
    },
    {
     "name": "stderr",
     "output_type": "stream",
     "text": [
      " 84%|████████▍ | 67/80 [17:17<03:23, 15.65s/it]"
     ]
    },
    {
     "name": "stdout",
     "output_type": "stream",
     "text": [
      "Processing mr_train_1018_label.nii.gz\n"
     ]
    },
    {
     "name": "stderr",
     "output_type": "stream",
     "text": [
      " 85%|████████▌ | 68/80 [17:28<02:49, 14.12s/it]"
     ]
    },
    {
     "name": "stdout",
     "output_type": "stream",
     "text": [
      "Processing mr_train_1019_image.nii.gz\n"
     ]
    },
    {
     "name": "stderr",
     "output_type": "stream",
     "text": [
      " 86%|████████▋ | 69/80 [17:42<02:37, 14.30s/it]"
     ]
    },
    {
     "name": "stdout",
     "output_type": "stream",
     "text": [
      "Processing mr_train_1019_label.nii.gz\n"
     ]
    },
    {
     "name": "stderr",
     "output_type": "stream",
     "text": [
      " 88%|████████▊ | 70/80 [17:52<02:08, 12.83s/it]"
     ]
    },
    {
     "name": "stdout",
     "output_type": "stream",
     "text": [
      "Processing mr_train_1020_image.nii.gz\n"
     ]
    },
    {
     "name": "stderr",
     "output_type": "stream",
     "text": [
      " 89%|████████▉ | 71/80 [18:06<01:59, 13.26s/it]"
     ]
    },
    {
     "name": "stdout",
     "output_type": "stream",
     "text": [
      "Processing mr_train_1020_label.nii.gz\n"
     ]
    },
    {
     "name": "stderr",
     "output_type": "stream",
     "text": [
      " 90%|█████████ | 72/80 [18:15<01:36, 12.11s/it]"
     ]
    },
    {
     "name": "stdout",
     "output_type": "stream",
     "text": [
      "Processing ct_train_1007_image.nii.gz\n"
     ]
    },
    {
     "name": "stderr",
     "output_type": "stream",
     "text": [
      " 91%|█████████▏| 73/80 [18:28<01:25, 12.29s/it]"
     ]
    },
    {
     "name": "stdout",
     "output_type": "stream",
     "text": [
      "Processing ct_train_1007_label.nii.gz\n"
     ]
    },
    {
     "name": "stderr",
     "output_type": "stream",
     "text": [
      " 92%|█████████▎| 74/80 [18:35<01:04, 10.69s/it]"
     ]
    },
    {
     "name": "stdout",
     "output_type": "stream",
     "text": [
      "Processing ct_train_1008_image.nii.gz\n"
     ]
    },
    {
     "name": "stderr",
     "output_type": "stream",
     "text": [
      " 94%|█████████▍| 75/80 [18:47<00:54, 10.95s/it]"
     ]
    },
    {
     "name": "stdout",
     "output_type": "stream",
     "text": [
      "Processing ct_train_1008_label.nii.gz\n"
     ]
    },
    {
     "name": "stderr",
     "output_type": "stream",
     "text": [
      " 95%|█████████▌| 76/80 [18:53<00:38,  9.70s/it]"
     ]
    },
    {
     "name": "stdout",
     "output_type": "stream",
     "text": [
      "Processing mr_train_1007_image.nii.gz\n"
     ]
    },
    {
     "name": "stderr",
     "output_type": "stream",
     "text": [
      " 96%|█████████▋| 77/80 [19:12<00:37, 12.40s/it]"
     ]
    },
    {
     "name": "stdout",
     "output_type": "stream",
     "text": [
      "Processing mr_train_1007_label.nii.gz\n"
     ]
    },
    {
     "name": "stderr",
     "output_type": "stream",
     "text": [
      " 98%|█████████▊| 78/80 [19:25<00:25, 12.63s/it]"
     ]
    },
    {
     "name": "stdout",
     "output_type": "stream",
     "text": [
      "Processing mr_train_1008_image.nii.gz\n"
     ]
    },
    {
     "name": "stderr",
     "output_type": "stream",
     "text": [
      " 99%|█████████▉| 79/80 [19:38<00:12, 12.80s/it]"
     ]
    },
    {
     "name": "stdout",
     "output_type": "stream",
     "text": [
      "Processing mr_train_1008_label.nii.gz\n"
     ]
    },
    {
     "name": "stderr",
     "output_type": "stream",
     "text": [
      "100%|██████████| 80/80 [19:48<00:00, 14.86s/it]\n"
     ]
    }
   ],
   "source": [
    "if False:\n",
    "    with open(split_file_path, 'r') as f:\n",
    "        split_dict = json.load(f)\n",
    "\n",
    "    prepared_paths = split_dict['train_files'] + split_dict['test_files']\n",
    "\n",
    "    MMWHS_LABELS = (205,500,600,420,550) #MYO, LV, RV, LA, RA\n",
    "    NEG_LABELS = (-1,-2,-3,-4,-5)\n",
    "    TARGET_LABELS = (1,2,3,4,5)\n",
    "\n",
    "    from itertools import chain, repeat\n",
    "\n",
    "    for nii_path in tqdm(prepared_paths):\n",
    "        tqdm.write(f\"Processing {Path(nii_path).name}\")\n",
    "        if 'label' in str(nii_path):\n",
    "            # Two step replacement to cut away all other classes\n",
    "            neg_label_replace_str = ' '.join([str(e) for e in chain.from_iterable(zip(MMWHS_LABELS, NEG_LABELS))])\n",
    "            target_label_replace_str = ' '.join([str(e) for e in chain.from_iterable(zip(NEG_LABELS, TARGET_LABELS))])\n",
    "            command = \\\n",
    "                f\"{C3D} {nii_path} \" \\\n",
    "                f\"-type int \" \\\n",
    "                f\"-interpolation NearestNeighbor -resample-mm 1x1x1mm \" \\\n",
    "                f\"-replace {neg_label_replace_str} \" \\\n",
    "                f\"-clip -inf 0 \" \\\n",
    "                f\"-replace {target_label_replace_str} \" \\\n",
    "                f\"-swapdim LPI -o {nii_path}\"\n",
    "            !{command}\n",
    "        else:\n",
    "            command = \\\n",
    "                f\"{C3D} {nii_path} \" \\\n",
    "                f\"-type float \" \\\n",
    "                f\"-resample-mm 1x1x1mm \" \\\n",
    "                f\"-swapdim LPI -o {nii_path}\"\n",
    "            !{command}"
   ]
  },
  {
   "cell_type": "markdown",
   "metadata": {},
   "source": [
    "# Extract clinical views"
   ]
  },
  {
   "cell_type": "code",
   "execution_count": 4,
   "metadata": {},
   "outputs": [
    {
     "name": "stdout",
     "output_type": "stream",
     "text": [
      "ct_train_1001_image\n"
     ]
    },
    {
     "data": {
      "image/png": "[encoded data removed]",
      "text/plain": [
       "<Figure size 640x480 with 25 Axes>"
      ]
     },
     "metadata": {},
     "output_type": "display_data"
    },
    {
     "name": "stdout",
     "output_type": "stream",
     "text": [
      "\n",
      "\n",
      "ct_train_1006_image\n"
     ]
    }
   ],
   "source": [
    "NUM_SA_SLICES = 15\n",
    "\n",
    "class_dict = dict(\n",
    "    MYO=1,\n",
    "    LV=2,\n",
    "    RV=3,\n",
    "    LA=4,\n",
    "    RA=5\n",
    ")\n",
    "\n",
    "with open(split_file_path, 'r') as f:\n",
    "    split_dict = json.load(f)\n",
    "prepared_paths = split_dict['train_files'] + split_dict['test_files']\n",
    "metadata_dict = dict()\n",
    "\n",
    "if False:\n",
    "    FOV_MM = torch.tensor([240.,240.,240.])\n",
    "    FOV_VOX = fov_vox=torch.tensor([160,160,160])\n",
    "\n",
    "    for nii_label_path in prepared_paths:\n",
    "        if not 'label' in nii_label_path: continue\n",
    "\n",
    "        nii_image_path = nii_label_path.replace(\"label\", \"image\")\n",
    "        nii_label = nib.load(nii_label_path)\n",
    "        nii_image = nib.load(nii_image_path)\n",
    "\n",
    "        label = torch.as_tensor(nii_label.get_fdata()).int()\n",
    "        sp_label = label.to_sparse()\n",
    "        volume_affine = torch.as_tensor(nii_image.affine)\n",
    "        volume = torch.as_tensor(nii_image.get_fdata())\n",
    "        class_selected_sp_label = get_sub_sp_tensor(sp_label, eq_value=tuple(class_dict.values()))\n",
    "\n",
    "        cropped_label, cropped_image, cropped_nii_affine = crop_around_label_center(\n",
    "            class_selected_sp_label.to_dense()[None,None], volume_affine[None], fov_mm=FOV_MM, fov_vox=FOV_VOX,\n",
    "            image=volume[None,None])\n",
    "\n",
    "        nib.save(nib.Nifti1Image(cropped_label[0,0].int().numpy(), affine=cropped_nii_affine[0].numpy()), nii_label_path)\n",
    "        nib.save(nib.Nifti1Image(cropped_image[0,0].numpy(), affine=cropped_nii_affine[0].numpy()), nii_image_path)\n",
    "\n",
    "if True:\n",
    "    display_idx = 0\n",
    "\n",
    "    for nii_label_path in prepared_paths:\n",
    "        if not 'label' in nii_label_path: continue\n",
    "\n",
    "        nii_image_path = nii_label_path.replace(\"label\", \"image\")\n",
    "        nii_label = nib.load(nii_label_path)\n",
    "        nii_image = nib.load(nii_image_path)\n",
    "\n",
    "        label = torch.as_tensor(nii_label.get_fdata()).int()\n",
    "        sp_label = label.to_sparse()\n",
    "        volume_affine = torch.as_tensor(nii_image.affine)\n",
    "        volume = torch.as_tensor(nii_image.get_fdata())\n",
    "\n",
    "        clinical_view_affines = get_clinical_cardiac_view_affines(\n",
    "            sp_label, volume_affine, class_dict, num_sa_slices=NUM_SA_SLICES, return_unrolled=True, debug=False\n",
    "        )\n",
    "\n",
    "        clinical_view_affines = {name:affine.tolist() for name,affine in clinical_view_affines.items()}\n",
    "\n",
    "        image_id = nii_image_path.split('/')[-1].replace('.nii.gz', '')\n",
    "        metadata_dict[image_id] = dict(view_affines=clinical_view_affines)\n",
    "\n",
    "        if display_idx % 5 == 0:\n",
    "            # Print every 5th sample\n",
    "            print(image_id)\n",
    "            display_clinical_views(volume, sp_label, volume_affine, class_dict, num_sa_slices=NUM_SA_SLICES, debug=False)\n",
    "            print()\n",
    "            print()\n",
    "\n",
    "        display_idx +=1\n",
    "\n",
    "    with open(metadata_file_path, 'w') as f:\n",
    "        json.dump(metadata_dict, f, indent=4)"
   ]
  },
  {
   "cell_type": "code",
   "execution_count": null,
   "metadata": {},
   "outputs": [],
   "source": []
  }
 ],
 "metadata": {
  "kernelspec": {
   "display_name": "Python 3.9.13 ('.venv': poetry)",
   "language": "python",
   "name": "python3"
  },
  "language_info": {
   "codemirror_mode": {
    "name": "ipython",
    "version": 3
   },
   "file_extension": ".py",
   "mimetype": "text/x-python",
   "name": "python",
   "nbconvert_exporter": "python",
   "pygments_lexer": "ipython3",
   "version": "3.9.18"
  },
  "orig_nbformat": 4,
  "vscode": {
   "interpreter": {
    "hash": "da46a6541ad1ebd554a6d91c7d93891a249a9a187bd5c787406972a8a9c6b0a8"
   }
  }
 },
 "nbformat": 4,
 "nbformat_minor": 2
}
