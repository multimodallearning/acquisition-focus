{
 "cells": [
  {
   "cell_type": "code",
   "execution_count": 1,
   "id": "1294502f",
   "metadata": {
    "lines_to_next_cell": 0
   },
   "outputs": [
    {
     "name": "stdout",
     "output_type": "stream",
     "text": [
      "\n",
      "### Recommended gpus on this machine (descending order) ###\n",
      "  ID  Card name                     Util    Mem free  Cuda             User(s)\n",
      "----  --------------------------  ------  ----------  ---------------  ---------\n",
      "   0  NVIDIA GeForce GTX 1080 Ti     0 %   11178 MiB  11.4(470.63.01)\n",
      "   1  NVIDIA GeForce GTX 1080 Ti     0 %   11178 MiB  11.4(470.63.01)\n",
      "   2  NVIDIA GeForce GTX 1080 Ti     0 %   11178 MiB  11.4(470.63.01)\n",
      "   3  NVIDIA GeForce GTX 1080 Ti     0 %   11178 MiB  11.4(470.63.01)\n",
      "\n",
      "Will apply following mapping\n",
      "\n",
      "  ID  Card name                       torch\n",
      "----  --------------------------  --  -------\n",
      "   0  NVIDIA GeForce GTX 1080 Ti  ->  cuda:0\n"
     ]
    }
   ],
   "source": [
    "import os\n",
    "from pathlib import Path\n",
    "\n",
    "os.environ['MMWHS_CACHE_PATH'] = str(Path('.', '.cache'))\n",
    "\n",
    "from meidic_vtach_utils.run_on_recommended_cuda import get_cuda_environ_vars as get_vars\n",
    "os.environ.update(get_vars(\"*\"))\n",
    "\n",
    "import torch\n",
    "import torch.nn as nn\n",
    "import torch.nn.functional as F\n",
    "import torch.cuda.amp as amp\n",
    "\n",
    "from tqdm import tqdm\n",
    "import wandb\n",
    "import nibabel as nib\n",
    "\n",
    "from slice_inflate.datasets.mmwhs_dataset import MMWHSDataset, load_data, extract_2d_data\n",
    "from slice_inflate.utils.common_utils import DotDict, get_script_dir\n",
    "from slice_inflate.utils.torch_utils import reset_determinism, ensure_dense, get_batch_dice_over_all, get_batch_dice_per_class, save_model\n",
    "from matplotlib import pyplot as plt\n",
    "from mpl_toolkits.axes_grid1 import ImageGrid\n",
    "from slice_inflate.datasets.align_mmwhs import cut_slice\n",
    "from slice_inflate.utils.log_utils import get_global_idx, log_class_dices\n",
    "from sklearn.model_selection import KFold\n",
    "from torch.utils.data import DataLoader\n",
    "\n",
    "from mdl_seg_class.metrics import dice3d\n",
    "import numpy as np\n",
    "THIS_SCRIPT_DIR = get_script_dir()\n",
    "\n",
    "PROJECT_NAME = \"slice_inflate\"\n",
    "\n",
    "training_dataset = None"
   ]
  },
  {
   "cell_type": "code",
   "execution_count": 17,
   "id": "f3fce271",
   "metadata": {},
   "outputs": [],
   "source": [
    "\n",
    "config_dict = DotDict({\n",
    "    'num_folds': 5,\n",
    "    'only_first_fold': True,                # If true do not contiue with training after the first fold\n",
    "    # 'fold_override': 0,\n",
    "    # 'checkpoint_epx': 0,\n",
    "                   # If true use MIND features (https://pubmed.ncbi.nlm.nih.gov/22722056/)\n",
    "    'epochs': 500,\n",
    "\n",
    "    'batch_size': 4,\n",
    "    'val_batch_size': 1,\n",
    "    'modality': 'mr',\n",
    "    'use_2d_normal_to': None,               # Can be None or 'D', 'H', 'W'. If not None 2D slices will be selected for training\n",
    "\n",
    "    'dataset': 'mmwhs',                 # The dataset prepared with our preprocessing scripts\n",
    "    'data_base_path': str(Path(THIS_SCRIPT_DIR, \"data/MMWHS\")),\n",
    "    'reg_state': None, # Registered (noisy) labels used in training. See prepare_data() for valid reg_states\n",
    "    'train_set_max_len': None,              # Length to cut of dataloader sample count\n",
    "    'crop_around_3d_label_center': (128,128,128),\n",
    "    'crop_3d_region': ((0,128), (0,128), (0,128)),        # dimension range in which 3D samples are cropped\n",
    "    'crop_2d_slices_gt_num_threshold': 0,   # Drop 2D slices if less than threshold pixels are positive\n",
    "\n",
    "    'lr': 1e-3,\n",
    "    'use_scheduling': True,\n",
    "    'model_type': 'ae',\n",
    "\n",
    "    'save_every': 'best',\n",
    "    'mdl_save_prefix': 'data/models',\n",
    "\n",
    "    'debug': False,\n",
    "    'wandb_mode': 'online',                         # e.g. online, disabled. Use weights and biases online logging\n",
    "    'do_sweep': False,                                # Run multiple trainings with varying config values defined in sweep_config_dict below\n",
    "\n",
    "    # For a snapshot file: dummy-a2p2z76CxhCtwLJApfe8xD_fold0_epx0\n",
    "    'checkpoint_name': None,                          # Training snapshot name, e.g. dummy-a2p2z76CxhCtwLJApfe8xD\n",
    "    'fold_override': None,                            # Training fold, e.g. 0\n",
    "    'checkpoint_epx': None,                           # Training epx, e.g. 0\n",
    "\n",
    "    'do_plot': False,                                 # Generate plots (debugging purpose)\n",
    "    'save_dp_figures': False,                         # Plot data parameter value distribution\n",
    "    'save_labels': True,                              # Store training labels alongside data parameter values inside the training snapshot\n",
    "\n",
    "    'device': 'cuda'\n",
    "})\n",
    "\n",
    "def prepare_data(config):\n",
    "    training_dataset = MMWHSDataset(\n",
    "        config.data_base_path,\n",
    "        state=\"training\",\n",
    "        load_func=load_data,\n",
    "        extract_slice_func=extract_2d_data,\n",
    "        modality=config.modality,\n",
    "        do_align_global=True,\n",
    "        do_resample=False, # Prior to cropping, resample image?\n",
    "        crop_3d_region=None, # Crop or pad the images to these dimensions\n",
    "        crop_around_3d_label_center=config.crop_around_3d_label_center,\n",
    "        pre_interpolation_factor=1., # When getting the data, resize the data by this factor\n",
    "        ensure_labeled_pairs=True, # Only use fully labelled images (segmentation label available)\n",
    "        use_2d_normal_to=config.use_2d_normal_to, # Use 2D slices cut normal to D,H,>W< dimensions\n",
    "        crop_around_2d_label_center=(128,128),\n",
    "\n",
    "        augment_angle_std=5,\n",
    "\n",
    "        device=config.device,\n",
    "        debug=config.debug\n",
    "    )\n",
    "\n",
    "    return training_dataset"
   ]
  },
  {
   "cell_type": "code",
   "execution_count": 3,
   "id": "447c2722",
   "metadata": {},
   "outputs": [],
   "source": [
    "if False:\n",
    "    training_dataset = prepare_data(config_dict)\n",
    "    training_dataset.train(augment=False)\n",
    "    training_dataset.self_attributes['augment_angle_std'] = 2\n",
    "    print(training_dataset.do_augment)\n",
    "    for sample in [training_dataset[idx] for idx in [1]]:\n",
    "        pass\n",
    "        fig = plt.figure(figsize=(16., 4.))\n",
    "        grid = ImageGrid(fig, 111,  # similar to subplot(111)\n",
    "            nrows_ncols=(1, 6),  # creates 2x2 grid of axes\n",
    "            axes_pad=0.0,  # pad between axes in inch.\n",
    "        )\n",
    "\n",
    "        show_row = [\n",
    "            cut_slice(sample['image']),\n",
    "            cut_slice(sample['label']),\n",
    "\n",
    "            sample['sa_image_slc'],\n",
    "            sample['sa_label_slc'],\n",
    "\n",
    "            sample['hla_image_slc'],\n",
    "            sample['hla_label_slc'],\n",
    "        ]\n",
    "\n",
    "        for ax, im in zip(grid, show_row):\n",
    "            ax.imshow(im, cmap='gray', interpolation='none')\n",
    "\n",
    "        plt.show()"
   ]
  },
  {
   "cell_type": "code",
   "execution_count": 4,
   "id": "49c0b6b5",
   "metadata": {},
   "outputs": [],
   "source": [
    "if False:\n",
    "    training_dataset = prepare_data(config_dict)\n",
    "    training_dataset.train()\n",
    "\n",
    "    training_dataset.self_attributes['augment_angle_std'] = 10\n",
    "    print(training_dataset.do_augment)\n",
    "    import torch\n",
    "    lbl, sa_label, hla_label = torch.zeros(128,128), torch.zeros(128,128), torch.zeros(128,128)\n",
    "    for idx in range(15):\n",
    "        sample = training_dataset[1]\n",
    "        # nib.save(nib.Nifti1Image(sample['label'].cpu().numpy(), affine=torch.eye(4).numpy()), f'out{idx}.nii.gz')\n",
    "        lbl += cut_slice(sample['label']).cpu()\n",
    "        sa_label += sample['sa_label_slc'].cpu()\n",
    "        hla_label += sample['hla_label_slc'].cpu()\n",
    "    fig = plt.figure(figsize=(16., 4.))\n",
    "    grid = ImageGrid(fig, 111,  # similar to subplot(111)\n",
    "        nrows_ncols=(1, 3),  # creates 2x2 grid of axes\n",
    "        axes_pad=0.0,  # pad between axes in inch.\n",
    "    )\n",
    "\n",
    "    show_row = [\n",
    "        lbl, sa_label, hla_label\n",
    "    ]\n",
    "\n",
    "    for ax, im in zip(grid, show_row):\n",
    "        ax.imshow(im, cmap='magma', interpolation='none')\n",
    "\n",
    "    plt.show()"
   ]
  },
  {
   "cell_type": "code",
   "execution_count": 5,
   "id": "c9d0a5a8",
   "metadata": {},
   "outputs": [],
   "source": [
    "if False:\n",
    "    training_dataset = prepare_data(config_dict)\n",
    "    training_dataset.train(augment=False)\n",
    "    training_dataset.self_attributes['augment_angle_std'] = 2\n",
    "    print(training_dataset.do_augment)\n",
    "\n",
    "    lbl, sa_label, hla_label = torch.zeros(128,128), torch.zeros(128,128), torch.zeros(128,128)\n",
    "    for tr_idx in range(len(training_dataset)):\n",
    "        sample = training_dataset[tr_idx]\n",
    "\n",
    "        lbl += cut_slice(sample['label']).cpu()\n",
    "        sa_label += sample['sa_label_slc'].cpu()\n",
    "        hla_label += sample['hla_label_slc'].cpu()\n",
    "\n",
    "    fig = plt.figure(figsize=(16., 4.))\n",
    "    grid = ImageGrid(fig, 111,  # similar to subplot(111)\n",
    "        nrows_ncols=(1, 3),  # creates 2x2 grid of axes\n",
    "        axes_pad=0.0,  # pad between axes in inch.\n",
    "    )\n",
    "\n",
    "    show_row = [\n",
    "        lbl, sa_label, hla_label\n",
    "    ]\n",
    "\n",
    "    for ax, im in zip(grid, show_row):\n",
    "        ax.imshow(im, cmap='magma', interpolation='none')\n",
    "\n",
    "    plt.show()"
   ]
  },
  {
   "cell_type": "code",
   "execution_count": 6,
   "id": "d793b483",
   "metadata": {},
   "outputs": [],
   "source": [
    "import contextlib\n",
    "\n",
    "def get_named_layers_leaves(module):\n",
    "    \"\"\" Returns all leaf layers of a pytorch module and a keychain as identifier.\n",
    "        e.g.\n",
    "        ...\n",
    "        ('features.0.5', nn.ReLU())\n",
    "        ...\n",
    "        ('classifier.0', nn.BatchNorm2D())\n",
    "        ('classifier.1', nn.Linear())\n",
    "    \"\"\"\n",
    "\n",
    "    return [(keychain, sub_mod) for keychain, sub_mod in list(module.named_modules()) if not next(sub_mod.children(), None)]\n",
    "\n",
    "@contextlib.contextmanager\n",
    "def temp_forward_hooks(modules, pre_fwd_hook_fn=None, post_fwd_hook_fn=None):\n",
    "    handles = []\n",
    "    if pre_fwd_hook_fn:\n",
    "        handles.extend([mod.register_forward_pre_hook(pre_fwd_hook_fn) for mod in modules])\n",
    "    if post_fwd_hook_fn:\n",
    "        handles.extend([mod.register_forward_hook(post_fwd_hook_fn) for mod in modules])\n",
    "\n",
    "    yield\n",
    "    for hand in handles:\n",
    "        hand.remove()\n",
    "\n",
    "def debug_forward_pass(module, inpt, STEP_MODE=False):\n",
    "    named_leaves = get_named_layers_leaves(module)\n",
    "    leave_mod_dict = {mod:keychain for keychain, mod in named_leaves}\n",
    "\n",
    "    def get_shape_str(interface_var):\n",
    "        if isinstance(interface_var, tuple):\n",
    "            shps = [str(elem.shape) if isinstance(elem, torch.Tensor) else type(elem) for elem in interface_var]\n",
    "            return ', '.join(shps)\n",
    "        elif isinstance(interface_var, torch.Tensor):\n",
    "            return interface_var.shape\n",
    "        return type(interface_var)\n",
    "\n",
    "    def print_pre_info(module, inpt):\n",
    "        inpt_shapes = get_shape_str(inpt)\n",
    "        print(f\"in:  {inpt_shapes}\")\n",
    "        print(f\"key: {leave_mod_dict[module]}\")\n",
    "        print(f\"mod: {module}\")\n",
    "        if STEP_MODE:\n",
    "            input(\"To continue forward pass press [ENTER]\")\n",
    "\n",
    "    def print_post_info(module, inpt, output):\n",
    "        output_shapes = get_shape_str(output)\n",
    "        print(f\"out: {output_shapes}\\n\")\n",
    "\n",
    "    with temp_forward_hooks(leave_mod_dict.keys(), print_pre_info, print_post_info):\n",
    "        return module(inpt)"
   ]
  },
  {
   "cell_type": "code",
   "execution_count": 7,
   "id": "410ec046",
   "metadata": {},
   "outputs": [],
   "source": [
    "class BlendowskiAE(torch.nn.Module):\n",
    "\n",
    "    class ConvBlock(torch.nn.Module):\n",
    "        def __init__(self, in_channels: int, out_channels_list: list, strides_list: list, kernels_list:list=None, paddings_list:list=None):\n",
    "            super().__init__()\n",
    "\n",
    "            ops = []\n",
    "            in_channels = [in_channels] + out_channels_list[:-1]\n",
    "            if kernels_list is None:\n",
    "                kernels_list = [3] * len(out_channels_list)\n",
    "            if paddings_list is None:\n",
    "                paddings_list = [1] * len(out_channels_list)\n",
    "\n",
    "            for op_idx in range(len(out_channels_list)):\n",
    "                ops.append(torch.nn.Conv3d(\n",
    "                    in_channels[op_idx],\n",
    "                    out_channels_list[op_idx],\n",
    "                    kernel_size=kernels_list[op_idx],\n",
    "                    stride=strides_list[op_idx],\n",
    "                    padding=paddings_list[op_idx]\n",
    "                ))\n",
    "                ops.append(torch.nn.BatchNorm3d(out_channels_list[op_idx]))\n",
    "                ops.append(torch.nn.LeakyReLU())\n",
    "\n",
    "            self.block = torch.nn.Sequential(*ops)\n",
    "\n",
    "        def forward(self, x):\n",
    "            return self.block(x)\n",
    "\n",
    "\n",
    "\n",
    "    def __init__(self, in_channels, out_channels, decoder_in_channels=2, debug_mode=False):\n",
    "        super().__init__()\n",
    "\n",
    "        self.debug_mode = debug_mode\n",
    "\n",
    "        self.first_layer_encoder = self.ConvBlock(in_channels, out_channels_list=[8], strides_list=[1])\n",
    "        self.first_layer_decoder = self.ConvBlock(8, out_channels_list=[8,out_channels], strides_list=[1,1])\n",
    "\n",
    "        self.second_layer_encoder = self.ConvBlock(8, out_channels_list=[20,20,20], strides_list=[2,1,1])\n",
    "        self.second_layer_decoder = self.ConvBlock(20, out_channels_list=[8], strides_list=[1])\n",
    "\n",
    "        self.third_layer_encoder = self.ConvBlock(20, out_channels_list=[40,40,40], strides_list=[2,1,1])\n",
    "        self.third_layer_decoder = self.ConvBlock(40, out_channels_list=[20], strides_list=[1])\n",
    "\n",
    "        self.fourth_layer_encoder = self.ConvBlock(40, out_channels_list=[60,60,60], strides_list=[2,1,1])\n",
    "        self.fourth_layer_decoder = self.ConvBlock(decoder_in_channels, out_channels_list=[40], strides_list=[1])\n",
    "\n",
    "        self.deepest_layer = self.ConvBlock(60, out_channels_list=[60,20,2], strides_list=[2,1,1])\n",
    "\n",
    "        self.encoder = torch.nn.Sequential(\n",
    "            self.first_layer_encoder,\n",
    "            self.second_layer_encoder,\n",
    "            self.third_layer_encoder,\n",
    "            self.fourth_layer_encoder,\n",
    "        )\n",
    "\n",
    "        self.decoder = torch.nn.Sequential(\n",
    "            torch.nn.Upsample(scale_factor=2),\n",
    "            self.fourth_layer_decoder,\n",
    "            torch.nn.Upsample(scale_factor=2),\n",
    "            self.third_layer_decoder,\n",
    "            torch.nn.Upsample(scale_factor=2),\n",
    "            self.second_layer_decoder,\n",
    "            torch.nn.Upsample(scale_factor=2),\n",
    "            self.first_layer_decoder,\n",
    "        )\n",
    "\n",
    "    def encode(self, x):\n",
    "        h = self.encoder(x)\n",
    "        h = self.deepest_layer(h)\n",
    "        return h\n",
    "        # if self.debug_mode:\n",
    "        #     return debug_forward_pass(self.encoder, x, STEP_MODE=False)\n",
    "        # else:\n",
    "        #     return self.encoder(x)\n",
    "\n",
    "    def decode(self, z):\n",
    "        if self.debug_mode:\n",
    "            return debug_forward_pass(self.decoder, z, STEP_MODE=False)\n",
    "        else:\n",
    "            return self.decoder(z)\n",
    "\n",
    "    def forward(self, x):\n",
    "        x = torch.nn.functional.instance_norm(x)\n",
    "        z = self.encode(x)\n",
    "        return self.decode(z), z\n",
    "\n",
    "\n",
    "\n",
    "class BlendowskiVAE(BlendowskiAE):\n",
    "    def __init__(self, *args, **kwargs):\n",
    "        kwargs['decoder_in_channels'] = 1\n",
    "        super().__init__(*args, **kwargs)\n",
    "\n",
    "        self.deepest_layer = nn.ModuleList([\n",
    "            self.ConvBlock(60, out_channels_list=[60,20,20,1], strides_list=[2,1,1,1], kernels_list=[3,3,3,1], paddings_list=[1,1,1,0]),\n",
    "            self.ConvBlock(60, out_channels_list=[60,20,20,1], strides_list=[2,1,1,1], kernels_list=[3,3,3,1], paddings_list=[1,1,1,0]),\n",
    "        ])\n",
    "\n",
    "        self.log_var_scale = nn.Parameter(torch.Tensor([0.0]))\n",
    "\n",
    "    def sample_z(self, mean, std):\n",
    "        return torch.normal(mean=mean, std=std)\n",
    "\n",
    "    def encode(self, x):\n",
    "        h = self.encoder(x)\n",
    "        mean = self.deepest_layer[0](h)\n",
    "        log_var = self.deepest_layer[1](h)\n",
    "        return mean, log_var\n",
    "\n",
    "    def forward(self, x):\n",
    "        mean, log_var = self.encode(x)\n",
    "\n",
    "        if self.training:\n",
    "            std = torch.exp(log_var/2) + 1e-6\n",
    "        else:\n",
    "            std = 1e-6 * torch.ones_like(log_var)\n",
    "\n",
    "        z = self.sample_z(mean=mean, std=std)\n",
    "\n",
    "        return self.decode(z), (z, mean, std)\n",
    "\n"
   ]
  },
  {
   "cell_type": "code",
   "execution_count": 8,
   "id": "a063e2be",
   "metadata": {
    "lines_to_next_cell": 2
   },
   "outputs": [],
   "source": [
    "# x = torch.zeros(1,8,128,128,128)\n",
    "# bae = BlendowskiAE(in_channels=8, out_channels=8)\n",
    "\n",
    "# y, z = bae(x)\n",
    "\n",
    "# print(\"BAE\")\n",
    "# print(\"x\", x.shape)\n",
    "# print(\"z\", z.shape)\n",
    "# print(\"y\", y.shape)\n",
    "# print()\n",
    "\n",
    "# bvae = BlendowskiVAE(in_channels=8, out_channels=8)\n",
    "\n",
    "# y, z = bvae(x)\n",
    "\n",
    "# print(\"BVAE\")\n",
    "# print(\"x\", x.shape)\n",
    "# print(\"z\", z.shape)\n",
    "# print(\"y\", y.shape)"
   ]
  },
  {
   "cell_type": "code",
   "execution_count": 9,
   "id": "7de04e95",
   "metadata": {},
   "outputs": [],
   "source": [
    "# model = BlendowskiVAE(in_channels=6, out_channels=6)\n",
    "# model.cuda()\n",
    "# with torch.no_grad():\n",
    "#     smp = torch.nn.functional.one_hot(training_dataset[1]['label'], 6).unsqueeze(0).permute([0,4,1,2,3]).float().cuda()\n",
    "# y, _ = model(smp)"
   ]
  },
  {
   "cell_type": "code",
   "execution_count": 10,
   "id": "1c9dfb2f",
   "metadata": {},
   "outputs": [
    {
     "name": "stdout",
     "output_type": "stream",
     "text": [
      "Loading MMWHS training images and labels... (['mr'])\n"
     ]
    },
    {
     "name": "stderr",
     "output_type": "stream",
     "text": [
      "20 images, 20 labels: 100%|██████████| 40/40 [00:26<00:00,  1.49it/s]\n"
     ]
    },
    {
     "name": "stdout",
     "output_type": "stream",
     "text": [
      "Postprocessing 3D volumes\n",
      "Removed 0 3D images in postprocessing\n",
      "Equal image and label numbers: True (20)\n",
      "Data import finished.\n",
      "Dataloader will yield 3D samples\n"
     ]
    }
   ],
   "source": [
    "\n",
    "if training_dataset is None:\n",
    "    training_dataset = prepare_data(config_dict)"
   ]
  },
  {
   "cell_type": "code",
   "execution_count": 11,
   "id": "49157799",
   "metadata": {},
   "outputs": [],
   "source": [
    "# def nan_hook(self, inp, output):\n",
    "#     if not isinstance(output, tuple):\n",
    "#         outputs = [output]\n",
    "#     else:\n",
    "#         outputs = output\n",
    "\n",
    "#     for i, out in enumerate(outputs):\n",
    "#         nan_mask = torch.isnan(out)\n",
    "#         if nan_mask.any():\n",
    "#             print(\"In\", self.__class__.__name__)\n",
    "#             raise RuntimeError(f\"Found NAN in output {i} at indices: \", nan_mask.nonzero(), \"where:\", out[nan_mask.nonzero()[:, 0].unique(sorted=True)])\n",
    "\n",
    "def get_model(config, dataset_len, num_classes, THIS_SCRIPT_DIR, _path=None, device='cpu'):\n",
    "    _path = Path(THIS_SCRIPT_DIR).joinpath(_path).resolve()\n",
    "\n",
    "    if config.model_type == 'vae':\n",
    "        model = BlendowskiVAE(in_channels=num_classes, out_channels=num_classes)\n",
    "    elif config.model_type == 'ae':\n",
    "            model = BlendowskiAE(in_channels=num_classes, out_channels=num_classes)\n",
    "    else:\n",
    "        raise ValueError\n",
    "    model.to(device)\n",
    "    print(f\"Param count model: {sum(p.numel() for p in model.parameters())}\")\n",
    "\n",
    "    optimizer = torch.optim.AdamW(model.parameters(), lr=config.lr)\n",
    "    scaler = amp.GradScaler()\n",
    "\n",
    "    scheduler = torch.optim.lr_scheduler.ReduceLROnPlateau(optimizer, patience=20, verbose=True)\n",
    "\n",
    "    if _path and _path.is_dir():\n",
    "        print(f\"Loading model, optimizers and grad scalers from {_path}\")\n",
    "        model.load_state_dict(torch.load(_path.joinpath('model.pth'), map_location=device))\n",
    "        optimizer.load_state_dict(torch.load(_path.joinpath('optimizer.pth'), map_location=device))\n",
    "        scheduler.load_state_dict(torch.load(_path.joinpath('scheduler.pth'), map_location=device))\n",
    "        scaler.load_state_dict(torch.load(_path.joinpath('scaler.pth'), map_location=device))\n",
    "    else:\n",
    "        print(f\"Generating fresh '{type(model).__name__}' model, optimizer and grad scaler.\")\n",
    "\n",
    "    # for submodule in model.modules():\n",
    "    #     submodule.register_forward_hook(nan_hook)\n",
    "\n",
    "    return (model, optimizer, scheduler, scaler)"
   ]
  },
  {
   "cell_type": "code",
   "execution_count": 12,
   "id": "40a8e87d",
   "metadata": {
    "lines_to_next_cell": 2
   },
   "outputs": [],
   "source": [
    "def get_model_input(batch, config, num_classes):\n",
    "    b_hla_slc_seg = batch['hla_label_slc']\n",
    "    b_sa_slc_seg = batch['sa_label_slc']\n",
    "    b_input = torch.cat(\n",
    "        [b_sa_slc_seg.unsqueeze(1).repeat(1,64,1,1),\n",
    "            b_hla_slc_seg.unsqueeze(1).repeat(1,64,1,1)],\n",
    "            dim=1\n",
    "    )\n",
    "    b_seg = batch['label']\n",
    "\n",
    "    b_input = b_input.to(device=config.device)\n",
    "    b_seg = b_seg.to(device=config.device)\n",
    "\n",
    "    b_input = F.one_hot(b_input, num_classes).permute(0,4,1,2,3)\n",
    "    b_input = b_input.float()\n",
    "    b_seg = F.one_hot(b_seg, num_classes).permute(0,4,1,2,3)\n",
    "\n",
    "    return b_input, b_seg\n",
    "\n",
    "def inference_wrap(model, seg):\n",
    "    with torch.inference_mode():\n",
    "        b_seg = seg.unsqueeze(0).unsqueeze(0).float()\n",
    "        b_out = model(b_seg)[0]\n",
    "        b_out = b_out.argmax(1)\n",
    "        return b_out\n",
    "\n",
    "\n",
    "\n",
    "def gaussian_likelihood(y_hat, log_var_scale, y_target):\n",
    "    B, C, *_ = y_hat.shape\n",
    "    mean = y_hat\n",
    "    scale = torch.exp(log_var_scale/2)\n",
    "    dist = torch.distributions.Normal(mean, scale)\n",
    "\n",
    "    # measure prob of seeing image under p(x|z)\n",
    "    log_pxz = dist.log_prob(y_target)\n",
    "\n",
    "    # GLH\n",
    "    return log_pxz.reshape(B, C, -1).mean(-1)\n",
    "\n",
    "\n",
    "\n",
    "def kl_divergence(z, mean, std):\n",
    "    # See https://towardsdatascience.com/variational-autoencoder-demystified-with-pytorch-implementation-3a06bee395ed\n",
    "    B,C, *_ = z.shape\n",
    "    p = torch.distributions.Normal(torch.zeros_like(mean), torch.ones_like(std))\n",
    "    q = torch.distributions.Normal(mean, std)\n",
    "\n",
    "    log_qzx = q.log_prob(z)\n",
    "    log_pz = p.log_prob(z)\n",
    "\n",
    "    # KL divergence\n",
    "    kl = (log_qzx - log_pz)\n",
    "\n",
    "    # Reduce spatial dimensions\n",
    "    kl = kl.view(-1).mean(-1)\n",
    "    return kl\n",
    "\n",
    "\n",
    "\n",
    "def get_ae_loss_value(y_hat, y_target, class_weights):\n",
    "    y_hat = torch.nn.functional.instance_norm(y_hat)\n",
    "    y_target = torch.nn.functional.instance_norm(y_target)\n",
    "    return nn.CrossEntropyLoss(class_weights)(y_hat, y_target)\n",
    "\n",
    "\n",
    "def get_vae_loss_value(y_hat, y_target, z, mean, std, class_weights, model):\n",
    "    # Reconstruction loss\n",
    "    # recon_loss = gaussian_likelihood(y_hat, model.log_var_scale, y_target.float()) # TODO Does not work\n",
    "    recon_loss = get_ae_loss_value(y_hat, y_target, class_weights)\n",
    "    # kl\n",
    "    kl = kl_divergence(z, mean, std)\n",
    "\n",
    "    # elbo\n",
    "    elbo = kl.mean() + recon_loss\n",
    "\n",
    "    return elbo\n",
    "\n",
    "def train_DL(run_name, config, training_dataset):\n",
    "    reset_determinism()\n",
    "\n",
    "    # Configure folds\n",
    "    kf = KFold(n_splits=config.num_folds)\n",
    "    # kf.get_n_splits(training_dataset.__len__(use_2d_override=False))\n",
    "    fold_iter = enumerate(kf.split(range(training_dataset.__len__(use_2d_override=False))))\n",
    "\n",
    "    if config.get('fold_override', None):\n",
    "        selected_fold = config.get('fold_override', 0)\n",
    "        fold_iter = list(fold_iter)[selected_fold:selected_fold+1]\n",
    "    elif config.only_first_fold:\n",
    "        fold_iter = list(fold_iter)[0:1]\n",
    "\n",
    "    if config.use_2d_normal_to is not None:\n",
    "        n_dims = (-2,-1)\n",
    "    else:\n",
    "        n_dims = (-3,-2,-1)\n",
    "\n",
    "    fold_means_no_bg = []\n",
    "\n",
    "    best_val_score = 0\n",
    "\n",
    "    for fold_idx, (train_idxs, val_idxs) in fold_iter:\n",
    "        train_idxs = torch.tensor(train_idxs)\n",
    "        val_idxs = torch.tensor(val_idxs)\n",
    "        val_ids = training_dataset.switch_3d_identifiers(val_idxs)\n",
    "\n",
    "        print(f\"Will run validation with these 3D samples (#{len(val_ids)}):\", sorted(val_ids))\n",
    "\n",
    "        ### Add train sampler and dataloaders ##\n",
    "        train_subsampler = torch.utils.data.SubsetRandomSampler(train_idxs)\n",
    "        val_subsampler = torch.utils.data.SubsetRandomSampler(val_idxs)\n",
    "\n",
    "        train_dataloader = DataLoader(training_dataset, batch_size=config.batch_size,\n",
    "            sampler=train_subsampler, pin_memory=False, drop_last=False,\n",
    "            # collate_fn=training_dataset.get_efficient_augmentation_collate_fn()\n",
    "        )\n",
    "        val_dataloader = DataLoader(training_dataset, batch_size=config.val_batch_size,\n",
    "            sampler=val_subsampler, pin_memory=False, drop_last=False,\n",
    "        )\n",
    "\n",
    "        ### Get model, data parameters, optimizers for model and data parameters, as well as grad scaler ###\n",
    "        if 'checkpoint_epx' in config and config['checkpoint_epx'] is not None:\n",
    "            epx_start = config['checkpoint_epx']\n",
    "        else:\n",
    "            epx_start = 0\n",
    "\n",
    "        if config.checkpoint_name:\n",
    "            # Load from checkpoint\n",
    "            _path = f\"{config.mdl_save_prefix}/{config.checkpoint_name}_fold{fold_idx}_epx{epx_start}\"\n",
    "        else:\n",
    "            _path = f\"{config.mdl_save_prefix}/{wandb.run.name}_fold{fold_idx}_epx{epx_start}\"\n",
    "\n",
    "        (model, optimizer, scheduler, scaler) = get_model(config, len(training_dataset), len(training_dataset.label_tags),\n",
    "            THIS_SCRIPT_DIR=THIS_SCRIPT_DIR, _path=_path, device=config.device)\n",
    "\n",
    "        all_bn_counts = torch.zeros([len(training_dataset.label_tags)], device='cpu')\n",
    "\n",
    "        for bn_counts in training_dataset.bincounts_3d.values():\n",
    "            all_bn_counts += bn_counts\n",
    "\n",
    "        class_weights = 1 / (all_bn_counts).float().pow(.35)\n",
    "        class_weights /= class_weights.mean()\n",
    "\n",
    "        class_weights = class_weights.to(device=config.device)\n",
    "\n",
    "        autocast_enabled = 'cuda' in config.device\n",
    "        autocast_enabled = False\n",
    "\n",
    "        for epx in range(epx_start, config.epochs):\n",
    "            global_idx = get_global_idx(fold_idx, epx, config.epochs)\n",
    "\n",
    "            model.train()\n",
    "\n",
    "            ### Disturb samples ###\n",
    "            training_dataset.train(use_modified=False)\n",
    "\n",
    "            epx_losses = []\n",
    "            dices = []\n",
    "            class_dices = []\n",
    "\n",
    "            # Load data\n",
    "            for batch_idx, batch in tqdm(enumerate(train_dataloader), desc=\"batch:\", total=len(train_dataloader)):\n",
    "\n",
    "                optimizer.zero_grad()\n",
    "                b_input, b_seg = get_model_input(batch, config, len(training_dataset.label_tags))\n",
    "                b_input = (b_input/b_input.std((0,-1,-2,-3)).view(1,6,1,1,1))\n",
    "                b_input = (b_input-b_input.mean((0,-1,-2,-3)).view(1,6,1,1,1))\n",
    "                \n",
    "                ### Forward pass ###\n",
    "                with amp.autocast(enabled=autocast_enabled):\n",
    "                    assert b_input.dim() == len(n_dims)+2, \\\n",
    "                        f\"Input image for model must be {len(n_dims)+2}D: BxCxSPATIAL but is {b_input.shape}\"\n",
    "                    for param in model.parameters():\n",
    "                        param.requires_grad = True\n",
    "\n",
    "                    model.use_checkpointing = True\n",
    "                    if config.model_type == 'vae':\n",
    "                        y_hat, (z, mean, std) = model(b_input)\n",
    "                    elif config.model_type == 'ae':\n",
    "                        y_hat, _ = model(b_input)\n",
    "                    else:\n",
    "                        raise ValueError\n",
    "                        \n",
    "                    ### Calculate loss ###\n",
    "                    assert y_hat.dim() == len(n_dims)+2, \\\n",
    "                        f\"Input shape for loss must be BxNUM_CLASSESxSPATIAL but is {y_hat.shape}\"\n",
    "                    assert b_seg.dim() == len(n_dims)+2, \\\n",
    "                        f\"Target shape for loss must be BxNUM_CLASSESxSPATIAL but is {b_seg.shape}\"\n",
    "\n",
    "                    if \"vae\" in type(model).__name__.lower():\n",
    "                        loss = get_vae_loss_value(y_hat, b_seg.float(), z, mean, std, class_weights, model)\n",
    "                    else:\n",
    "                        loss = get_ae_loss_value(y_hat, b_seg.float(), class_weights)\n",
    "\n",
    "                    scaler.scale(loss).backward()\n",
    "                    scaler.step(optimizer)\n",
    "                    scaler.update()\n",
    "\n",
    "                    epx_losses.append(loss.item())\n",
    "\n",
    "                pred_seg = y_hat.argmax(1)\n",
    "\n",
    "                # Calculate dice score\n",
    "                b_dice = dice3d(\n",
    "                    torch.nn.functional.one_hot(pred_seg, len(training_dataset.label_tags)).permute(0,4,1,2,3),\n",
    "                    b_seg, # Calculate dice score with original segmentation (no disturbance)\n",
    "                    one_hot_torch_style=False\n",
    "                )\n",
    "\n",
    "                dices.append(get_batch_dice_over_all(\n",
    "                    b_dice, exclude_bg=True))\n",
    "                class_dices.append(get_batch_dice_per_class(\n",
    "                    b_dice, training_dataset.label_tags, exclude_bg=True))\n",
    "\n",
    "\n",
    "                if config.debug:\n",
    "                    break\n",
    "\n",
    "            ###  Scheduler management ###\n",
    "            if config.use_scheduling:\n",
    "                scheduler.step(loss)\n",
    "\n",
    "            ### Logging ###\n",
    "            print(f\"### Log epoch {epx}\")\n",
    "            print(\"### Training\")\n",
    "\n",
    "            ### Log wandb data ###\n",
    "            # Log the epoch idx per fold - so we can recover the diagram by setting\n",
    "            # ref_epoch_idx as x-axis in wandb interface\n",
    "            wandb.log({\"ref_epoch_idx\": epx}, step=global_idx)\n",
    "\n",
    "            mean_loss = torch.tensor(epx_losses).mean()\n",
    "            wandb.log({f'losses/loss_fold{fold_idx}': mean_loss}, step=global_idx)\n",
    "            print(f'losses/loss_fold{fold_idx}', f\"{mean_loss}\")\n",
    "\n",
    "            mean_dice = np.nanmean(dices)\n",
    "            print(f'dice_mean_wo_bg_fold{fold_idx}', f\"{mean_dice*100:.2f}%\")\n",
    "            wandb.log({f'scores/dice_mean_wo_bg_fold{fold_idx}': mean_dice}, step=global_idx)\n",
    "\n",
    "            log_class_dices(\"scores/dice_mean_\", f\"_fold{fold_idx}\", class_dices, global_idx)\n",
    "\n",
    "            print()\n",
    "            print(\"### Validation\")\n",
    "            model.eval()\n",
    "            training_dataset.eval()\n",
    "\n",
    "            val_dices = []\n",
    "            val_losses = []\n",
    "            val_class_dices = []\n",
    "\n",
    "            with amp.autocast(enabled=autocast_enabled):\n",
    "                with torch.no_grad():\n",
    "                    for val_batch_idx, val_batch in tqdm(enumerate(val_dataloader), desc=\"batch:\", total=len(val_dataloader)):\n",
    "\n",
    "                        b_val_input, b_val_seg = get_model_input(val_batch, config, len(training_dataset.label_tags))\n",
    "                        \n",
    "                        if config.model_type == 'vae':\n",
    "                            y_hat_val, (z_val, mean_val, std_val) = model(b_val_input)\n",
    "                            val_loss = get_vae_loss_value(y_hat_val, b_val_seg.float(), z_val, mean_val, std_val, class_weights, model)\n",
    "                        elif config.model_type == 'ae':\n",
    "                            y_hat_val, _ = model(b_val_input)\n",
    "                            val_loss = get_ae_loss_value(y_hat_val, b_val_seg.float(), class_weights)\n",
    "                        else:\n",
    "                            raise ValueError\n",
    "                        \n",
    "                        val_pred_seg = y_hat_val.argmax(1)\n",
    "\n",
    "                        b_val_dice = dice3d(\n",
    "                            torch.nn.functional.one_hot(val_pred_seg, len(training_dataset.label_tags)).permute(0,4,1,2,3),\n",
    "                            b_val_seg,\n",
    "                            one_hot_torch_style=False\n",
    "                        )\n",
    "\n",
    "                        # Get mean score over batch\n",
    "                        val_losses.append(val_loss)\n",
    "                        val_dices.append(get_batch_dice_over_all(\n",
    "                            b_val_dice, exclude_bg=True))\n",
    "\n",
    "                        val_class_dices.append(get_batch_dice_per_class(\n",
    "                            b_val_dice, training_dataset.label_tags, exclude_bg=True))\n",
    "\n",
    "                    mean_val_loss = torch.tensor(val_losses).mean()\n",
    "                    mean_val_dice = np.nanmean(val_dices)\n",
    "\n",
    "                    wandb.log({f'losses/val_loss_fold{fold_idx}': mean_val_loss}, step=global_idx)\n",
    "                    print(f'losses/val_loss_fold{fold_idx}', f\"{mean_val_loss}\")\n",
    "\n",
    "                    print(f'val_dice_mean_wo_bg_fold{fold_idx}', f\"{mean_val_dice*100:.2f}%\")\n",
    "                    wandb.log({f'scores/val_dice_mean_wo_bg_fold{fold_idx}': mean_val_dice}, step=global_idx)\n",
    "                    log_class_dices(\"scores/val_dice_mean_\", f\"_fold{fold_idx}\", val_class_dices, global_idx)\n",
    "\n",
    "            print()\n",
    "\n",
    "            # Save model\n",
    "            if config.save_every is None:\n",
    "                pass\n",
    "\n",
    "            elif config.save_every == 'best':\n",
    "                if mean_val_dice > best_val_score:\n",
    "                    best_val_score = mean_val_dice\n",
    "                    save_path = f\"{config.mdl_save_prefix}/{wandb.run.name}_fold{fold_idx}_best\"\n",
    "                    save_model(\n",
    "                        Path(THIS_SCRIPT_DIR, save_path),\n",
    "                        model=model,\n",
    "                        optimizer=optimizer,\n",
    "                        scheduler=scheduler,\n",
    "                        scaler=scaler)\n",
    "\n",
    "            elif (epx % config.save_every == 0) or (epx+1 == config.epochs):\n",
    "                save_path = f\"{config.mdl_save_prefix}/{wandb.run.name}_fold{fold_idx}_epx{epx}\"\n",
    "                save_model(\n",
    "                    Path(THIS_SCRIPT_DIR, save_path),\n",
    "                    model=model,\n",
    "                    optimizer=optimizer,\n",
    "                    scheduler=scheduler,\n",
    "                    scaler=scaler)\n",
    "\n",
    "                # (model, optimizer, scheduler, scaler) = \\\n",
    "                #     get_model(\n",
    "                #         config, len(training_dataset),\n",
    "                #         len(training_dataset.label_tags),\n",
    "                #         THIS_SCRIPT_DIR=THIS_SCRIPT_DIR,\n",
    "                #         _path=_path, device=config.device)\n",
    "\n",
    "            # End of training loop\n",
    "\n",
    "            if config.debug:\n",
    "                break\n",
    "\n",
    "        # End of fold loop"
   ]
  },
  {
   "cell_type": "code",
   "execution_count": 13,
   "id": "df6996f5",
   "metadata": {
    "lines_to_next_cell": 1
   },
   "outputs": [],
   "source": [
    "# Config overrides\n",
    "# config_dict['wandb_mode'] = 'disabled'\n",
    "# config_dict['debug'] = True\n",
    "# Model loading\n",
    "# config_dict['checkpoint_name'] = 'ethereal-serenity-1138'\n",
    "# config_dict['fold_override'] = 0\n",
    "# config_dict['checkpoint_epx'] = 39\n",
    "\n",
    "# Define sweep override dict\n",
    "sweep_config_dict = dict(\n",
    "    method='grid',\n",
    "    metric=dict(goal='maximize', name='scores/val_dice_mean_left_atrium_fold0'),\n",
    "    parameters=dict(\n",
    "        # disturbance_mode=dict(\n",
    "        #     values=[\n",
    "        #        'LabelDisturbanceMode.AFFINE',\n",
    "        #     ]\n",
    "        # ),\n",
    "        # disturbance_strength=dict(\n",
    "        #     values=[0.1, 0.2, 0.5, 1.0, 2.0, 5.0]\n",
    "        # ),\n",
    "        # disturbed_percentage=dict(\n",
    "        #     values=[0.3, 0.6]\n",
    "        # ),\n",
    "        # data_param_mode=dict(\n",
    "        #     values=[\n",
    "        #         DataParamMode.INSTANCE_PARAMS,\n",
    "        #         DataParamMode.DISABLED,\n",
    "        #     ]\n",
    "        # ),\n",
    "        use_risk_regularization=dict(\n",
    "            values=[False, True]\n",
    "        ),\n",
    "        use_fixed_weighting=dict(\n",
    "            values=[False, True]\n",
    "        ),\n",
    "        # fixed_weight_min_quantile=dict(\n",
    "        #     values=[0.9, 0.8, 0.6, 0.4, 0.2, 0.0]\n",
    "        # ),\n",
    "    )\n",
    ")"
   ]
  },
  {
   "cell_type": "code",
   "execution_count": 18,
   "id": "992a2756",
   "metadata": {},
   "outputs": [
    {
     "data": {
      "text/html": [
       "Tracking run with wandb version 0.13.3"
      ],
      "text/plain": [
       "<IPython.core.display.HTML object>"
      ]
     },
     "metadata": {},
     "output_type": "display_data"
    },
    {
     "data": {
      "text/html": [
       "Run data is saved locally in <code>/share/data_supergrover1/weihsbach/shared_data/tmp/slice_inflate/wandb/run-20220924_144016-2z2c853e</code>"
      ],
      "text/plain": [
       "<IPython.core.display.HTML object>"
      ]
     },
     "metadata": {},
     "output_type": "display_data"
    },
    {
     "data": {
      "text/html": [
       "Syncing run <strong><a href=\"https://wandb.ai/rap1ide/slice_inflate/runs/2z2c853e\" target=\"_blank\">vital-paper-22</a></strong> to <a href=\"https://wandb.ai/rap1ide/slice_inflate\" target=\"_blank\">Weights & Biases</a> (<a href=\"https://wandb.me/run\" target=\"_blank\">docs</a>)<br/>"
      ],
      "text/plain": [
       "<IPython.core.display.HTML object>"
      ]
     },
     "metadata": {},
     "output_type": "display_data"
    },
    {
     "name": "stdout",
     "output_type": "stream",
     "text": [
      "Running vital-paper-22\n",
      "Will run validation with these 3D samples (#4): ['1001-mr', '1002-mr', '1003-mr', '1004-mr']\n",
      "Param count model: 557796\n",
      "Generating fresh 'BlendowskiAE' model, optimizer and grad scaler.\n"
     ]
    },
    {
     "name": "stderr",
     "output_type": "stream",
     "text": [
      "batch:: 100%|██████████| 4/4 [00:14<00:00,  3.67s/it]\n"
     ]
    },
    {
     "name": "stdout",
     "output_type": "stream",
     "text": [
      "### Log epoch 0\n",
      "### Training\n",
      "losses/loss_fold0 -0.199314147233963\n",
      "dice_mean_wo_bg_fold0 4.23%\n",
      "scores/dice_mean_left_myocardium_fold0 6.27%\n",
      "scores/dice_mean_left_atrium_fold0 2.21%\n",
      "scores/dice_mean_left_ventricle_fold0 3.58%\n",
      "scores/dice_mean_right_atrium_fold0 6.73%\n",
      "scores/dice_mean_right_ventricle_fold0 2.35%\n",
      "\n",
      "### Validation\n"
     ]
    },
    {
     "name": "stderr",
     "output_type": "stream",
     "text": [
      "batch:: 100%|██████████| 4/4 [00:03<00:00,  1.18it/s]\n"
     ]
    },
    {
     "name": "stdout",
     "output_type": "stream",
     "text": [
      "losses/val_loss_fold0 -0.1898319572210312\n",
      "val_dice_mean_wo_bg_fold0 0.75%\n",
      "scores/val_dice_mean_left_myocardium_fold0 3.75%\n",
      "scores/val_dice_mean_left_atrium_fold0 0.00%\n",
      "scores/val_dice_mean_left_ventricle_fold0 0.00%\n",
      "scores/val_dice_mean_right_atrium_fold0 0.00%\n",
      "scores/val_dice_mean_right_ventricle_fold0 0.00%\n",
      "\n"
     ]
    },
    {
     "name": "stderr",
     "output_type": "stream",
     "text": [
      "batch:: 100%|██████████| 4/4 [00:14<00:00,  3.61s/it]\n"
     ]
    },
    {
     "name": "stdout",
     "output_type": "stream",
     "text": [
      "### Log epoch 1\n",
      "### Training\n",
      "losses/loss_fold0 -0.7600995302200317\n",
      "dice_mean_wo_bg_fold0 7.74%\n",
      "scores/dice_mean_left_myocardium_fold0 7.51%\n",
      "scores/dice_mean_left_atrium_fold0 9.48%\n",
      "scores/dice_mean_left_ventricle_fold0 10.06%\n",
      "scores/dice_mean_right_atrium_fold0 7.42%\n",
      "scores/dice_mean_right_ventricle_fold0 4.24%\n",
      "\n",
      "### Validation\n"
     ]
    },
    {
     "name": "stderr",
     "output_type": "stream",
     "text": [
      "batch:: 100%|██████████| 4/4 [00:03<00:00,  1.23it/s]\n"
     ]
    },
    {
     "name": "stdout",
     "output_type": "stream",
     "text": [
      "losses/val_loss_fold0 -0.3638959527015686\n",
      "val_dice_mean_wo_bg_fold0 0.54%\n",
      "scores/val_dice_mean_left_myocardium_fold0 0.00%\n",
      "scores/val_dice_mean_left_atrium_fold0 2.70%\n",
      "scores/val_dice_mean_left_ventricle_fold0 0.00%\n",
      "scores/val_dice_mean_right_atrium_fold0 0.00%\n",
      "scores/val_dice_mean_right_ventricle_fold0 0.00%\n",
      "\n"
     ]
    },
    {
     "name": "stderr",
     "output_type": "stream",
     "text": [
      "batch:: 100%|██████████| 4/4 [00:14<00:00,  3.62s/it]\n"
     ]
    },
    {
     "name": "stdout",
     "output_type": "stream",
     "text": [
      "### Log epoch 2\n",
      "### Training\n",
      "losses/loss_fold0 -1.0315492153167725\n",
      "dice_mean_wo_bg_fold0 10.72%\n",
      "scores/dice_mean_left_myocardium_fold0 7.89%\n",
      "scores/dice_mean_left_atrium_fold0 8.99%\n",
      "scores/dice_mean_left_ventricle_fold0 11.34%\n",
      "scores/dice_mean_right_atrium_fold0 7.35%\n",
      "scores/dice_mean_right_ventricle_fold0 18.00%\n",
      "\n",
      "### Validation\n"
     ]
    },
    {
     "name": "stderr",
     "output_type": "stream",
     "text": [
      "batch:: 100%|██████████| 4/4 [00:03<00:00,  1.21it/s]\n"
     ]
    },
    {
     "name": "stdout",
     "output_type": "stream",
     "text": [
      "losses/val_loss_fold0 -0.3354269862174988\n",
      "val_dice_mean_wo_bg_fold0 2.29%\n",
      "scores/val_dice_mean_left_myocardium_fold0 8.51%\n",
      "scores/val_dice_mean_left_atrium_fold0 0.00%\n",
      "scores/val_dice_mean_left_ventricle_fold0 2.92%\n",
      "scores/val_dice_mean_right_atrium_fold0 0.00%\n",
      "scores/val_dice_mean_right_ventricle_fold0 0.00%\n",
      "\n"
     ]
    },
    {
     "name": "stderr",
     "output_type": "stream",
     "text": [
      "batch:: 100%|██████████| 4/4 [00:14<00:00,  3.71s/it]\n"
     ]
    },
    {
     "name": "stdout",
     "output_type": "stream",
     "text": [
      "### Log epoch 3\n",
      "### Training\n",
      "losses/loss_fold0 -1.1374529600143433\n",
      "dice_mean_wo_bg_fold0 11.28%\n",
      "scores/dice_mean_left_myocardium_fold0 10.68%\n",
      "scores/dice_mean_left_atrium_fold0 10.17%\n",
      "scores/dice_mean_left_ventricle_fold0 5.84%\n",
      "scores/dice_mean_right_atrium_fold0 8.93%\n",
      "scores/dice_mean_right_ventricle_fold0 20.79%\n",
      "\n",
      "### Validation\n"
     ]
    },
    {
     "name": "stderr",
     "output_type": "stream",
     "text": [
      "batch:: 100%|██████████| 4/4 [00:03<00:00,  1.17it/s]\n"
     ]
    },
    {
     "name": "stdout",
     "output_type": "stream",
     "text": [
      "losses/val_loss_fold0 -0.8468808531761169\n",
      "val_dice_mean_wo_bg_fold0 17.96%\n",
      "scores/val_dice_mean_left_myocardium_fold0 12.38%\n",
      "scores/val_dice_mean_left_atrium_fold0 10.28%\n",
      "scores/val_dice_mean_left_ventricle_fold0 0.00%\n",
      "scores/val_dice_mean_right_atrium_fold0 26.71%\n",
      "scores/val_dice_mean_right_ventricle_fold0 40.41%\n",
      "\n"
     ]
    },
    {
     "name": "stderr",
     "output_type": "stream",
     "text": [
      "batch:: 100%|██████████| 4/4 [00:14<00:00,  3.52s/it]\n"
     ]
    },
    {
     "name": "stdout",
     "output_type": "stream",
     "text": [
      "### Log epoch 4\n",
      "### Training\n",
      "losses/loss_fold0 -1.2167716026306152\n",
      "dice_mean_wo_bg_fold0 11.90%\n",
      "scores/dice_mean_left_myocardium_fold0 12.58%\n",
      "scores/dice_mean_left_atrium_fold0 9.78%\n",
      "scores/dice_mean_left_ventricle_fold0 5.71%\n",
      "scores/dice_mean_right_atrium_fold0 10.20%\n",
      "scores/dice_mean_right_ventricle_fold0 21.23%\n",
      "\n",
      "### Validation\n"
     ]
    },
    {
     "name": "stderr",
     "output_type": "stream",
     "text": [
      "batch:: 100%|██████████| 4/4 [00:03<00:00,  1.24it/s]\n"
     ]
    },
    {
     "name": "stdout",
     "output_type": "stream",
     "text": [
      "losses/val_loss_fold0 -1.2312508821487427\n",
      "val_dice_mean_wo_bg_fold0 12.08%\n",
      "scores/val_dice_mean_left_myocardium_fold0 2.01%\n",
      "scores/val_dice_mean_left_atrium_fold0 14.78%\n",
      "scores/val_dice_mean_left_ventricle_fold0 6.58%\n",
      "scores/val_dice_mean_right_atrium_fold0 20.37%\n",
      "scores/val_dice_mean_right_ventricle_fold0 16.65%\n",
      "\n"
     ]
    },
    {
     "name": "stderr",
     "output_type": "stream",
     "text": [
      "batch:: 100%|██████████| 4/4 [00:14<00:00,  3.66s/it]\n"
     ]
    },
    {
     "name": "stdout",
     "output_type": "stream",
     "text": [
      "### Log epoch 5\n",
      "### Training\n",
      "losses/loss_fold0 -1.2871148586273193\n",
      "dice_mean_wo_bg_fold0 12.97%\n",
      "scores/dice_mean_left_myocardium_fold0 11.01%\n",
      "scores/dice_mean_left_atrium_fold0 12.42%\n",
      "scores/dice_mean_left_ventricle_fold0 6.96%\n",
      "scores/dice_mean_right_atrium_fold0 11.41%\n",
      "scores/dice_mean_right_ventricle_fold0 23.04%\n",
      "\n",
      "### Validation\n"
     ]
    },
    {
     "name": "stderr",
     "output_type": "stream",
     "text": [
      "batch:: 100%|██████████| 4/4 [00:03<00:00,  1.19it/s]\n"
     ]
    },
    {
     "name": "stdout",
     "output_type": "stream",
     "text": [
      "losses/val_loss_fold0 -1.0173267126083374\n",
      "val_dice_mean_wo_bg_fold0 7.34%\n",
      "scores/val_dice_mean_left_myocardium_fold0 0.40%\n",
      "scores/val_dice_mean_left_atrium_fold0 6.54%\n",
      "scores/val_dice_mean_left_ventricle_fold0 9.88%\n",
      "scores/val_dice_mean_right_atrium_fold0 5.21%\n",
      "scores/val_dice_mean_right_ventricle_fold0 14.64%\n",
      "\n"
     ]
    },
    {
     "name": "stderr",
     "output_type": "stream",
     "text": [
      "batch:: 100%|██████████| 4/4 [00:14<00:00,  3.68s/it]\n"
     ]
    },
    {
     "name": "stdout",
     "output_type": "stream",
     "text": [
      "### Log epoch 6\n",
      "### Training\n",
      "losses/loss_fold0 -1.386187195777893\n",
      "dice_mean_wo_bg_fold0 13.84%\n",
      "scores/dice_mean_left_myocardium_fold0 10.02%\n",
      "scores/dice_mean_left_atrium_fold0 10.90%\n",
      "scores/dice_mean_left_ventricle_fold0 11.79%\n",
      "scores/dice_mean_right_atrium_fold0 12.08%\n",
      "scores/dice_mean_right_ventricle_fold0 24.44%\n",
      "\n",
      "### Validation\n"
     ]
    },
    {
     "name": "stderr",
     "output_type": "stream",
     "text": [
      "batch:: 100%|██████████| 4/4 [00:03<00:00,  1.19it/s]\n"
     ]
    },
    {
     "name": "stdout",
     "output_type": "stream",
     "text": [
      "losses/val_loss_fold0 -1.2708203792572021\n",
      "val_dice_mean_wo_bg_fold0 9.17%\n",
      "scores/val_dice_mean_left_myocardium_fold0 0.14%\n",
      "scores/val_dice_mean_left_atrium_fold0 10.36%\n",
      "scores/val_dice_mean_left_ventricle_fold0 9.97%\n",
      "scores/val_dice_mean_right_atrium_fold0 10.79%\n",
      "scores/val_dice_mean_right_ventricle_fold0 14.60%\n",
      "\n"
     ]
    },
    {
     "name": "stderr",
     "output_type": "stream",
     "text": [
      "batch:: 100%|██████████| 4/4 [00:15<00:00,  3.80s/it]\n"
     ]
    },
    {
     "name": "stdout",
     "output_type": "stream",
     "text": [
      "### Log epoch 7\n",
      "### Training\n",
      "losses/loss_fold0 -1.3559904098510742\n",
      "dice_mean_wo_bg_fold0 13.61%\n",
      "scores/dice_mean_left_myocardium_fold0 8.34%\n",
      "scores/dice_mean_left_atrium_fold0 12.17%\n",
      "scores/dice_mean_left_ventricle_fold0 10.12%\n",
      "scores/dice_mean_right_atrium_fold0 13.05%\n",
      "scores/dice_mean_right_ventricle_fold0 24.36%\n",
      "\n",
      "### Validation\n"
     ]
    },
    {
     "name": "stderr",
     "output_type": "stream",
     "text": [
      "batch:: 100%|██████████| 4/4 [00:03<00:00,  1.09it/s]\n"
     ]
    },
    {
     "name": "stdout",
     "output_type": "stream",
     "text": [
      "losses/val_loss_fold0 -1.0832276344299316\n",
      "val_dice_mean_wo_bg_fold0 7.50%\n",
      "scores/val_dice_mean_left_myocardium_fold0 0.49%\n",
      "scores/val_dice_mean_left_atrium_fold0 7.14%\n",
      "scores/val_dice_mean_left_ventricle_fold0 11.81%\n",
      "scores/val_dice_mean_right_atrium_fold0 4.64%\n",
      "scores/val_dice_mean_right_ventricle_fold0 13.40%\n",
      "\n"
     ]
    },
    {
     "name": "stderr",
     "output_type": "stream",
     "text": [
      "batch:: 100%|██████████| 4/4 [00:15<00:00,  3.81s/it]\n"
     ]
    },
    {
     "name": "stdout",
     "output_type": "stream",
     "text": [
      "### Log epoch 8\n",
      "### Training\n",
      "losses/loss_fold0 -1.4471209049224854\n",
      "dice_mean_wo_bg_fold0 14.30%\n",
      "scores/dice_mean_left_myocardium_fold0 9.66%\n",
      "scores/dice_mean_left_atrium_fold0 11.99%\n",
      "scores/dice_mean_left_ventricle_fold0 9.29%\n",
      "scores/dice_mean_right_atrium_fold0 13.56%\n",
      "scores/dice_mean_right_ventricle_fold0 27.01%\n",
      "\n",
      "### Validation\n"
     ]
    },
    {
     "name": "stderr",
     "output_type": "stream",
     "text": [
      "batch:: 100%|██████████| 4/4 [00:03<00:00,  1.10it/s]\n"
     ]
    },
    {
     "name": "stdout",
     "output_type": "stream",
     "text": [
      "losses/val_loss_fold0 -1.1421689987182617\n",
      "val_dice_mean_wo_bg_fold0 8.58%\n",
      "scores/val_dice_mean_left_myocardium_fold0 0.20%\n",
      "scores/val_dice_mean_left_atrium_fold0 7.78%\n",
      "scores/val_dice_mean_left_ventricle_fold0 10.17%\n",
      "scores/val_dice_mean_right_atrium_fold0 12.22%\n",
      "scores/val_dice_mean_right_ventricle_fold0 12.52%\n",
      "\n"
     ]
    },
    {
     "name": "stderr",
     "output_type": "stream",
     "text": [
      "batch:: 100%|██████████| 4/4 [00:14<00:00,  3.65s/it]\n"
     ]
    },
    {
     "name": "stdout",
     "output_type": "stream",
     "text": [
      "### Log epoch 9\n",
      "### Training\n",
      "losses/loss_fold0 -1.404344081878662\n",
      "dice_mean_wo_bg_fold0 14.48%\n",
      "scores/dice_mean_left_myocardium_fold0 11.40%\n",
      "scores/dice_mean_left_atrium_fold0 10.69%\n",
      "scores/dice_mean_left_ventricle_fold0 8.84%\n",
      "scores/dice_mean_right_atrium_fold0 18.63%\n",
      "scores/dice_mean_right_ventricle_fold0 22.86%\n",
      "\n",
      "### Validation\n"
     ]
    },
    {
     "name": "stderr",
     "output_type": "stream",
     "text": [
      "batch:: 100%|██████████| 4/4 [00:03<00:00,  1.18it/s]\n"
     ]
    },
    {
     "name": "stdout",
     "output_type": "stream",
     "text": [
      "losses/val_loss_fold0 -1.247354507446289\n",
      "val_dice_mean_wo_bg_fold0 9.81%\n",
      "scores/val_dice_mean_left_myocardium_fold0 0.74%\n",
      "scores/val_dice_mean_left_atrium_fold0 6.84%\n",
      "scores/val_dice_mean_left_ventricle_fold0 9.75%\n",
      "scores/val_dice_mean_right_atrium_fold0 16.39%\n",
      "scores/val_dice_mean_right_ventricle_fold0 15.31%\n",
      "\n"
     ]
    },
    {
     "name": "stderr",
     "output_type": "stream",
     "text": [
      "batch:: 100%|██████████| 4/4 [00:15<00:00,  3.80s/it]\n"
     ]
    },
    {
     "name": "stdout",
     "output_type": "stream",
     "text": [
      "### Log epoch 10\n",
      "### Training\n",
      "losses/loss_fold0 -1.5055373907089233\n",
      "dice_mean_wo_bg_fold0 15.48%\n",
      "scores/dice_mean_left_myocardium_fold0 11.08%\n",
      "scores/dice_mean_left_atrium_fold0 12.16%\n",
      "scores/dice_mean_left_ventricle_fold0 10.32%\n",
      "scores/dice_mean_right_atrium_fold0 17.40%\n",
      "scores/dice_mean_right_ventricle_fold0 26.43%\n",
      "\n",
      "### Validation\n"
     ]
    },
    {
     "name": "stderr",
     "output_type": "stream",
     "text": [
      "batch:: 100%|██████████| 4/4 [00:03<00:00,  1.15it/s]\n"
     ]
    },
    {
     "name": "stdout",
     "output_type": "stream",
     "text": [
      "losses/val_loss_fold0 -1.2162587642669678\n",
      "val_dice_mean_wo_bg_fold0 8.78%\n",
      "scores/val_dice_mean_left_myocardium_fold0 0.00%\n",
      "scores/val_dice_mean_left_atrium_fold0 6.61%\n",
      "scores/val_dice_mean_left_ventricle_fold0 10.41%\n",
      "scores/val_dice_mean_right_atrium_fold0 14.02%\n",
      "scores/val_dice_mean_right_ventricle_fold0 12.85%\n",
      "\n"
     ]
    },
    {
     "name": "stderr",
     "output_type": "stream",
     "text": [
      "batch:: 100%|██████████| 4/4 [00:14<00:00,  3.63s/it]\n"
     ]
    },
    {
     "name": "stdout",
     "output_type": "stream",
     "text": [
      "### Log epoch 11\n",
      "### Training\n",
      "losses/loss_fold0 -1.5292412042617798\n",
      "dice_mean_wo_bg_fold0 15.50%\n",
      "scores/dice_mean_left_myocardium_fold0 7.50%\n",
      "scores/dice_mean_left_atrium_fold0 12.42%\n",
      "scores/dice_mean_left_ventricle_fold0 11.55%\n",
      "scores/dice_mean_right_atrium_fold0 18.42%\n",
      "scores/dice_mean_right_ventricle_fold0 27.62%\n",
      "\n",
      "### Validation\n"
     ]
    },
    {
     "name": "stderr",
     "output_type": "stream",
     "text": [
      "batch:: 100%|██████████| 4/4 [00:03<00:00,  1.24it/s]\n"
     ]
    },
    {
     "name": "stdout",
     "output_type": "stream",
     "text": [
      "losses/val_loss_fold0 -1.2678898572921753\n",
      "val_dice_mean_wo_bg_fold0 10.52%\n",
      "scores/val_dice_mean_left_myocardium_fold0 0.01%\n",
      "scores/val_dice_mean_left_atrium_fold0 6.49%\n",
      "scores/val_dice_mean_left_ventricle_fold0 10.21%\n",
      "scores/val_dice_mean_right_atrium_fold0 22.15%\n",
      "scores/val_dice_mean_right_ventricle_fold0 13.71%\n",
      "\n"
     ]
    },
    {
     "name": "stderr",
     "output_type": "stream",
     "text": [
      "batch:: 100%|██████████| 4/4 [00:14<00:00,  3.71s/it]\n"
     ]
    },
    {
     "name": "stdout",
     "output_type": "stream",
     "text": [
      "### Log epoch 12\n",
      "### Training\n",
      "losses/loss_fold0 -1.5639046430587769\n",
      "dice_mean_wo_bg_fold0 16.35%\n",
      "scores/dice_mean_left_myocardium_fold0 13.19%\n",
      "scores/dice_mean_left_atrium_fold0 12.93%\n",
      "scores/dice_mean_left_ventricle_fold0 9.37%\n",
      "scores/dice_mean_right_atrium_fold0 20.55%\n",
      "scores/dice_mean_right_ventricle_fold0 25.71%\n",
      "\n",
      "### Validation\n"
     ]
    },
    {
     "name": "stderr",
     "output_type": "stream",
     "text": [
      "batch:: 100%|██████████| 4/4 [00:03<00:00,  1.17it/s]\n"
     ]
    },
    {
     "name": "stdout",
     "output_type": "stream",
     "text": [
      "losses/val_loss_fold0 -1.272148609161377\n",
      "val_dice_mean_wo_bg_fold0 10.52%\n",
      "scores/val_dice_mean_left_myocardium_fold0 0.47%\n",
      "scores/val_dice_mean_left_atrium_fold0 6.19%\n",
      "scores/val_dice_mean_left_ventricle_fold0 11.00%\n",
      "scores/val_dice_mean_right_atrium_fold0 21.12%\n",
      "scores/val_dice_mean_right_ventricle_fold0 13.80%\n",
      "\n"
     ]
    },
    {
     "name": "stderr",
     "output_type": "stream",
     "text": [
      "batch:: 100%|██████████| 4/4 [00:14<00:00,  3.66s/it]\n"
     ]
    },
    {
     "name": "stdout",
     "output_type": "stream",
     "text": [
      "### Log epoch 13\n",
      "### Training\n",
      "losses/loss_fold0 -1.504137635231018\n",
      "dice_mean_wo_bg_fold0 15.68%\n",
      "scores/dice_mean_left_myocardium_fold0 11.27%\n",
      "scores/dice_mean_left_atrium_fold0 11.73%\n",
      "scores/dice_mean_left_ventricle_fold0 8.29%\n",
      "scores/dice_mean_right_atrium_fold0 20.15%\n",
      "scores/dice_mean_right_ventricle_fold0 26.97%\n",
      "\n",
      "### Validation\n"
     ]
    },
    {
     "name": "stderr",
     "output_type": "stream",
     "text": [
      "batch:: 100%|██████████| 4/4 [00:03<00:00,  1.17it/s]\n"
     ]
    },
    {
     "name": "stdout",
     "output_type": "stream",
     "text": [
      "losses/val_loss_fold0 -1.3197038173675537\n",
      "val_dice_mean_wo_bg_fold0 10.61%\n",
      "scores/val_dice_mean_left_myocardium_fold0 1.53%\n",
      "scores/val_dice_mean_left_atrium_fold0 8.36%\n",
      "scores/val_dice_mean_left_ventricle_fold0 11.91%\n",
      "scores/val_dice_mean_right_atrium_fold0 16.07%\n",
      "scores/val_dice_mean_right_ventricle_fold0 15.16%\n",
      "\n"
     ]
    },
    {
     "name": "stderr",
     "output_type": "stream",
     "text": [
      "batch:: 100%|██████████| 4/4 [00:14<00:00,  3.57s/it]\n"
     ]
    },
    {
     "name": "stdout",
     "output_type": "stream",
     "text": [
      "### Log epoch 14\n",
      "### Training\n",
      "losses/loss_fold0 -1.4847736358642578\n",
      "dice_mean_wo_bg_fold0 16.32%\n",
      "scores/dice_mean_left_myocardium_fold0 14.51%\n",
      "scores/dice_mean_left_atrium_fold0 13.61%\n",
      "scores/dice_mean_left_ventricle_fold0 11.80%\n",
      "scores/dice_mean_right_atrium_fold0 15.80%\n",
      "scores/dice_mean_right_ventricle_fold0 25.87%\n",
      "\n",
      "### Validation\n"
     ]
    },
    {
     "name": "stderr",
     "output_type": "stream",
     "text": [
      "batch:: 100%|██████████| 4/4 [00:03<00:00,  1.21it/s]\n"
     ]
    },
    {
     "name": "stdout",
     "output_type": "stream",
     "text": [
      "losses/val_loss_fold0 -1.4220147132873535\n",
      "val_dice_mean_wo_bg_fold0 11.26%\n",
      "scores/val_dice_mean_left_myocardium_fold0 3.25%\n",
      "scores/val_dice_mean_left_atrium_fold0 7.53%\n",
      "scores/val_dice_mean_left_ventricle_fold0 10.83%\n",
      "scores/val_dice_mean_right_atrium_fold0 16.77%\n",
      "scores/val_dice_mean_right_ventricle_fold0 17.90%\n",
      "\n"
     ]
    },
    {
     "name": "stderr",
     "output_type": "stream",
     "text": [
      "batch:: 100%|██████████| 4/4 [00:14<00:00,  3.64s/it]\n"
     ]
    },
    {
     "name": "stdout",
     "output_type": "stream",
     "text": [
      "### Log epoch 15\n",
      "### Training\n",
      "losses/loss_fold0 -1.5328295230865479\n",
      "dice_mean_wo_bg_fold0 16.84%\n",
      "scores/dice_mean_left_myocardium_fold0 14.32%\n",
      "scores/dice_mean_left_atrium_fold0 13.26%\n",
      "scores/dice_mean_left_ventricle_fold0 8.22%\n",
      "scores/dice_mean_right_atrium_fold0 21.20%\n",
      "scores/dice_mean_right_ventricle_fold0 27.19%\n",
      "\n",
      "### Validation\n"
     ]
    },
    {
     "name": "stderr",
     "output_type": "stream",
     "text": [
      "batch:: 100%|██████████| 4/4 [00:03<00:00,  1.19it/s]\n"
     ]
    },
    {
     "name": "stdout",
     "output_type": "stream",
     "text": [
      "losses/val_loss_fold0 -1.3716371059417725\n",
      "val_dice_mean_wo_bg_fold0 10.80%\n",
      "scores/val_dice_mean_left_myocardium_fold0 2.86%\n",
      "scores/val_dice_mean_left_atrium_fold0 6.12%\n",
      "scores/val_dice_mean_left_ventricle_fold0 11.31%\n",
      "scores/val_dice_mean_right_atrium_fold0 16.63%\n",
      "scores/val_dice_mean_right_ventricle_fold0 17.10%\n",
      "\n"
     ]
    },
    {
     "name": "stderr",
     "output_type": "stream",
     "text": [
      "batch:: 100%|██████████| 4/4 [00:14<00:00,  3.66s/it]\n"
     ]
    },
    {
     "name": "stdout",
     "output_type": "stream",
     "text": [
      "### Log epoch 16\n",
      "### Training\n",
      "losses/loss_fold0 -1.5596824884414673\n",
      "dice_mean_wo_bg_fold0 17.21%\n",
      "scores/dice_mean_left_myocardium_fold0 16.08%\n",
      "scores/dice_mean_left_atrium_fold0 11.73%\n",
      "scores/dice_mean_left_ventricle_fold0 9.20%\n",
      "scores/dice_mean_right_atrium_fold0 19.72%\n",
      "scores/dice_mean_right_ventricle_fold0 29.32%\n",
      "\n",
      "### Validation\n"
     ]
    },
    {
     "name": "stderr",
     "output_type": "stream",
     "text": [
      "batch:: 100%|██████████| 4/4 [00:03<00:00,  1.24it/s]\n"
     ]
    },
    {
     "name": "stdout",
     "output_type": "stream",
     "text": [
      "losses/val_loss_fold0 -1.48171865940094\n",
      "val_dice_mean_wo_bg_fold0 13.77%\n",
      "scores/val_dice_mean_left_myocardium_fold0 8.33%\n",
      "scores/val_dice_mean_left_atrium_fold0 9.00%\n",
      "scores/val_dice_mean_left_ventricle_fold0 10.10%\n",
      "scores/val_dice_mean_right_atrium_fold0 18.37%\n",
      "scores/val_dice_mean_right_ventricle_fold0 23.03%\n",
      "\n"
     ]
    },
    {
     "name": "stderr",
     "output_type": "stream",
     "text": [
      "batch:: 100%|██████████| 4/4 [00:14<00:00,  3.64s/it]\n"
     ]
    },
    {
     "name": "stdout",
     "output_type": "stream",
     "text": [
      "### Log epoch 17\n",
      "### Training\n",
      "losses/loss_fold0 -1.5484802722930908\n",
      "dice_mean_wo_bg_fold0 17.87%\n",
      "scores/dice_mean_left_myocardium_fold0 14.36%\n",
      "scores/dice_mean_left_atrium_fold0 15.94%\n",
      "scores/dice_mean_left_ventricle_fold0 10.09%\n",
      "scores/dice_mean_right_atrium_fold0 20.69%\n",
      "scores/dice_mean_right_ventricle_fold0 28.29%\n",
      "\n",
      "### Validation\n"
     ]
    },
    {
     "name": "stderr",
     "output_type": "stream",
     "text": [
      "batch:: 100%|██████████| 4/4 [00:03<00:00,  1.17it/s]\n"
     ]
    },
    {
     "name": "stdout",
     "output_type": "stream",
     "text": [
      "losses/val_loss_fold0 -1.5090949535369873\n",
      "val_dice_mean_wo_bg_fold0 14.36%\n",
      "scores/val_dice_mean_left_myocardium_fold0 13.65%\n",
      "scores/val_dice_mean_left_atrium_fold0 10.03%\n",
      "scores/val_dice_mean_left_ventricle_fold0 7.71%\n",
      "scores/val_dice_mean_right_atrium_fold0 15.66%\n",
      "scores/val_dice_mean_right_ventricle_fold0 24.78%\n",
      "\n"
     ]
    },
    {
     "name": "stderr",
     "output_type": "stream",
     "text": [
      "batch:: 100%|██████████| 4/4 [00:14<00:00,  3.52s/it]\n"
     ]
    },
    {
     "name": "stdout",
     "output_type": "stream",
     "text": [
      "### Log epoch 18\n",
      "### Training\n",
      "losses/loss_fold0 -1.5670619010925293\n",
      "dice_mean_wo_bg_fold0 17.87%\n",
      "scores/dice_mean_left_myocardium_fold0 14.32%\n",
      "scores/dice_mean_left_atrium_fold0 11.86%\n",
      "scores/dice_mean_left_ventricle_fold0 10.80%\n",
      "scores/dice_mean_right_atrium_fold0 19.42%\n",
      "scores/dice_mean_right_ventricle_fold0 32.94%\n",
      "\n",
      "### Validation\n"
     ]
    },
    {
     "name": "stderr",
     "output_type": "stream",
     "text": [
      "batch:: 100%|██████████| 4/4 [00:03<00:00,  1.23it/s]\n"
     ]
    },
    {
     "name": "stdout",
     "output_type": "stream",
     "text": [
      "losses/val_loss_fold0 -1.2760910987854004\n",
      "val_dice_mean_wo_bg_fold0 10.34%\n",
      "scores/val_dice_mean_left_myocardium_fold0 2.28%\n",
      "scores/val_dice_mean_left_atrium_fold0 6.33%\n",
      "scores/val_dice_mean_left_ventricle_fold0 12.00%\n",
      "scores/val_dice_mean_right_atrium_fold0 16.77%\n",
      "scores/val_dice_mean_right_ventricle_fold0 14.33%\n",
      "\n"
     ]
    },
    {
     "name": "stderr",
     "output_type": "stream",
     "text": [
      "batch:: 100%|██████████| 4/4 [00:14<00:00,  3.67s/it]\n"
     ]
    },
    {
     "name": "stdout",
     "output_type": "stream",
     "text": [
      "### Log epoch 19\n",
      "### Training\n",
      "losses/loss_fold0 -1.569472312927246\n",
      "dice_mean_wo_bg_fold0 17.93%\n",
      "scores/dice_mean_left_myocardium_fold0 16.09%\n",
      "scores/dice_mean_left_atrium_fold0 14.18%\n",
      "scores/dice_mean_left_ventricle_fold0 8.22%\n",
      "scores/dice_mean_right_atrium_fold0 23.44%\n",
      "scores/dice_mean_right_ventricle_fold0 27.74%\n",
      "\n",
      "### Validation\n"
     ]
    },
    {
     "name": "stderr",
     "output_type": "stream",
     "text": [
      "batch:: 100%|██████████| 4/4 [00:03<00:00,  1.19it/s]\n"
     ]
    },
    {
     "name": "stdout",
     "output_type": "stream",
     "text": [
      "losses/val_loss_fold0 -1.440861701965332\n",
      "val_dice_mean_wo_bg_fold0 14.46%\n",
      "scores/val_dice_mean_left_myocardium_fold0 12.65%\n",
      "scores/val_dice_mean_left_atrium_fold0 6.19%\n",
      "scores/val_dice_mean_left_ventricle_fold0 10.01%\n",
      "scores/val_dice_mean_right_atrium_fold0 21.93%\n",
      "scores/val_dice_mean_right_ventricle_fold0 21.50%\n",
      "\n"
     ]
    },
    {
     "name": "stderr",
     "output_type": "stream",
     "text": [
      "batch:: 100%|██████████| 4/4 [00:14<00:00,  3.73s/it]\n"
     ]
    },
    {
     "name": "stdout",
     "output_type": "stream",
     "text": [
      "### Log epoch 20\n",
      "### Training\n",
      "losses/loss_fold0 -1.601286768913269\n",
      "dice_mean_wo_bg_fold0 18.79%\n",
      "scores/dice_mean_left_myocardium_fold0 19.03%\n",
      "scores/dice_mean_left_atrium_fold0 13.94%\n",
      "scores/dice_mean_left_ventricle_fold0 7.82%\n",
      "scores/dice_mean_right_atrium_fold0 21.51%\n",
      "scores/dice_mean_right_ventricle_fold0 31.63%\n",
      "\n",
      "### Validation\n"
     ]
    },
    {
     "name": "stderr",
     "output_type": "stream",
     "text": [
      "batch:: 100%|██████████| 4/4 [00:03<00:00,  1.17it/s]\n"
     ]
    },
    {
     "name": "stdout",
     "output_type": "stream",
     "text": [
      "losses/val_loss_fold0 -1.548102855682373\n",
      "val_dice_mean_wo_bg_fold0 15.77%\n",
      "scores/val_dice_mean_left_myocardium_fold0 12.97%\n",
      "scores/val_dice_mean_left_atrium_fold0 10.33%\n",
      "scores/val_dice_mean_left_ventricle_fold0 9.03%\n",
      "scores/val_dice_mean_right_atrium_fold0 17.71%\n",
      "scores/val_dice_mean_right_ventricle_fold0 28.80%\n",
      "\n"
     ]
    },
    {
     "name": "stderr",
     "output_type": "stream",
     "text": [
      "batch:: 100%|██████████| 4/4 [00:14<00:00,  3.61s/it]\n"
     ]
    },
    {
     "name": "stdout",
     "output_type": "stream",
     "text": [
      "### Log epoch 21\n",
      "### Training\n",
      "losses/loss_fold0 -1.6252893209457397\n",
      "dice_mean_wo_bg_fold0 18.88%\n",
      "scores/dice_mean_left_myocardium_fold0 15.30%\n",
      "scores/dice_mean_left_atrium_fold0 16.32%\n",
      "scores/dice_mean_left_ventricle_fold0 10.62%\n",
      "scores/dice_mean_right_atrium_fold0 20.42%\n",
      "scores/dice_mean_right_ventricle_fold0 31.74%\n",
      "\n",
      "### Validation\n"
     ]
    },
    {
     "name": "stderr",
     "output_type": "stream",
     "text": [
      "batch:: 100%|██████████| 4/4 [00:03<00:00,  1.22it/s]\n"
     ]
    },
    {
     "name": "stdout",
     "output_type": "stream",
     "text": [
      "losses/val_loss_fold0 -1.5567500591278076\n",
      "val_dice_mean_wo_bg_fold0 16.89%\n",
      "scores/val_dice_mean_left_myocardium_fold0 21.30%\n",
      "scores/val_dice_mean_left_atrium_fold0 12.07%\n",
      "scores/val_dice_mean_left_ventricle_fold0 6.53%\n",
      "scores/val_dice_mean_right_atrium_fold0 14.35%\n",
      "scores/val_dice_mean_right_ventricle_fold0 30.20%\n",
      "\n"
     ]
    },
    {
     "name": "stderr",
     "output_type": "stream",
     "text": [
      "batch:: 100%|██████████| 4/4 [00:14<00:00,  3.55s/it]\n"
     ]
    },
    {
     "name": "stdout",
     "output_type": "stream",
     "text": [
      "### Log epoch 22\n",
      "### Training\n",
      "losses/loss_fold0 -1.6570937633514404\n",
      "dice_mean_wo_bg_fold0 19.26%\n",
      "scores/dice_mean_left_myocardium_fold0 18.36%\n",
      "scores/dice_mean_left_atrium_fold0 15.30%\n",
      "scores/dice_mean_left_ventricle_fold0 10.00%\n",
      "scores/dice_mean_right_atrium_fold0 21.62%\n",
      "scores/dice_mean_right_ventricle_fold0 31.00%\n",
      "\n",
      "### Validation\n"
     ]
    },
    {
     "name": "stderr",
     "output_type": "stream",
     "text": [
      "batch:: 100%|██████████| 4/4 [00:03<00:00,  1.22it/s]\n"
     ]
    },
    {
     "name": "stdout",
     "output_type": "stream",
     "text": [
      "losses/val_loss_fold0 -1.4472720623016357\n",
      "val_dice_mean_wo_bg_fold0 19.02%\n",
      "scores/val_dice_mean_left_myocardium_fold0 26.84%\n",
      "scores/val_dice_mean_left_atrium_fold0 13.75%\n",
      "scores/val_dice_mean_left_ventricle_fold0 1.95%\n",
      "scores/val_dice_mean_right_atrium_fold0 20.34%\n",
      "scores/val_dice_mean_right_ventricle_fold0 32.23%\n",
      "\n"
     ]
    },
    {
     "name": "stderr",
     "output_type": "stream",
     "text": [
      "batch:: 100%|██████████| 4/4 [00:14<00:00,  3.73s/it]\n"
     ]
    },
    {
     "name": "stdout",
     "output_type": "stream",
     "text": [
      "### Log epoch 23\n",
      "### Training\n",
      "losses/loss_fold0 -1.646565556526184\n",
      "dice_mean_wo_bg_fold0 19.68%\n",
      "scores/dice_mean_left_myocardium_fold0 20.50%\n",
      "scores/dice_mean_left_atrium_fold0 15.98%\n",
      "scores/dice_mean_left_ventricle_fold0 8.27%\n",
      "scores/dice_mean_right_atrium_fold0 22.88%\n",
      "scores/dice_mean_right_ventricle_fold0 30.75%\n",
      "\n",
      "### Validation\n"
     ]
    },
    {
     "name": "stderr",
     "output_type": "stream",
     "text": [
      "batch:: 100%|██████████| 4/4 [00:03<00:00,  1.20it/s]\n"
     ]
    },
    {
     "name": "stdout",
     "output_type": "stream",
     "text": [
      "losses/val_loss_fold0 -1.4893786907196045\n",
      "val_dice_mean_wo_bg_fold0 17.97%\n",
      "scores/val_dice_mean_left_myocardium_fold0 22.11%\n",
      "scores/val_dice_mean_left_atrium_fold0 13.37%\n",
      "scores/val_dice_mean_left_ventricle_fold0 3.67%\n",
      "scores/val_dice_mean_right_atrium_fold0 16.94%\n",
      "scores/val_dice_mean_right_ventricle_fold0 33.74%\n",
      "\n"
     ]
    },
    {
     "name": "stderr",
     "output_type": "stream",
     "text": [
      "batch:: 100%|██████████| 4/4 [00:14<00:00,  3.69s/it]\n"
     ]
    },
    {
     "name": "stdout",
     "output_type": "stream",
     "text": [
      "### Log epoch 24\n",
      "### Training\n",
      "losses/loss_fold0 -1.6773028373718262\n",
      "dice_mean_wo_bg_fold0 19.95%\n",
      "scores/dice_mean_left_myocardium_fold0 17.56%\n",
      "scores/dice_mean_left_atrium_fold0 16.63%\n",
      "scores/dice_mean_left_ventricle_fold0 10.65%\n",
      "scores/dice_mean_right_atrium_fold0 22.75%\n",
      "scores/dice_mean_right_ventricle_fold0 32.18%\n",
      "\n",
      "### Validation\n"
     ]
    },
    {
     "name": "stderr",
     "output_type": "stream",
     "text": [
      "batch:: 100%|██████████| 4/4 [00:03<00:00,  1.17it/s]\n"
     ]
    },
    {
     "name": "stdout",
     "output_type": "stream",
     "text": [
      "losses/val_loss_fold0 -1.5476505756378174\n",
      "val_dice_mean_wo_bg_fold0 16.80%\n",
      "scores/val_dice_mean_left_myocardium_fold0 9.04%\n",
      "scores/val_dice_mean_left_atrium_fold0 15.73%\n",
      "scores/val_dice_mean_left_ventricle_fold0 8.43%\n",
      "scores/val_dice_mean_right_atrium_fold0 25.97%\n",
      "scores/val_dice_mean_right_ventricle_fold0 24.82%\n",
      "\n"
     ]
    },
    {
     "name": "stderr",
     "output_type": "stream",
     "text": [
      "batch:: 100%|██████████| 4/4 [00:14<00:00,  3.60s/it]\n"
     ]
    },
    {
     "name": "stdout",
     "output_type": "stream",
     "text": [
      "### Log epoch 25\n",
      "### Training\n",
      "losses/loss_fold0 -1.648337960243225\n",
      "dice_mean_wo_bg_fold0 19.79%\n",
      "scores/dice_mean_left_myocardium_fold0 19.67%\n",
      "scores/dice_mean_left_atrium_fold0 14.48%\n",
      "scores/dice_mean_left_ventricle_fold0 9.23%\n",
      "scores/dice_mean_right_atrium_fold0 22.89%\n",
      "scores/dice_mean_right_ventricle_fold0 32.67%\n",
      "\n",
      "### Validation\n"
     ]
    },
    {
     "name": "stderr",
     "output_type": "stream",
     "text": [
      "batch:: 100%|██████████| 4/4 [00:03<00:00,  1.24it/s]\n"
     ]
    },
    {
     "name": "stdout",
     "output_type": "stream",
     "text": [
      "losses/val_loss_fold0 -1.6265838146209717\n",
      "val_dice_mean_wo_bg_fold0 18.18%\n",
      "scores/val_dice_mean_left_myocardium_fold0 17.12%\n",
      "scores/val_dice_mean_left_atrium_fold0 15.67%\n",
      "scores/val_dice_mean_left_ventricle_fold0 7.90%\n",
      "scores/val_dice_mean_right_atrium_fold0 24.25%\n",
      "scores/val_dice_mean_right_ventricle_fold0 25.95%\n",
      "\n"
     ]
    },
    {
     "name": "stderr",
     "output_type": "stream",
     "text": [
      "batch:: 100%|██████████| 4/4 [00:14<00:00,  3.68s/it]\n"
     ]
    },
    {
     "name": "stdout",
     "output_type": "stream",
     "text": [
      "### Log epoch 26\n",
      "### Training\n",
      "losses/loss_fold0 -1.6608788967132568\n",
      "dice_mean_wo_bg_fold0 19.54%\n",
      "scores/dice_mean_left_myocardium_fold0 17.76%\n",
      "scores/dice_mean_left_atrium_fold0 17.03%\n",
      "scores/dice_mean_left_ventricle_fold0 9.41%\n",
      "scores/dice_mean_right_atrium_fold0 25.02%\n",
      "scores/dice_mean_right_ventricle_fold0 28.47%\n",
      "\n",
      "### Validation\n"
     ]
    },
    {
     "name": "stderr",
     "output_type": "stream",
     "text": [
      "batch:: 100%|██████████| 4/4 [00:03<00:00,  1.18it/s]\n"
     ]
    },
    {
     "name": "stdout",
     "output_type": "stream",
     "text": [
      "losses/val_loss_fold0 -1.5782583951950073\n",
      "val_dice_mean_wo_bg_fold0 17.04%\n",
      "scores/val_dice_mean_left_myocardium_fold0 19.39%\n",
      "scores/val_dice_mean_left_atrium_fold0 13.67%\n",
      "scores/val_dice_mean_left_ventricle_fold0 8.64%\n",
      "scores/val_dice_mean_right_atrium_fold0 19.22%\n",
      "scores/val_dice_mean_right_ventricle_fold0 24.26%\n",
      "\n"
     ]
    },
    {
     "name": "stderr",
     "output_type": "stream",
     "text": [
      "batch:: 100%|██████████| 4/4 [00:14<00:00,  3.73s/it]\n"
     ]
    },
    {
     "name": "stdout",
     "output_type": "stream",
     "text": [
      "### Log epoch 27\n",
      "### Training\n",
      "losses/loss_fold0 -1.695525884628296\n",
      "dice_mean_wo_bg_fold0 19.87%\n",
      "scores/dice_mean_left_myocardium_fold0 21.94%\n",
      "scores/dice_mean_left_atrium_fold0 15.29%\n",
      "scores/dice_mean_left_ventricle_fold0 9.06%\n",
      "scores/dice_mean_right_atrium_fold0 21.11%\n",
      "scores/dice_mean_right_ventricle_fold0 31.95%\n",
      "\n",
      "### Validation\n"
     ]
    },
    {
     "name": "stderr",
     "output_type": "stream",
     "text": [
      "batch:: 100%|██████████| 4/4 [00:03<00:00,  1.16it/s]\n"
     ]
    },
    {
     "name": "stdout",
     "output_type": "stream",
     "text": [
      "losses/val_loss_fold0 -1.550034523010254\n",
      "val_dice_mean_wo_bg_fold0 16.88%\n",
      "scores/val_dice_mean_left_myocardium_fold0 15.93%\n",
      "scores/val_dice_mean_left_atrium_fold0 15.93%\n",
      "scores/val_dice_mean_left_ventricle_fold0 9.05%\n",
      "scores/val_dice_mean_right_atrium_fold0 16.32%\n",
      "scores/val_dice_mean_right_ventricle_fold0 27.17%\n",
      "\n"
     ]
    },
    {
     "name": "stderr",
     "output_type": "stream",
     "text": [
      "batch:: 100%|██████████| 4/4 [00:14<00:00,  3.68s/it]\n"
     ]
    },
    {
     "name": "stdout",
     "output_type": "stream",
     "text": [
      "### Log epoch 28\n",
      "### Training\n",
      "losses/loss_fold0 -1.6651337146759033\n",
      "dice_mean_wo_bg_fold0 20.26%\n",
      "scores/dice_mean_left_myocardium_fold0 19.14%\n",
      "scores/dice_mean_left_atrium_fold0 16.28%\n",
      "scores/dice_mean_left_ventricle_fold0 11.30%\n",
      "scores/dice_mean_right_atrium_fold0 24.19%\n",
      "scores/dice_mean_right_ventricle_fold0 30.41%\n",
      "\n",
      "### Validation\n"
     ]
    },
    {
     "name": "stderr",
     "output_type": "stream",
     "text": [
      "batch:: 100%|██████████| 4/4 [00:03<00:00,  1.21it/s]\n"
     ]
    },
    {
     "name": "stdout",
     "output_type": "stream",
     "text": [
      "losses/val_loss_fold0 -1.526986837387085\n",
      "val_dice_mean_wo_bg_fold0 18.46%\n",
      "scores/val_dice_mean_left_myocardium_fold0 21.42%\n",
      "scores/val_dice_mean_left_atrium_fold0 12.25%\n",
      "scores/val_dice_mean_left_ventricle_fold0 7.62%\n",
      "scores/val_dice_mean_right_atrium_fold0 20.62%\n",
      "scores/val_dice_mean_right_ventricle_fold0 30.39%\n",
      "\n"
     ]
    },
    {
     "name": "stderr",
     "output_type": "stream",
     "text": [
      "batch:: 100%|██████████| 4/4 [00:14<00:00,  3.62s/it]\n"
     ]
    },
    {
     "name": "stdout",
     "output_type": "stream",
     "text": [
      "### Log epoch 29\n",
      "### Training\n",
      "losses/loss_fold0 -1.6551594734191895\n",
      "dice_mean_wo_bg_fold0 20.82%\n",
      "scores/dice_mean_left_myocardium_fold0 21.38%\n",
      "scores/dice_mean_left_atrium_fold0 18.07%\n",
      "scores/dice_mean_left_ventricle_fold0 9.07%\n",
      "scores/dice_mean_right_atrium_fold0 22.48%\n",
      "scores/dice_mean_right_ventricle_fold0 33.09%\n",
      "\n",
      "### Validation\n"
     ]
    },
    {
     "name": "stderr",
     "output_type": "stream",
     "text": [
      "batch:: 100%|██████████| 4/4 [00:03<00:00,  1.21it/s]\n"
     ]
    },
    {
     "name": "stdout",
     "output_type": "stream",
     "text": [
      "losses/val_loss_fold0 -1.544432282447815\n",
      "val_dice_mean_wo_bg_fold0 15.95%\n",
      "scores/val_dice_mean_left_myocardium_fold0 14.25%\n",
      "scores/val_dice_mean_left_atrium_fold0 11.28%\n",
      "scores/val_dice_mean_left_ventricle_fold0 10.78%\n",
      "scores/val_dice_mean_right_atrium_fold0 18.50%\n",
      "scores/val_dice_mean_right_ventricle_fold0 24.96%\n",
      "\n"
     ]
    },
    {
     "name": "stderr",
     "output_type": "stream",
     "text": [
      "batch:: 100%|██████████| 4/4 [00:14<00:00,  3.66s/it]\n"
     ]
    },
    {
     "name": "stdout",
     "output_type": "stream",
     "text": [
      "### Log epoch 30\n",
      "### Training\n",
      "losses/loss_fold0 -1.7231018543243408\n",
      "dice_mean_wo_bg_fold0 20.85%\n",
      "scores/dice_mean_left_myocardium_fold0 21.35%\n",
      "scores/dice_mean_left_atrium_fold0 16.54%\n",
      "scores/dice_mean_left_ventricle_fold0 11.23%\n",
      "scores/dice_mean_right_atrium_fold0 22.89%\n",
      "scores/dice_mean_right_ventricle_fold0 32.25%\n",
      "\n",
      "### Validation\n"
     ]
    },
    {
     "name": "stderr",
     "output_type": "stream",
     "text": [
      "batch:: 100%|██████████| 4/4 [00:03<00:00,  1.19it/s]\n"
     ]
    },
    {
     "name": "stdout",
     "output_type": "stream",
     "text": [
      "losses/val_loss_fold0 -1.599962830543518\n",
      "val_dice_mean_wo_bg_fold0 19.65%\n",
      "scores/val_dice_mean_left_myocardium_fold0 27.17%\n",
      "scores/val_dice_mean_left_atrium_fold0 13.52%\n",
      "scores/val_dice_mean_left_ventricle_fold0 6.49%\n",
      "scores/val_dice_mean_right_atrium_fold0 16.10%\n",
      "scores/val_dice_mean_right_ventricle_fold0 34.98%\n",
      "\n"
     ]
    },
    {
     "name": "stderr",
     "output_type": "stream",
     "text": [
      "batch:: 100%|██████████| 4/4 [00:14<00:00,  3.72s/it]\n"
     ]
    },
    {
     "name": "stdout",
     "output_type": "stream",
     "text": [
      "### Log epoch 31\n",
      "### Training\n",
      "losses/loss_fold0 -1.7501685619354248\n",
      "dice_mean_wo_bg_fold0 21.61%\n",
      "scores/dice_mean_left_myocardium_fold0 20.74%\n",
      "scores/dice_mean_left_atrium_fold0 17.37%\n",
      "scores/dice_mean_left_ventricle_fold0 12.98%\n",
      "scores/dice_mean_right_atrium_fold0 24.22%\n",
      "scores/dice_mean_right_ventricle_fold0 32.72%\n",
      "\n",
      "### Validation\n"
     ]
    },
    {
     "name": "stderr",
     "output_type": "stream",
     "text": [
      "batch:: 100%|██████████| 4/4 [00:03<00:00,  1.15it/s]\n"
     ]
    },
    {
     "name": "stdout",
     "output_type": "stream",
     "text": [
      "losses/val_loss_fold0 -1.565535545349121\n",
      "val_dice_mean_wo_bg_fold0 21.15%\n",
      "scores/val_dice_mean_left_myocardium_fold0 25.57%\n",
      "scores/val_dice_mean_left_atrium_fold0 17.37%\n",
      "scores/val_dice_mean_left_ventricle_fold0 4.45%\n",
      "scores/val_dice_mean_right_atrium_fold0 21.64%\n",
      "scores/val_dice_mean_right_ventricle_fold0 36.71%\n",
      "\n"
     ]
    },
    {
     "name": "stderr",
     "output_type": "stream",
     "text": [
      "batch:: 100%|██████████| 4/4 [00:14<00:00,  3.60s/it]\n"
     ]
    },
    {
     "name": "stdout",
     "output_type": "stream",
     "text": [
      "### Log epoch 32\n",
      "### Training\n",
      "losses/loss_fold0 -1.7423121929168701\n",
      "dice_mean_wo_bg_fold0 21.72%\n",
      "scores/dice_mean_left_myocardium_fold0 22.63%\n",
      "scores/dice_mean_left_atrium_fold0 18.25%\n",
      "scores/dice_mean_left_ventricle_fold0 9.93%\n",
      "scores/dice_mean_right_atrium_fold0 24.64%\n",
      "scores/dice_mean_right_ventricle_fold0 33.14%\n",
      "\n",
      "### Validation\n"
     ]
    },
    {
     "name": "stderr",
     "output_type": "stream",
     "text": [
      "batch:: 100%|██████████| 4/4 [00:03<00:00,  1.24it/s]\n"
     ]
    },
    {
     "name": "stdout",
     "output_type": "stream",
     "text": [
      "losses/val_loss_fold0 -1.603606939315796\n",
      "val_dice_mean_wo_bg_fold0 18.71%\n",
      "scores/val_dice_mean_left_myocardium_fold0 16.34%\n",
      "scores/val_dice_mean_left_atrium_fold0 15.77%\n",
      "scores/val_dice_mean_left_ventricle_fold0 10.94%\n",
      "scores/val_dice_mean_right_atrium_fold0 24.31%\n",
      "scores/val_dice_mean_right_ventricle_fold0 26.20%\n",
      "\n"
     ]
    },
    {
     "name": "stderr",
     "output_type": "stream",
     "text": [
      "batch:: 100%|██████████| 4/4 [00:14<00:00,  3.66s/it]\n"
     ]
    },
    {
     "name": "stdout",
     "output_type": "stream",
     "text": [
      "### Log epoch 33\n",
      "### Training\n",
      "losses/loss_fold0 -1.7551865577697754\n",
      "dice_mean_wo_bg_fold0 22.07%\n",
      "scores/dice_mean_left_myocardium_fold0 20.38%\n",
      "scores/dice_mean_left_atrium_fold0 20.15%\n",
      "scores/dice_mean_left_ventricle_fold0 12.15%\n",
      "scores/dice_mean_right_atrium_fold0 23.25%\n",
      "scores/dice_mean_right_ventricle_fold0 34.43%\n",
      "\n",
      "### Validation\n"
     ]
    },
    {
     "name": "stderr",
     "output_type": "stream",
     "text": [
      "batch:: 100%|██████████| 4/4 [00:03<00:00,  1.18it/s]\n"
     ]
    },
    {
     "name": "stdout",
     "output_type": "stream",
     "text": [
      "losses/val_loss_fold0 -1.5282020568847656\n",
      "val_dice_mean_wo_bg_fold0 17.96%\n",
      "scores/val_dice_mean_left_myocardium_fold0 11.43%\n",
      "scores/val_dice_mean_left_atrium_fold0 14.09%\n",
      "scores/val_dice_mean_left_ventricle_fold0 13.27%\n",
      "scores/val_dice_mean_right_atrium_fold0 25.20%\n",
      "scores/val_dice_mean_right_ventricle_fold0 25.82%\n",
      "\n"
     ]
    },
    {
     "name": "stderr",
     "output_type": "stream",
     "text": [
      "batch::  75%|███████▌  | 3/4 [00:11<00:03,  3.73s/it]"
     ]
    }
   ],
   "source": [
    "def normal_run():\n",
    "    with wandb.init(project=PROJECT_NAME, group=\"training\", job_type=\"train\",\n",
    "            config=config_dict, settings=wandb.Settings(start_method=\"thread\"),\n",
    "            mode=config_dict['wandb_mode']\n",
    "        ) as run:\n",
    "\n",
    "        run_name = run.name\n",
    "        print(\"Running\", run_name)\n",
    "        # training_dataset = prepare_data(config_dict)\n",
    "        config = wandb.config\n",
    "\n",
    "        train_DL(run_name, config, training_dataset)\n",
    "\n",
    "def sweep_run():\n",
    "    with wandb.init() as run:\n",
    "        run = wandb.init(\n",
    "            settings=wandb.Settings(start_method=\"thread\"),\n",
    "            mode=config_dict['wandb_mode']\n",
    "        )\n",
    "\n",
    "        run_name = run.name\n",
    "        print(\"Running\", run_name)\n",
    "        training_dataset = prepare_data(config)\n",
    "        config = wandb.config\n",
    "\n",
    "        train_DL(run_name, config, training_dataset)\n",
    "\n",
    "if config_dict['do_sweep']:\n",
    "    # Integrate all config_dict entries into sweep_dict.parameters -> sweep overrides config_dict\n",
    "    cp_config_dict = copy.deepcopy(config_dict)\n",
    "    # cp_config_dict.update(copy.deepcopy(sweep_config_dict['parameters']))\n",
    "    for del_key in sweep_config_dict['parameters'].keys():\n",
    "        if del_key in cp_config_dict:\n",
    "            del cp_config_dict[del_key]\n",
    "    merged_sweep_config_dict = copy.deepcopy(sweep_config_dict)\n",
    "    # merged_sweep_config_dict.update(cp_config_dict)\n",
    "    for key, value in cp_config_dict.items():\n",
    "        merged_sweep_config_dict['parameters'][key] = dict(value=value)\n",
    "    # Convert enum values in parameters to string. They will be identified by their numerical index otherwise\n",
    "    for key, param_dict in merged_sweep_config_dict['parameters'].items():\n",
    "        if 'value' in param_dict and isinstance(param_dict['value'], Enum):\n",
    "            param_dict['value'] = str(param_dict['value'])\n",
    "        if 'values' in param_dict:\n",
    "            param_dict['values'] = [str(elem) if isinstance(elem, Enum) else elem for elem in param_dict['values']]\n",
    "\n",
    "        merged_sweep_config_dict['parameters'][key] = param_dict\n",
    "\n",
    "    sweep_id = wandb.sweep(merged_sweep_config_dict, project=PROJECT_NAME)\n",
    "    wandb.agent(sweep_id, function=sweep_run)\n",
    "\n",
    "else:\n",
    "    normal_run()"
   ]
  },
  {
   "cell_type": "code",
   "execution_count": 15,
   "id": "90b54c12",
   "metadata": {},
   "outputs": [
    {
     "ename": "NameError",
     "evalue": "name 'in_notebook' is not defined",
     "output_type": "error",
     "traceback": [
      "\u001b[0;31m---------------------------------------------------------------------------\u001b[0m",
      "\u001b[0;31mNameError\u001b[0m                                 Traceback (most recent call last)",
      "\u001b[1;32m/share/data_supergrover1/weihsbach/shared_data/tmp/slice_inflate/main_slice_inflate.ipynb Cell 15\u001b[0m in \u001b[0;36m<cell line: 1>\u001b[0;34m()\u001b[0m\n\u001b[0;32m----> <a href='vscode-notebook-cell://ssh-remote%2Brechenknecht01/share/data_supergrover1/weihsbach/shared_data/tmp/slice_inflate/main_slice_inflate.ipynb#X20sdnNjb2RlLXJlbW90ZQ%3D%3D?line=0'>1</a>\u001b[0m \u001b[39mif\u001b[39;00m \u001b[39mnot\u001b[39;00m in_notebook():\n\u001b[1;32m      <a href='vscode-notebook-cell://ssh-remote%2Brechenknecht01/share/data_supergrover1/weihsbach/shared_data/tmp/slice_inflate/main_slice_inflate.ipynb#X20sdnNjb2RlLXJlbW90ZQ%3D%3D?line=1'>2</a>\u001b[0m     sys\u001b[39m.\u001b[39mexit(\u001b[39m0\u001b[39m)\n",
      "\u001b[0;31mNameError\u001b[0m: name 'in_notebook' is not defined"
     ]
    }
   ],
   "source": [
    "if not in_notebook():\n",
    "    sys.exit(0)"
   ]
  },
  {
   "cell_type": "code",
   "execution_count": 22,
   "id": "af1cf84f",
   "metadata": {},
   "outputs": [
    {
     "name": "stdout",
     "output_type": "stream",
     "text": [
      "Running dummy-EzxVz3eRm8H7haihXtEusU\n",
      "Will run validation with these 3D samples (#4): ['1001-mr', '1002-mr', '1003-mr', '1004-mr']\n",
      "Param count model: 556732\n",
      "Generating fresh 'BlendowskiAE' model, optimizer and grad scaler.\n"
     ]
    },
    {
     "name": "stderr",
     "output_type": "stream",
     "text": [
      "batch:: 100%|██████████| 4/4 [00:11<00:00,  2.87s/it]"
     ]
    },
    {
     "name": "stdout",
     "output_type": "stream",
     "text": [
      "### Log epoch 0\n",
      "### Training\n",
      "losses/loss_fold0 3.6996378898620605\n",
      "losses/loss_fold0 3.6996378898620605\n"
     ]
    },
    {
     "name": "stderr",
     "output_type": "stream",
     "text": [
      "\n"
     ]
    },
    {
     "ename": "AttributeError",
     "evalue": "'ReduceLROnPlateau' object has no attribute 'get_lr'",
     "output_type": "error",
     "traceback": [
      "\u001b[0;31m---------------------------------------------------------------------------\u001b[0m",
      "\u001b[0;31mAttributeError\u001b[0m                            Traceback (most recent call last)",
      "\u001b[1;32m/share/data_supergrover1/weihsbach/shared_data/tmp/slice_inflate/main_slice_inflate.ipynb Cell 11\u001b[0m in \u001b[0;36m<cell line: 364>\u001b[0;34m()\u001b[0m\n\u001b[1;32m    <a href='vscode-notebook-cell://ssh-remote%2Brechenknecht01/share/data_supergrover1/weihsbach/shared_data/tmp/slice_inflate/main_slice_inflate.ipynb#X13sdnNjb2RlLXJlbW90ZQ%3D%3D?line=384'>385</a>\u001b[0m     wandb\u001b[39m.\u001b[39magent(sweep_id, function\u001b[39m=\u001b[39msweep_run)\n\u001b[1;32m    <a href='vscode-notebook-cell://ssh-remote%2Brechenknecht01/share/data_supergrover1/weihsbach/shared_data/tmp/slice_inflate/main_slice_inflate.ipynb#X13sdnNjb2RlLXJlbW90ZQ%3D%3D?line=386'>387</a>\u001b[0m \u001b[39melse\u001b[39;00m:\n\u001b[0;32m--> <a href='vscode-notebook-cell://ssh-remote%2Brechenknecht01/share/data_supergrover1/weihsbach/shared_data/tmp/slice_inflate/main_slice_inflate.ipynb#X13sdnNjb2RlLXJlbW90ZQ%3D%3D?line=387'>388</a>\u001b[0m     normal_run()\n\u001b[1;32m    <a href='vscode-notebook-cell://ssh-remote%2Brechenknecht01/share/data_supergrover1/weihsbach/shared_data/tmp/slice_inflate/main_slice_inflate.ipynb#X13sdnNjb2RlLXJlbW90ZQ%3D%3D?line=389'>390</a>\u001b[0m \u001b[39m# %%\u001b[39;00m\n\u001b[1;32m    <a href='vscode-notebook-cell://ssh-remote%2Brechenknecht01/share/data_supergrover1/weihsbach/shared_data/tmp/slice_inflate/main_slice_inflate.ipynb#X13sdnNjb2RlLXJlbW90ZQ%3D%3D?line=390'>391</a>\u001b[0m \u001b[39mif\u001b[39;00m \u001b[39mnot\u001b[39;00m in_notebook():\n",
      "\u001b[1;32m/share/data_supergrover1/weihsbach/shared_data/tmp/slice_inflate/main_slice_inflate.ipynb Cell 11\u001b[0m in \u001b[0;36mnormal_run\u001b[0;34m()\u001b[0m\n\u001b[1;32m    <a href='vscode-notebook-cell://ssh-remote%2Brechenknecht01/share/data_supergrover1/weihsbach/shared_data/tmp/slice_inflate/main_slice_inflate.ipynb#X13sdnNjb2RlLXJlbW90ZQ%3D%3D?line=344'>345</a>\u001b[0m \u001b[39m# training_dataset = prepare_data(config_dict)\u001b[39;00m\n\u001b[1;32m    <a href='vscode-notebook-cell://ssh-remote%2Brechenknecht01/share/data_supergrover1/weihsbach/shared_data/tmp/slice_inflate/main_slice_inflate.ipynb#X13sdnNjb2RlLXJlbW90ZQ%3D%3D?line=345'>346</a>\u001b[0m config \u001b[39m=\u001b[39m wandb\u001b[39m.\u001b[39mconfig\n\u001b[0;32m--> <a href='vscode-notebook-cell://ssh-remote%2Brechenknecht01/share/data_supergrover1/weihsbach/shared_data/tmp/slice_inflate/main_slice_inflate.ipynb#X13sdnNjb2RlLXJlbW90ZQ%3D%3D?line=347'>348</a>\u001b[0m train_DL(run_name, config, training_dataset)\n",
      "\u001b[1;32m/share/data_supergrover1/weihsbach/shared_data/tmp/slice_inflate/main_slice_inflate.ipynb Cell 11\u001b[0m in \u001b[0;36mtrain_DL\u001b[0;34m(run_name, config, training_dataset)\u001b[0m\n\u001b[1;32m    <a href='vscode-notebook-cell://ssh-remote%2Brechenknecht01/share/data_supergrover1/weihsbach/shared_data/tmp/slice_inflate/main_slice_inflate.ipynb#X13sdnNjb2RlLXJlbW90ZQ%3D%3D?line=205'>206</a>\u001b[0m \u001b[39mprint\u001b[39m(\u001b[39mf\u001b[39m\u001b[39m'\u001b[39m\u001b[39mlosses/loss_fold\u001b[39m\u001b[39m{\u001b[39;00mfold_idx\u001b[39m}\u001b[39;00m\u001b[39m'\u001b[39m, \u001b[39mf\u001b[39m\u001b[39m\"\u001b[39m\u001b[39m{\u001b[39;00mmean_loss\u001b[39m}\u001b[39;00m\u001b[39m\"\u001b[39m)\n\u001b[1;32m    <a href='vscode-notebook-cell://ssh-remote%2Brechenknecht01/share/data_supergrover1/weihsbach/shared_data/tmp/slice_inflate/main_slice_inflate.ipynb#X13sdnNjb2RlLXJlbW90ZQ%3D%3D?line=206'>207</a>\u001b[0m \u001b[39mprint\u001b[39m(\u001b[39mf\u001b[39m\u001b[39m'\u001b[39m\u001b[39mlosses/loss_fold\u001b[39m\u001b[39m{\u001b[39;00mfold_idx\u001b[39m}\u001b[39;00m\u001b[39m'\u001b[39m, \u001b[39mf\u001b[39m\u001b[39m\"\u001b[39m\u001b[39m{\u001b[39;00mmean_loss\u001b[39m}\u001b[39;00m\u001b[39m\"\u001b[39m)\n\u001b[0;32m--> <a href='vscode-notebook-cell://ssh-remote%2Brechenknecht01/share/data_supergrover1/weihsbach/shared_data/tmp/slice_inflate/main_slice_inflate.ipynb#X13sdnNjb2RlLXJlbW90ZQ%3D%3D?line=207'>208</a>\u001b[0m \u001b[39mprint\u001b[39m(\u001b[39m\"\u001b[39m\u001b[39mscheduler_lr\u001b[39m\u001b[39m\"\u001b[39m, scheduler\u001b[39m.\u001b[39;49mget_lr())\n\u001b[1;32m    <a href='vscode-notebook-cell://ssh-remote%2Brechenknecht01/share/data_supergrover1/weihsbach/shared_data/tmp/slice_inflate/main_slice_inflate.ipynb#X13sdnNjb2RlLXJlbW90ZQ%3D%3D?line=209'>210</a>\u001b[0m mean_dice \u001b[39m=\u001b[39m np\u001b[39m.\u001b[39mnanmean(dices)\n\u001b[1;32m    <a href='vscode-notebook-cell://ssh-remote%2Brechenknecht01/share/data_supergrover1/weihsbach/shared_data/tmp/slice_inflate/main_slice_inflate.ipynb#X13sdnNjb2RlLXJlbW90ZQ%3D%3D?line=210'>211</a>\u001b[0m \u001b[39mprint\u001b[39m(\u001b[39mf\u001b[39m\u001b[39m'\u001b[39m\u001b[39mdice_mean_wo_bg_fold\u001b[39m\u001b[39m{\u001b[39;00mfold_idx\u001b[39m}\u001b[39;00m\u001b[39m'\u001b[39m, \u001b[39mf\u001b[39m\u001b[39m\"\u001b[39m\u001b[39m{\u001b[39;00mmean_dice\u001b[39m*\u001b[39m\u001b[39m100\u001b[39m\u001b[39m:\u001b[39;00m\u001b[39m.2f\u001b[39m\u001b[39m}\u001b[39;00m\u001b[39m%\u001b[39m\u001b[39m\"\u001b[39m)\n",
      "\u001b[0;31mAttributeError\u001b[0m: 'ReduceLROnPlateau' object has no attribute 'get_lr'"
     ]
    }
   ],
   "source": [
    "# Do any postprocessing / visualization in notebook here"
   ]
  },
  {
   "cell_type": "code",
   "execution_count": null,
   "id": "d0547b16",
   "metadata": {},
   "outputs": [],
   "source": []
  }
 ],
 "metadata": {
  "jupytext": {
   "formats": "ipynb,py:percent"
  },
  "kernelspec": {
   "display_name": "Python 3.9.12 ('.venv': poetry)",
   "language": "python",
   "name": "python3"
  },
  "language_info": {
   "codemirror_mode": {
    "name": "ipython",
    "version": 3
   },
   "file_extension": ".py",
   "mimetype": "text/x-python",
   "name": "python",
   "nbconvert_exporter": "python",
   "pygments_lexer": "ipython3",
   "version": "3.9.12"
  },
  "vscode": {
   "interpreter": {
    "hash": "50e8264c9cb9bb8a6cada87af39a6b7aa8c2638398580ca823279198d429a8d7"
   }
  }
 },
 "nbformat": 4,
 "nbformat_minor": 5
}
