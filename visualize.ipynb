{
 "cells": [
  {
   "cell_type": "code",
   "execution_count": 1,
   "metadata": {},
   "outputs": [
    {
     "name": "stdout",
     "output_type": "stream",
     "text": [
      "\n",
      "### Recommended gpus on this machine (descending order) ###\n",
      "  ID  Card name               Util    Mem free  Cuda             User(s)\n",
      "----  --------------------  ------  ----------  ---------------  ---------\n",
      "   1  Tesla V100-SXM3-32GB     0 %   32197 MiB  11.8(470.82.01)\n",
      "   3  Tesla V100-SXM3-32GB     0 %   32197 MiB  11.8(470.82.01)\n",
      "   4  Tesla V100-SXM3-32GB     0 %   32197 MiB  11.8(470.82.01)\n",
      "   5  Tesla V100-SXM3-32GB     0 %   32197 MiB  11.8(470.82.01)\n",
      "   7  Tesla V100-SXM3-32GB     0 %   32197 MiB  11.8(470.82.01)\n",
      "   8  Tesla V100-SXM3-32GB     0 %   32197 MiB  11.8(470.82.01)\n",
      "   9  Tesla V100-SXM3-32GB     0 %   32197 MiB  11.8(470.82.01)\n",
      "  10  Tesla V100-SXM3-32GB     0 %   32197 MiB  11.8(470.82.01)\n",
      "  11  Tesla V100-SXM3-32GB     0 %   32197 MiB  11.8(470.82.01)\n",
      "  12  Tesla V100-SXM3-32GB     0 %   32197 MiB  11.8(470.82.01)\n",
      "  13  Tesla V100-SXM3-32GB     0 %   32197 MiB  11.8(470.82.01)\n",
      "  14  Tesla V100-SXM3-32GB     0 %   32197 MiB  11.8(470.82.01)\n",
      "  15  Tesla V100-SXM3-32GB     0 %   22878 MiB  11.8(470.82.01)\n",
      "   2  Tesla V100-SXM3-32GB     0 %   22622 MiB  11.8(470.82.01)\n",
      "   0  Tesla V100-SXM3-32GB     0 %    1039 MiB  11.8(470.82.01)\n",
      "   6  Tesla V100-SXM3-32GB     0 %    1039 MiB  11.8(470.82.01)\n",
      "\n",
      "Will apply following mapping\n",
      "\n",
      "  ID  Card name                 torch\n",
      "----  --------------------  --  -------\n",
      "   1  Tesla V100-SXM3-32GB  ->  cuda:0\n"
     ]
    }
   ],
   "source": [
    "import os\n",
    "from pathlib import Path\n",
    "\n",
    "os.environ['MMWHS_CACHE_PATH'] = str(Path('.', '.cache'))\n",
    "\n",
    "from meidic_vtach_utils.run_on_recommended_cuda import get_cuda_environ_vars as get_vars\n",
    "os.environ.update(get_vars('*'))\n",
    "\n",
    "import torch\n",
    "import torch.nn as nn\n",
    "import torch.nn.functional as F\n",
    "import torch.cuda.amp as amp\n",
    "\n",
    "from tqdm import tqdm\n",
    "import wandb\n",
    "import nibabel as nib\n",
    "\n",
    "from slice_inflate.datasets.mmwhs_dataset import MMWHSDataset, load_data, extract_2d_data\n",
    "from slice_inflate.utils.common_utils import DotDict, get_script_dir\n",
    "from slice_inflate.utils.torch_utils import reset_determinism, ensure_dense, save_model\n",
    "from matplotlib import pyplot as plt\n",
    "from matplotlib.animation import FuncAnimation\n",
    "from mpl_toolkits.axes_grid1 import ImageGrid\n",
    "from slice_inflate.datasets.align_mmwhs import cut_slice\n",
    "from slice_inflate.utils.log_utils import get_global_idx, log_label_metrics, log_oa_metrics\n",
    "from sklearn.model_selection import KFold\n",
    "from torch.utils.data import DataLoader\n",
    "\n",
    "import monai\n",
    "import numpy as np\n",
    "\n",
    "from IPython import display\n",
    "\n",
    "THIS_SCRIPT_DIR = get_script_dir()\n",
    "\n",
    "from mpl_toolkits.mplot3d.art3d import Poly3DCollection\n",
    "\n",
    "from skimage import measure\n"
   ]
  },
  {
   "cell_type": "code",
   "execution_count": null,
   "metadata": {},
   "outputs": [],
   "source": [
    "files = Path(\"/share/data_supergrover1/weihsbach/shared_data/tmp/slice_inflate/data/output/worthy-resonance-122_best/\").glob(\"*.pth\")\n",
    "USE_EYE_AFFINE = True\n",
    "\n",
    "for pth_path in files:\n",
    "    data = torch.load(pth_path)\n",
    "    base_path = Path(pth_path.parent, f\"{data['batch']['id'][0]}\")\n",
    "    if USE_EYE_AFFINE:\n",
    "        sa_affine = np.eye(4)\n",
    "    else:\n",
    "        sa_affine = data['batch']['sa_affine'].squeeze(0)\n",
    "    nib.save(nib.Nifti1Image(data['input'].argmax(1).squeeze(0).cpu().int().numpy(), sa_affine), str(base_path)+\"_input.nii.gz\")\n",
    "    nib.save(nib.Nifti1Image(data['target'].argmax(1).squeeze(0).cpu().int().numpy(), sa_affine), str(base_path)+\"_target.nii.gz\")\n",
    "    nib.save(nib.Nifti1Image(data['output'].argmax(1).squeeze(0).cpu().int().numpy(), sa_affine), str(base_path)+\"_output.nii.gz\")\n",
    "    nib.save(nib.Nifti1Image(data['batch']['image'].squeeze(0).cpu().float().numpy(), sa_affine), str(base_path)+\"_corresponding_input_image.nii.gz\")\n",
    "    # hla_affine = data['batch']['hla_affine'].squeeze(0)\n",
    "    # D_slc, H_slc = data['batch']['hla_label_slc'].squeeze(0).shape\n",
    "    # nib.save(nib.Nifti1Image(data['batch']['hla_label_slc'].squeeze(0).view(1, D_slc, H_slc).cpu().float().numpy(), hla_affine), str(base_path)+\"_hla_label_slice.nii.gz\")"
   ]
  },
  {
   "cell_type": "markdown",
   "metadata": {},
   "source": [
    "# Create meshes"
   ]
  },
  {
   "cell_type": "code",
   "execution_count": 2,
   "metadata": {},
   "outputs": [],
   "source": [
    "config_dict = DotDict({\n",
    "    'num_folds': 5,\n",
    "    'only_first_fold': True,                # If true do not contiue with training after the first fold\n",
    "    # 'fold_override': 0,\n",
    "    # 'checkpoint_epx': 0,\n",
    "                   # If true use MIND features (https://pubmed.ncbi.nlm.nih.gov/22722056/)\n",
    "    'epochs': 500,\n",
    "\n",
    "    'batch_size': 4,\n",
    "    'val_batch_size': 1,\n",
    "    'modality': 'mr',\n",
    "    'use_2d_normal_to': None,               # Can be None or 'D', 'H', 'W'. If not None 2D slices will be selected for training\n",
    "\n",
    "    'dataset': 'mmwhs',                 # The dataset prepared with our preprocessing scripts\n",
    "    'data_base_path': str(Path(THIS_SCRIPT_DIR, \"data/MMWHS\")),\n",
    "    'reg_state': None, # Registered (noisy) labels used in training. See prepare_data() for valid reg_states\n",
    "    'train_set_max_len': None,              # Length to cut of dataloader sample count\n",
    "    'crop_around_3d_label_center': (128,128,128),\n",
    "    'crop_3d_region': ((0,128), (0,128), (0,128)),        # dimension range in which 3D samples are cropped\n",
    "    'crop_2d_slices_gt_num_threshold': 0,   # Drop 2D slices if less than threshold pixels are positive\n",
    "\n",
    "    \"fov_mm\": [300.0,300.0,300.0],\n",
    "    \"fov_vox\": [128,128,128],\n",
    "    'lr': 1e-3,\n",
    "    'use_scheduling': True,\n",
    "\n",
    "    'save_every': 'best',\n",
    "    'mdl_save_prefix': 'data/models',\n",
    "\n",
    "    'debug': False,\n",
    "    'wandb_mode': 'online',                         # e.g. online, disabled. Use weights and biases online logging\n",
    "    'do_sweep': False,                                # Run multiple trainings with varying config values defined in sweep_config_dict below\n",
    "\n",
    "    # For a snapshot file: dummy-a2p2z76CxhCtwLJApfe8xD_fold0_epx0\n",
    "    'checkpoint_name': None,                          # Training snapshot name, e.g. dummy-a2p2z76CxhCtwLJApfe8xD\n",
    "    'fold_override': None,                            # Training fold, e.g. 0\n",
    "    'checkpoint_epx': None,                           # Training epx, e.g. 0\n",
    "\n",
    "    'do_plot': False,                                 # Generate plots (debugging purpose)\n",
    "    'save_dp_figures': False,                         # Plot data parameter value distribution\n",
    "    'save_labels': True,                              # Store training labels alongside data parameter values inside the training snapshot\n",
    "\n",
    "    'device': 'cuda'\n",
    "})"
   ]
  },
  {
   "cell_type": "code",
   "execution_count": 4,
   "metadata": {},
   "outputs": [
    {
     "name": "stdout",
     "output_type": "stream",
     "text": [
      "Loading MMWHS train images and labels... (['mr'])\n"
     ]
    },
    {
     "name": "stderr",
     "output_type": "stream",
     "text": [
      "15 images, 15 labels:  30%|███       | 9/30 [00:14<00:33,  1.60s/it]\n"
     ]
    },
    {
     "ename": "KeyboardInterrupt",
     "evalue": "",
     "output_type": "error",
     "traceback": [
      "\u001b[0;31m---------------------------------------------------------------------------\u001b[0m",
      "\u001b[0;31mKeyboardInterrupt\u001b[0m                         Traceback (most recent call last)",
      "Cell \u001b[0;32mIn[4], line 29\u001b[0m\n\u001b[1;32m      2\u001b[0m     training_dataset \u001b[39m=\u001b[39m MMWHSDataset(\n\u001b[1;32m      3\u001b[0m         config\u001b[39m.\u001b[39mdata_base_path,\n\u001b[1;32m      4\u001b[0m         state\u001b[39m=\u001b[39m\u001b[39m\"\u001b[39m\u001b[39mtrain\u001b[39m\u001b[39m\"\u001b[39m,\n\u001b[0;32m   (...)\u001b[0m\n\u001b[1;32m     24\u001b[0m         debug\u001b[39m=\u001b[39mconfig\u001b[39m.\u001b[39mdebug\n\u001b[1;32m     25\u001b[0m     )\n\u001b[1;32m     27\u001b[0m     \u001b[39mreturn\u001b[39;00m training_dataset\n\u001b[0;32m---> 29\u001b[0m training_dataset \u001b[39m=\u001b[39m prepare_data(config_dict)\n",
      "Cell \u001b[0;32mIn[4], line 2\u001b[0m, in \u001b[0;36mprepare_data\u001b[0;34m(config)\u001b[0m\n\u001b[1;32m      1\u001b[0m \u001b[39mdef\u001b[39;00m \u001b[39mprepare_data\u001b[39m(config):\n\u001b[0;32m----> 2\u001b[0m     training_dataset \u001b[39m=\u001b[39m MMWHSDataset(\n\u001b[1;32m      3\u001b[0m         config\u001b[39m.\u001b[39;49mdata_base_path,\n\u001b[1;32m      4\u001b[0m         state\u001b[39m=\u001b[39;49m\u001b[39m\"\u001b[39;49m\u001b[39mtrain\u001b[39;49m\u001b[39m\"\u001b[39;49m,\n\u001b[1;32m      5\u001b[0m         load_func\u001b[39m=\u001b[39;49mload_data,\n\u001b[1;32m      6\u001b[0m         extract_slice_func\u001b[39m=\u001b[39;49mextract_2d_data,\n\u001b[1;32m      7\u001b[0m         modality\u001b[39m=\u001b[39;49mconfig\u001b[39m.\u001b[39;49mmodality,\n\u001b[1;32m      8\u001b[0m         do_align_global\u001b[39m=\u001b[39;49m\u001b[39mTrue\u001b[39;49;00m,\n\u001b[1;32m      9\u001b[0m         use_binarized_labels\u001b[39m=\u001b[39;49m\u001b[39mFalse\u001b[39;49;00m,\n\u001b[1;32m     10\u001b[0m         do_resample\u001b[39m=\u001b[39;49m\u001b[39mFalse\u001b[39;49;00m, \u001b[39m# Prior to cropping, resample image?\u001b[39;49;00m\n\u001b[1;32m     11\u001b[0m         crop_3d_region\u001b[39m=\u001b[39;49m\u001b[39mNone\u001b[39;49;00m, \u001b[39m# Crop or pad the images to these dimensions\u001b[39;49;00m\n\u001b[1;32m     12\u001b[0m         crop_around_3d_label_center\u001b[39m=\u001b[39;49mconfig\u001b[39m.\u001b[39;49mcrop_around_3d_label_center,\n\u001b[1;32m     13\u001b[0m         pre_interpolation_factor\u001b[39m=\u001b[39;49m\u001b[39m1.\u001b[39;49m, \u001b[39m# When getting the data, resize the data by this factor\u001b[39;49;00m\n\u001b[1;32m     14\u001b[0m         ensure_labeled_pairs\u001b[39m=\u001b[39;49m\u001b[39mTrue\u001b[39;49;00m, \u001b[39m# Only use fully labelled images (segmentation label available)\u001b[39;49;00m\n\u001b[1;32m     15\u001b[0m         use_2d_normal_to\u001b[39m=\u001b[39;49mconfig\u001b[39m.\u001b[39;49muse_2d_normal_to, \u001b[39m# Use 2D slices cut normal to D,H,>W< dimensions\u001b[39;49;00m\n\u001b[1;32m     16\u001b[0m         crop_around_2d_label_center\u001b[39m=\u001b[39;49m[\u001b[39m128\u001b[39;49m,\u001b[39m128\u001b[39;49m],\n\u001b[1;32m     17\u001b[0m \n\u001b[1;32m     18\u001b[0m         fov_mm \u001b[39m=\u001b[39;49m [\u001b[39m224.\u001b[39;49m,\u001b[39m224.\u001b[39;49m,\u001b[39m224.\u001b[39;49m],\n\u001b[1;32m     19\u001b[0m         fov_vox \u001b[39m=\u001b[39;49m [\u001b[39m128\u001b[39;49m,\u001b[39m128\u001b[39;49m,\u001b[39m128\u001b[39;49m],\n\u001b[1;32m     20\u001b[0m \n\u001b[1;32m     21\u001b[0m         augment_angle_std\u001b[39m=\u001b[39;49m\u001b[39m5\u001b[39;49m,\n\u001b[1;32m     22\u001b[0m \n\u001b[1;32m     23\u001b[0m         device\u001b[39m=\u001b[39;49mconfig\u001b[39m.\u001b[39;49mdevice,\n\u001b[1;32m     24\u001b[0m         debug\u001b[39m=\u001b[39;49mconfig\u001b[39m.\u001b[39;49mdebug\n\u001b[1;32m     25\u001b[0m     )\n\u001b[1;32m     27\u001b[0m     \u001b[39mreturn\u001b[39;00m training_dataset\n",
      "File \u001b[0;32m/shared/slice_inflate/slice_inflate/datasets/mmwhs_dataset.py:51\u001b[0m, in \u001b[0;36mMMWHSDataset.__init__\u001b[0;34m(self, state, label_tags, *args, **kwargs)\u001b[0m\n\u001b[1;32m     48\u001b[0m \u001b[39mif\u001b[39;00m kwargs[\u001b[39m'\u001b[39m\u001b[39muse_binarized_labels\u001b[39m\u001b[39m'\u001b[39m]:\n\u001b[1;32m     49\u001b[0m     label_tags\u001b[39m=\u001b[39m(\u001b[39m\"\u001b[39m\u001b[39mbackground\u001b[39m\u001b[39m\"\u001b[39m, \u001b[39m\"\u001b[39m\u001b[39mforeground\u001b[39m\u001b[39m\"\u001b[39m)\n\u001b[0;32m---> 51\u001b[0m \u001b[39msuper\u001b[39;49m()\u001b[39m.\u001b[39;49m\u001b[39m__init__\u001b[39;49m(\u001b[39m*\u001b[39;49margs, state\u001b[39m=\u001b[39;49mstate, label_tags\u001b[39m=\u001b[39;49mlabel_tags, \u001b[39m*\u001b[39;49m\u001b[39m*\u001b[39;49mkwargs)\n",
      "File \u001b[0;32m/shared/slice_inflate/slice_inflate/datasets/hybrid_id_dataset.py:60\u001b[0m, in \u001b[0;36mHybridIdDataset.__init__\u001b[0;34m(self, base_dir, load_func, extract_slice_func, ensure_labeled_pairs, do_resample, resample_size, do_normalize, max_load_3d_num, crop_3d_region, crop_around_3d_label_center, modified_3d_label_override, crop_2d_slices_gt_num_threshold, prevent_disturbance, label_tags, use_2d_normal_to, crop_around_2d_label_center, pre_interpolation_factor, device, debug, **kwargs)\u001b[0m\n\u001b[1;32m     57\u001b[0m \u001b[39mself\u001b[39m\u001b[39m.\u001b[39maugment_at_collate \u001b[39m=\u001b[39m \u001b[39mFalse\u001b[39;00m\n\u001b[1;32m     59\u001b[0m \u001b[39m# Load base 3D data\u001b[39;00m\n\u001b[0;32m---> 60\u001b[0m all_3d_data_dict \u001b[39m=\u001b[39m load_func(\u001b[39mself\u001b[39;49m\u001b[39m.\u001b[39;49mself_attributes)\n\u001b[1;32m     62\u001b[0m \u001b[39mself\u001b[39m\u001b[39m.\u001b[39mself_attributes[\u001b[39m'\u001b[39m\u001b[39mimg_paths\u001b[39m\u001b[39m'\u001b[39m] \u001b[39m=\u001b[39m \u001b[39mself\u001b[39m\u001b[39m.\u001b[39mimg_paths \u001b[39m=\u001b[39m all_3d_data_dict\u001b[39m.\u001b[39mpop(\u001b[39m'\u001b[39m\u001b[39mimg_paths\u001b[39m\u001b[39m'\u001b[39m, {})\n\u001b[1;32m     63\u001b[0m \u001b[39mself\u001b[39m\u001b[39m.\u001b[39mself_attributes[\u001b[39m'\u001b[39m\u001b[39mlabel_paths\u001b[39m\u001b[39m'\u001b[39m] \u001b[39m=\u001b[39m \u001b[39mself\u001b[39m\u001b[39m.\u001b[39mlabel_paths \u001b[39m=\u001b[39m all_3d_data_dict\u001b[39m.\u001b[39mpop(\u001b[39m'\u001b[39m\u001b[39mlabel_paths\u001b[39m\u001b[39m'\u001b[39m, {})\n",
      "File \u001b[0;32m/shared/slice_inflate/slice_inflate/datasets/mmwhs_dataset.py:443\u001b[0m, in \u001b[0;36mload_data\u001b[0;34m(self_attributes)\u001b[0m\n\u001b[1;32m    441\u001b[0m     label_data_3d[_3d_id] \u001b[39m=\u001b[39m tmp\u001b[39m.\u001b[39mlong()\n\u001b[1;32m    442\u001b[0m     oh \u001b[39m=\u001b[39m torch\u001b[39m.\u001b[39mnn\u001b[39m.\u001b[39mfunctional\u001b[39m.\u001b[39mone_hot(tmp\u001b[39m.\u001b[39mlong())\u001b[39m.\u001b[39mpermute(\u001b[39m3\u001b[39m,\u001b[39m0\u001b[39m,\u001b[39m1\u001b[39m,\u001b[39m2\u001b[39m)\n\u001b[0;32m--> 443\u001b[0m     additional_data_3d[_3d_id][\u001b[39m'\u001b[39m\u001b[39mlabel_distance_map\u001b[39m\u001b[39m'\u001b[39m] \u001b[39m=\u001b[39m calc_dist_map(oh\u001b[39m.\u001b[39;49munsqueeze(\u001b[39m0\u001b[39;49m)\u001b[39m.\u001b[39;49mbool(), mode\u001b[39m=\u001b[39;49m\u001b[39m'\u001b[39;49m\u001b[39mouter\u001b[39;49m\u001b[39m'\u001b[39;49m)\u001b[39m.\u001b[39msqueeze(\u001b[39m0\u001b[39m)\n\u001b[1;32m    445\u001b[0m \u001b[39melse\u001b[39;00m:\n\u001b[1;32m    446\u001b[0m     \u001b[39mif\u001b[39;00m \u001b[39mself\u001b[39m\u001b[39m.\u001b[39mdo_normalize:  \u001b[39m# Normalize image to zero mean and unit std\u001b[39;00m\n",
      "File \u001b[0;32m/shared/slice_inflate/slice_inflate/utils/torch_utils.py:586\u001b[0m, in \u001b[0;36mcalc_dist_map\u001b[0;34m(onehot_seg, mode)\u001b[0m\n\u001b[1;32m    584\u001b[0m     dm[idx] \u001b[39m=\u001b[39m \u001b[39m-\u001b[39mtorch\u001b[39m.\u001b[39mas_tensor(distance(posmask))\n\u001b[1;32m    585\u001b[0m \u001b[39melif\u001b[39;00m mode \u001b[39m==\u001b[39m \u001b[39m'\u001b[39m\u001b[39mouter\u001b[39m\u001b[39m'\u001b[39m:\n\u001b[0;32m--> 586\u001b[0m     dm[idx] \u001b[39m=\u001b[39m torch\u001b[39m.\u001b[39mas_tensor(distance(negmask))\n\u001b[1;32m    587\u001b[0m \u001b[39melif\u001b[39;00m mode \u001b[39m==\u001b[39m \u001b[39m'\u001b[39m\u001b[39msigned\u001b[39m\u001b[39m'\u001b[39m:\n\u001b[1;32m    588\u001b[0m     dm[idx] \u001b[39m=\u001b[39m torch\u001b[39m.\u001b[39mas_tensor(distance(negmask) \u001b[39m*\u001b[39m negmask \u001b[39m-\u001b[39m (distance(posmask) \u001b[39m-\u001b[39m \u001b[39m1\u001b[39m) \u001b[39m*\u001b[39m posmask)\n",
      "File \u001b[0;32m/shared/slice_inflate/.venv/lib/python3.9/site-packages/scipy/ndimage/_morphology.py:2277\u001b[0m, in \u001b[0;36mdistance_transform_edt\u001b[0;34m(input, sampling, return_distances, return_indices, distances, indices)\u001b[0m\n\u001b[1;32m   2274\u001b[0m \u001b[39melse\u001b[39;00m:\n\u001b[1;32m   2275\u001b[0m     ft \u001b[39m=\u001b[39m numpy\u001b[39m.\u001b[39mzeros((\u001b[39minput\u001b[39m\u001b[39m.\u001b[39mndim,) \u001b[39m+\u001b[39m \u001b[39minput\u001b[39m\u001b[39m.\u001b[39mshape, dtype\u001b[39m=\u001b[39mnumpy\u001b[39m.\u001b[39mint32)\n\u001b[0;32m-> 2277\u001b[0m _nd_image\u001b[39m.\u001b[39;49meuclidean_feature_transform(\u001b[39minput\u001b[39;49m, sampling, ft)\n\u001b[1;32m   2278\u001b[0m \u001b[39m# if requested, calculate the distance transform\u001b[39;00m\n\u001b[1;32m   2279\u001b[0m \u001b[39mif\u001b[39;00m return_distances:\n",
      "\u001b[0;31mKeyboardInterrupt\u001b[0m: "
     ]
    }
   ],
   "source": [
    "def prepare_data(config):\n",
    "    training_dataset = MMWHSDataset(\n",
    "        config.data_base_path,\n",
    "        state=\"train\",\n",
    "        load_func=load_data,\n",
    "        extract_slice_func=extract_2d_data,\n",
    "        modality=config.modality,\n",
    "        do_align_global=True,\n",
    "        use_binarized_labels=False,\n",
    "        do_resample=False, # Prior to cropping, resample image?\n",
    "        crop_3d_region=None, # Crop or pad the images to these dimensions\n",
    "        crop_around_3d_label_center=config.crop_around_3d_label_center,\n",
    "        pre_interpolation_factor=1., # When getting the data, resize the data by this factor\n",
    "        ensure_labeled_pairs=True, # Only use fully labelled images (segmentation label available)\n",
    "        use_2d_normal_to=config.use_2d_normal_to, # Use 2D slices cut normal to D,H,>W< dimensions\n",
    "        crop_around_2d_label_center=[128,128],\n",
    "\n",
    "        fov_mm = [224.,224.,224.],\n",
    "        fov_vox = [128,128,128],\n",
    "\n",
    "        augment_angle_std=5,\n",
    "\n",
    "        device=config.device,\n",
    "        debug=config.debug\n",
    "    )\n",
    "\n",
    "    return training_dataset\n",
    "\n",
    "training_dataset = prepare_data(config_dict)"
   ]
  },
  {
   "cell_type": "code",
   "execution_count": null,
   "metadata": {},
   "outputs": [],
   "source": [
    "# fig = plt.figure(figsize=(4, 4))\n",
    "# ax = fig.add_subplot(111, projection='3d')\n",
    "# # Use marching cubes to obtain the surface mesh of these ellipsoids\n",
    "# sp = 1.0\n",
    "# verts, faces, normals, values = measure.marching_cubes(first_class.cpu().numpy(), spacing=(sp,sp,sp), step_size=4)\n",
    "\n",
    "# mesh = Poly3DCollection(verts[faces])\n",
    "# mesh.set_edgecolor('k')\n",
    "# ax.add_collection3d(mesh)\n",
    "\n",
    "# ax.set_xlim(0, 128)\n",
    "# ax.set_ylim(0, 128)\n",
    "# ax.set_zlim(0, 128)\n",
    "\n",
    "# plt.tight_layout()\n",
    "# plt.show()"
   ]
  },
  {
   "cell_type": "code",
   "execution_count": null,
   "metadata": {},
   "outputs": [],
   "source": [
    "sample = training_dataset[1]\n",
    "label = sample['label']\n",
    "print(sample['id'])\n",
    "SPACING = (1,1,1)\n",
    "STEP_SIZE = 2\n",
    "\n",
    "heart_data = {}\n",
    "for class_idx, tag in enumerate(training_dataset.label_tags):\n",
    "    if class_idx == 0: continue\n",
    "\n",
    "    sub_label = label[class_idx, :,:,:]\n",
    "    verts, faces, normals, values = measure.marching_cubes(sub_label.cpu().numpy(), spacing=SPACING, step_size=STEP_SIZE)\n",
    "    data = dict(\n",
    "        verts=torch.as_tensor(verts.copy()),\n",
    "        faces=torch.as_tensor(faces.copy()),\n",
    "        normals=torch.as_tensor(normals.copy()), \n",
    "        values=torch.as_tensor(values.copy())\n",
    "    )\n",
    "    heart_data[tag] = data\n",
    "\n",
    "heart_data['sa_affine'] = sample['sa_affine']\n",
    "heart_data['hla_affine'] = sample['hla_affine']\n",
    "\n",
    "torch.save(heart_data, 'mmwhs_sample2_clouds.pth')\n",
    "nib.save(nib.Nifti1Image(sample['label'].argmax(0).cpu().int().numpy(), affine=sample['sa_affine'].detach().cpu().numpy()), \"mmwhs_sample2_sa_label.nii.gz\")\n",
    "nib.save(nib.Nifti1Image(sample['hla_label_slc'].argmax(0).cpu().int().numpy(), affine=sample['hla_affine'].detach().cpu().numpy()), \"mmwhs_sample2_hla_label_slc.nii.gz\")"
   ]
  },
  {
   "cell_type": "markdown",
   "metadata": {},
   "source": [
    "## View full heart"
   ]
  },
  {
   "cell_type": "code",
   "execution_count": null,
   "metadata": {},
   "outputs": [],
   "source": [
    "heart_data = torch.load('mmwhs_sample2_clouds.pth')\n",
    "\n",
    "fig = plt.figure(figsize=(4, 4))\n",
    "ax = fig.add_subplot(projection='3d')\n",
    "\n",
    "ax.set_xlim(0, 128)\n",
    "ax.set_ylim(0, 128)\n",
    "ax.set_zlim(0, 128)\n",
    "\n",
    "for tag, tag_data in heart_data.items():\n",
    "    if 'affine' in tag: continue\n",
    "    verts = tag_data['verts']\n",
    "    ax.scatter(verts[:,0], verts[:,1], verts[:,2], s=1)\n",
    "\n",
    "def anim_func(frame):\n",
    "    angle = frame\n",
    "    ax.view_init(30, angle)\n",
    "\n",
    "plt.rcParams['animation.ffmpeg_path'] = \"/home/weihsbach/miniconda3/envs/binaries/bin/ffmpeg\"\n",
    "\n",
    "anim_created = FuncAnimation(fig, anim_func, frames=360, interval=25)\n",
    "display.display(display.HTML(anim_created.to_html5_video()))\n"
   ]
  },
  {
   "cell_type": "markdown",
   "metadata": {},
   "source": [
    "## View sliced heart"
   ]
  },
  {
   "cell_type": "code",
   "execution_count": null,
   "metadata": {},
   "outputs": [],
   "source": [
    "def get_distance_from_plane(normal, support, point):\n",
    "    normal = normal / normal.dot(normal).sqrt() # Get unit vector\n",
    "    diff = point-support.to(dtype=normal.dtype)\n",
    "    dist = normal.dot(diff).abs()\n",
    "    return dist\n"
   ]
  },
  {
   "cell_type": "code",
   "execution_count": null,
   "metadata": {},
   "outputs": [],
   "source": [
    "heart_data = torch.load('mmwhs_sample2_clouds.pth')\n",
    "\n",
    "SA_NORMAL = torch.tensor([0.,0.,1.])\n",
    "SUPPORT = torch.tensor([64.,64.,64.])\n",
    "\n",
    "# sa_to_hla = heart_data['sa_affine'].inverse() @ heart_data['hla_affine']\n",
    "# hla_normal = (sa_to_hla @ torch.tensor([0.,0.,1.,0.]).to(dtype=sa_to_hla.dtype))[:3].flip(0)\n",
    "# hla_support = (sa_to_hla @ torch.tensor([64.,64.,64.,1.]).to(dtype=sa_to_hla.dtype))[:3].flip(0)\n",
    "hla_to_sa = heart_data['sa_affine'].inverse() @ heart_data['hla_affine']\n",
    "sa_to_hla = hla_to_sa.inverse()\n",
    "\n",
    "hla_normal = (hla_to_sa @ torch.tensor([0.,0.,1.,0.]).to(dtype=sa_to_hla.dtype))[:3]\n",
    "hla_support = (hla_to_sa @ torch.tensor([64.,64.,64.,1.]).to(dtype=sa_to_hla.dtype))[:3]\n",
    "hla_support = hla_support\n",
    "print(hla_normal)\n",
    "print(hla_support)\n",
    "\n",
    "fig = plt.figure(figsize=(4, 4))\n",
    "ax = fig.add_subplot(projection='3d')\n",
    "\n",
    "ax.set_xlim(0, 128)\n",
    "ax.set_ylim(0, 128)\n",
    "ax.set_zlim(0, 128)\n",
    "s=1\n",
    "\n",
    "for tag, tag_data in heart_data.items():\n",
    "    if 'affine' in tag: continue\n",
    "    verts = tag_data['verts']\n",
    "    selected_verts = []\n",
    "    for normal, support in [(SA_NORMAL, SUPPORT), (hla_normal, hla_support)]:\n",
    "        selected_verts.extend([v for v in verts if get_distance_from_plane(normal, support, v) < 1.])\n",
    "    if len(selected_verts) > 0:\n",
    "        selected_verts = torch.stack(selected_verts)\n",
    "        ax.scatter(selected_verts[:,0], selected_verts[:,1], selected_verts[:,2], s=s, label=tag)\n",
    "    else:\n",
    "        ax.scatter([],[],[],s=s,label=tag)\n",
    "\n",
    "def anim_func(frame):\n",
    "    angle = frame * 2\n",
    "    ax.view_init(0., angle)\n",
    "    \n",
    "plt.legend()\n",
    "plt.rcParams['animation.ffmpeg_path'] = \"/home/weihsbach/miniconda3/envs/binaries/bin/ffmpeg\"\n",
    "\n",
    "anim_created = FuncAnimation(fig, anim_func, frames=180, interval=50)\n",
    "display.display(display.HTML(anim_created.to_html5_video()))"
   ]
  },
  {
   "cell_type": "markdown",
   "metadata": {},
   "source": [
    "shaperformer"
   ]
  },
  {
   "cell_type": "code",
   "execution_count": null,
   "metadata": {},
   "outputs": [],
   "source": [
    "shapeformer_data = np.load(\"/share/data_supergrover1/weihsbach/shared_data/tmp/ShapeFormer/out.npy\")\n",
    "\n",
    "fig = plt.figure(figsize=(4, 4))\n",
    "ax = fig.add_subplot(projection='3d')\n",
    "\n",
    "SPACING = (1,1,1)\n",
    "STEP_SIZE = 2\n",
    "\n",
    "verts = shapeformer_data\n",
    "ax.scatter(verts[:,0], verts[:,1], verts[:,2], s=1)\n",
    "\n",
    "import numpy as np\n",
    "from matplotlib.animation import FuncAnimation\n",
    "from IPython import display\n",
    "import matplotlib.pyplot as plt\n",
    "\n",
    "def anim_func(frame):\n",
    "    angle = frame\n",
    "    ax.view_init(30, angle)\n",
    "\n",
    "plt.rcParams['animation.ffmpeg_path'] = \"/home/weihsbach/miniconda3/envs/binaries/bin/ffmpeg\"\n",
    "\n",
    "anim_created = FuncAnimation(fig, anim_func, frames=360, interval=25)\n",
    "display.display(display.HTML(anim_created.to_html5_video()))\n"
   ]
  },
  {
   "cell_type": "markdown",
   "metadata": {},
   "source": [
    "# Compare against mean shape"
   ]
  },
  {
   "cell_type": "code",
   "execution_count": 5,
   "metadata": {},
   "outputs": [
    {
     "name": "stdout",
     "output_type": "stream",
     "text": [
      "Loading MMWHS train images and labels... (['mr', 'ct'])\n"
     ]
    },
    {
     "name": "stderr",
     "output_type": "stream",
     "text": [
      "30 images, 30 labels: 100%|██████████| 60/60 [00:46<00:00,  1.30it/s]\n"
     ]
    },
    {
     "name": "stdout",
     "output_type": "stream",
     "text": [
      "Postprocessing 3D volumes\n",
      "Removed 0 3D images in postprocessing\n",
      "Equal image and label numbers: True (30)\n",
      "Data import finished.\n",
      "Dataloader will yield 3D samples\n",
      "Loading MMWHS test images and labels... (['mr', 'ct'])\n"
     ]
    },
    {
     "name": "stderr",
     "output_type": "stream",
     "text": [
      "10 images, 10 labels: 100%|██████████| 20/20 [00:15<00:00,  1.27it/s]\n"
     ]
    },
    {
     "name": "stdout",
     "output_type": "stream",
     "text": [
      "Postprocessing 3D volumes\n",
      "Removed 0 3D images in postprocessing\n",
      "Equal image and label numbers: True (10)\n",
      "Data import finished.\n",
      "Dataloader will yield 3D samples\n"
     ]
    }
   ],
   "source": [
    "os.environ['MMWHS_CACHE_PATH'] = str(Path('.', '.cache'))\n",
    "PROJECT_NAME = \"slice_inflate\"\n",
    "\n",
    "from pathlib import Path\n",
    "from slice_inflate.utils.common_utils import DotDict, get_script_dir, in_notebook\n",
    "from slice_inflate.datasets.mmwhs_dataset import MMWHSDataset, load_data, extract_2d_data\n",
    "import torch\n",
    "from matplotlib import pyplot as plt\n",
    "import SimpleITK as sitk # https://simpleitk.org/\n",
    "import numpy as np\n",
    "\n",
    "THIS_SCRIPT_DIR = get_script_dir()\n",
    "\n",
    "config_dict = DotDict(dict(\n",
    "    state='train',\n",
    "    dataset='mmwhs',\n",
    "    modality='all',\n",
    "    use_2d_normal_to=None,\n",
    "    data_base_path=str(Path(THIS_SCRIPT_DIR, \"data/MMWHS\")),\n",
    "    crop_3d_region=None, #((0,128), (0,128), (0,128)), # dimension range in which 3D samples are cropped\n",
    "    crop_2d_slices_gt_num_threshold=0,   # Drop 2D slices if less than threshold pixels are positive\n",
    "    crop_around_3d_label_center=(128,128,128), #(128,128,128),\n",
    "    crop_around_2d_label_center=(128,128),\n",
    "    fov_mm=(300.,300.,300.),\n",
    "    fov_vox=(196,196,196),\n",
    "    max_load_3d_num=None,\n",
    "    device='cuda',\n",
    "    debug=False,\n",
    "))\n",
    "\n",
    "def prepare_data(config):\n",
    "    training_dataset = MMWHSDataset(\n",
    "        config.data_base_path,\n",
    "        state=config.state,\n",
    "        load_func=load_data,\n",
    "        extract_slice_func=extract_2d_data,\n",
    "        modality=config.modality,\n",
    "        do_align_global=True,\n",
    "        use_binarized_labels=False,\n",
    "        do_resample=False, # Prior to cropping, resample image?\n",
    "        crop_3d_region=None, # Crop or pad the images to these dimensions\n",
    "        fov_mm=config.fov_mm,\n",
    "        fov_vox=config.fov_vox,\n",
    "        crop_around_3d_label_center=config.crop_around_3d_label_center,\n",
    "        pre_interpolation_factor=1., # When getting the data, resize the data by this factor\n",
    "        ensure_labeled_pairs=True, # Only use fully labelled images (segmentation label available)\n",
    "        use_2d_normal_to=config.use_2d_normal_to, # Use 2D slices cut normal to D,H,>W< dimensions\n",
    "        crop_around_2d_label_center=config.crop_around_2d_label_center,\n",
    "        max_load_3d_num=config.max_load_3d_num,\n",
    "\n",
    "        augment_angle_std=5,\n",
    "\n",
    "        device=config.device,\n",
    "        debug=config.debug\n",
    "    )\n",
    "\n",
    "    return training_dataset\n",
    "training_dataset, test_dataset = None, None\n",
    "\n",
    "if training_dataset is None:\n",
    "    train_config = DotDict(config_dict.copy())\n",
    "    training_dataset = prepare_data(train_config)\n",
    "\n",
    "if test_dataset is None:\n",
    "    test_config = DotDict(config_dict.copy())\n",
    "    test_config['state'] = 'test'\n",
    "    test_dataset = prepare_data(test_config)"
   ]
  },
  {
   "cell_type": "code",
   "execution_count": 6,
   "metadata": {},
   "outputs": [
    {
     "name": "stdout",
     "output_type": "stream",
     "text": [
      "training ids: ['1004-ct', '1004-mr', '1007-ct', '1007-mr', '1008-ct', '1008-mr', '1009-ct', '1009-mr', '1010-ct', '1010-mr', '1011-ct', '1011-mr', '1012-ct', '1012-mr', '1013-ct', '1013-mr', '1014-ct', '1014-mr', '1015-ct', '1015-mr', '1016-ct', '1016-mr', '1017-ct', '1017-mr', '1018-ct', '1018-mr', '1019-ct', '1019-mr', '1020-ct', '1020-mr']\n",
      "testing ids: ['1001-ct', '1001-mr', '1002-ct', '1002-mr', '1003-ct', '1003-mr', '1005-ct', '1005-mr', '1006-ct', '1006-mr']\n"
     ]
    }
   ],
   "source": [
    "print(\"training ids:\", [smp['id'] for smp in training_dataset])\n",
    "print(\"testing ids:\", [smp['id'] for smp in test_dataset])"
   ]
  },
  {
   "cell_type": "code",
   "execution_count": 61,
   "metadata": {},
   "outputs": [],
   "source": [
    "training_dataset.eval()\n",
    "train_samples = []\n",
    "for sample in training_dataset:\n",
    "    train_samples.append(sample['label'])\n",
    "\n",
    "train_samples = torch.stack(train_samples)"
   ]
  },
  {
   "cell_type": "code",
   "execution_count": 62,
   "metadata": {},
   "outputs": [
    {
     "name": "stdout",
     "output_type": "stream",
     "text": [
      "torch.Size([30, 128, 128, 128])\n"
     ]
    },
    {
     "data": {
      "image/png": "[encoded data removed]",
      "text/plain": [
       "<Figure size 200x200 with 1 Axes>"
      ]
     },
     "metadata": {},
     "output_type": "display_data"
    }
   ],
   "source": [
    "print(train_samples.shape)\n",
    "plt.figure(figsize=(2,2))\n",
    "plt.axis('off')\n",
    "plt.imshow(train_samples.sum(0)[:,:,64].cpu(), interpolation='none')\n",
    "plt.show()"
   ]
  },
  {
   "cell_type": "code",
   "execution_count": 63,
   "metadata": {},
   "outputs": [],
   "source": [
    "uniques, counts = train_samples.unique(return_counts=True, dim=0)\n",
    "if uniques.numel() > 1:\n",
    "    pass\n",
    "sorted_idxs = counts.argsort()\n",
    "resulting_label = uniques[sorted_idxs][0]\n",
    "# print(resulting_label)"
   ]
  },
  {
   "cell_type": "code",
   "execution_count": 64,
   "metadata": {},
   "outputs": [],
   "source": [
    "def bincount(tens, length, dim=-1):\n",
    "  \"\"\"Count the number of ocurrences of each value along an axis.\"\"\"\n",
    "  mask = (tens[...].unsqueeze(-1) == torch.arange(length, device=tens.device)) # Last dimension will be broadcasted\n",
    "  return mask.count_nonzero(dim=dim-1 if dim < 0 else dim)"
   ]
  },
  {
   "cell_type": "code",
   "execution_count": 65,
   "metadata": {},
   "outputs": [
    {
     "data": {
      "image/png": "[encoded data removed]",
      "text/plain": [
       "<Figure size 200x200 with 1 Axes>"
      ]
     },
     "metadata": {},
     "output_type": "display_data"
    }
   ],
   "source": [
    "bncount_along_samples = bincount(train_samples, train_samples.max()+1, dim=0)\n",
    "bncount_along_samples.shape\n",
    "\n",
    "majority_voted_train = bncount_along_samples.argmax(-1)\n",
    "plt.figure(figsize=(2,2))\n",
    "plt.axis('off')\n",
    "plt.imshow(majority_voted_train[:,:,64].cpu(), interpolation='none', vmax=5)\n",
    "plt.show()"
   ]
  },
  {
   "cell_type": "code",
   "execution_count": 67,
   "metadata": {},
   "outputs": [],
   "source": [
    "test_dataset.eval()\n",
    "\n",
    "test_samples = []\n",
    "for sample in test_dataset:\n",
    "    test_samples.append(sample['label'])\n",
    "test_samples = torch.stack(test_samples)"
   ]
  },
  {
   "cell_type": "code",
   "execution_count": 70,
   "metadata": {},
   "outputs": [
    {
     "name": "stdout",
     "output_type": "stream",
     "text": [
      "torch.Size([10, 128, 128, 128])\n"
     ]
    },
    {
     "data": {
      "image/png": "[encoded data removed]",
      "text/plain": [
       "<Figure size 200x200 with 1 Axes>"
      ]
     },
     "metadata": {},
     "output_type": "display_data"
    }
   ],
   "source": [
    "print(test_samples.shape)\n",
    "plt.figure(figsize=(2,2))\n",
    "plt.axis('off')\n",
    "plt.imshow(test_samples.sum(0)[:,:,64].cpu(), interpolation='none')\n",
    "plt.show()"
   ]
  },
  {
   "cell_type": "code",
   "execution_count": 71,
   "metadata": {},
   "outputs": [
    {
     "name": "stdout",
     "output_type": "stream",
     "text": [
      "DICE tensor(0.6775, device='cuda:0')\n",
      "IOU tensor(0.5233, device='cuda:0')\n"
     ]
    }
   ],
   "source": [
    "print(\"DICE\", monai.metrics.compute_dice(\n",
    "    torch.nn.functional.one_hot(majority_voted_train).repeat(10,1,1,1,1).permute(0,4,1,2,3),\n",
    "    torch.nn.functional.one_hot(test_samples).permute(0,4,1,2,3)\n",
    ")[:,1:].mean())\n",
    "\n",
    "print(\"IOU\", monai.metrics.compute_iou(\n",
    "    torch.nn.functional.one_hot(majority_voted_train).repeat(10,1,1,1,1).permute(0,4,1,2,3),\n",
    "    torch.nn.functional.one_hot(test_samples).permute(0,4,1,2,3)\n",
    ")[:,1:].mean())"
   ]
  },
  {
   "cell_type": "code",
   "execution_count": 41,
   "metadata": {},
   "outputs": [
    {
     "data": {
      "image/png": "[encoded data removed]",
      "text/plain": [
       "<Figure size 200x200 with 1 Axes>"
      ]
     },
     "metadata": {},
     "output_type": "display_data"
    }
   ],
   "source": [
    "all_samples = torch.cat([train_samples, test_samples], dim=0)\n",
    "all_samples.shape\n",
    "\n",
    "all_bncount_along_samples = bincount(all_samples, train_samples.max()+1, dim=0)\n",
    "\n",
    "majority_voted_all = all_bncount_along_samples.argmax(-1)\n",
    "plt.figure(figsize=(2,2))\n",
    "plt.axis('off')\n",
    "plt.imshow(majority_voted_all[:,:,64].cpu(), interpolation='none', vmax=5)\n",
    "plt.show()"
   ]
  },
  {
   "cell_type": "code",
   "execution_count": 42,
   "metadata": {},
   "outputs": [
    {
     "name": "stdout",
     "output_type": "stream",
     "text": [
      "Dice tensor(0.7065, device='cuda:0')\n",
      "IOU tensor(0.5625, device='cuda:0')\n"
     ]
    }
   ],
   "source": [
    "print(\"Dice\", monai.metrics.compute_dice(\n",
    "    torch.nn.functional.one_hot(majority_voted_all).repeat(40,1,1,1,1).permute(0,4,1,2,3),\n",
    "    torch.nn.functional.one_hot(all_samples).permute(0,4,1,2,3)\n",
    ")[:,1:].mean())\n",
    "\n",
    "print(\"IOU\", monai.metrics.compute_iou(\n",
    "    torch.nn.functional.one_hot(majority_voted_all).repeat(40,1,1,1,1).permute(0,4,1,2,3),\n",
    "    torch.nn.functional.one_hot(all_samples).permute(0,4,1,2,3)\n",
    ")[:,1:].mean())"
   ]
  },
  {
   "cell_type": "code",
   "execution_count": null,
   "metadata": {},
   "outputs": [],
   "source": [
    "def calc_multilabel_staple_consensus(lbl_list):\n",
    "    staple_filter = sitk.MultiLabelSTAPLEImageFilter()\n",
    "    # sitk.ProcessObject.SetGlobalDefaultDebugOff()\n",
    "    staple_filter.SetMaximumNumberOfIterations(200)\n",
    "    staple_filter.SetLabelForUndecidedPixels(0)\n",
    "    sitk_moving_data = [sitk.GetImageFromArray(lbl.to_dense().numpy().astype(np.uint64)) for lbl in lbl_list]\n",
    "    \n",
    "    staple_out = staple_filter.Execute(sitk_moving_data)\n",
    "    consensus = torch.tensor(sitk.GetArrayFromImage(staple_out).astype(np.int64))\n",
    "\n",
    "    return consensus"
   ]
  },
  {
   "cell_type": "code",
   "execution_count": null,
   "metadata": {},
   "outputs": [],
   "source": [
    "stapled = calc_multilabel_staple_consensus([smp for smp in train_samples])"
   ]
  },
  {
   "cell_type": "code",
   "execution_count": null,
   "metadata": {},
   "outputs": [],
   "source": [
    "print(stapled.unique())\n",
    "plt.figure(figsize=(2,2))\n",
    "plt.axis('off')\n",
    "plt.imshow(stapled[:,:,64], interpolation='none', vmax=5)\n",
    "plt.show()"
   ]
  },
  {
   "cell_type": "code",
   "execution_count": null,
   "metadata": {},
   "outputs": [],
   "source": [
    "print(f\"testset vs. stapled: {dice3d(torch.nn.functional.one_hot(stapled).repeat(10,1,1,1,1),torch.nn.functional.one_hot(test_samples), one_hot_torch_style=True)[:,1:].mean().item()*100:.3f}%\")\n",
    "print(f\"testset vs. majority_voted: {dice3d(torch.nn.functional.one_hot(majority_voted).repeat(10,1,1,1,1),torch.nn.functional.one_hot(test_samples), one_hot_torch_style=True)[:,1:].mean().item()*100:.3f}%\")"
   ]
  },
  {
   "cell_type": "markdown",
   "metadata": {},
   "source": [
    "# Analyse latent space"
   ]
  },
  {
   "cell_type": "code",
   "execution_count": null,
   "metadata": {},
   "outputs": [],
   "source": [
    "from main_slice_inflate import run"
   ]
  },
  {
   "cell_type": "markdown",
   "metadata": {},
   "source": [
    "# OTHER"
   ]
  },
  {
   "cell_type": "code",
   "execution_count": null,
   "metadata": {},
   "outputs": [],
   "source": [
    "from scipy.ndimage import distance_transform_edt as distance\n",
    "import nibabel as nib\n",
    "import torch\n",
    "from matplotlib import pyplot as plt\n",
    "import numpy as np\n",
    "from slice_inflate.utils import torch_utils"
   ]
  },
  {
   "cell_type": "code",
   "execution_count": null,
   "metadata": {},
   "outputs": [],
   "source": [
    "nii_data = nib.load(\"/share/data_supergrover1/weihsbach/shared_data/tmp/slice_inflate/data/MMWHS/ct_train/ct_train_1004_label.nii.gz\")\n",
    "\n",
    "torch_data = torch.as_tensor(nii_data.get_fdata())\n",
    "_in = (torch_data > 0).float()\n",
    "\n",
    "print(_in.shape)"
   ]
  },
  {
   "cell_type": "code",
   "execution_count": null,
   "metadata": {},
   "outputs": [],
   "source": [
    "dt = torch_utils.calc_dist_map(_in.bool())"
   ]
  },
  {
   "cell_type": "code",
   "execution_count": null,
   "metadata": {},
   "outputs": [],
   "source": [
    "seg_boundary = torch_utils.get_seg_boundary(_in.view(1,1,512,512,200).bool())"
   ]
  },
  {
   "cell_type": "code",
   "execution_count": null,
   "metadata": {},
   "outputs": [],
   "source": [
    "plt.imshow(seg_boundary.squeeze()[:,:,100], interpolation='none')\n",
    "plt.colorbar()\n",
    "plt.show()"
   ]
  },
  {
   "cell_type": "code",
   "execution_count": null,
   "metadata": {},
   "outputs": [],
   "source": [
    "plt.imshow((dt * seg_boundary.squeeze().float().roll(20,1)).abs()[:,:,100], interpolation='none')\n",
    "plt.colorbar()\n",
    "plt.show()"
   ]
  },
  {
   "cell_type": "code",
   "execution_count": null,
   "metadata": {},
   "outputs": [],
   "source": []
  }
 ],
 "metadata": {
  "kernelspec": {
   "display_name": ".venv",
   "language": "python",
   "name": "python3"
  },
  "language_info": {
   "codemirror_mode": {
    "name": "ipython",
    "version": 3
   },
   "file_extension": ".py",
   "mimetype": "text/x-python",
   "name": "python",
   "nbconvert_exporter": "python",
   "pygments_lexer": "ipython3",
   "version": "3.9.13"
  },
  "orig_nbformat": 4,
  "vscode": {
   "interpreter": {
    "hash": "da46a6541ad1ebd554a6d91c7d93891a249a9a187bd5c787406972a8a9c6b0a8"
   }
  }
 },
 "nbformat": 4,
 "nbformat_minor": 2
}
